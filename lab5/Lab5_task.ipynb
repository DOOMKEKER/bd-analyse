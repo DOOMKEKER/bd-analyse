{
 "cells": [
  {
   "cell_type": "markdown",
   "metadata": {},
   "source": [
    "# Лабораторная работа № 5. Прогнозирование временного ряда на примере температуры блока усиления мощности."
   ]
  },
  {
   "cell_type": "markdown",
   "metadata": {},
   "source": [
    "В работе проводится обзор основных методов машинного обучения по прогнозированию временного ряда. В качестве примера рассмотрен ряд температур блока усиления мощности."
   ]
  },
  {
   "cell_type": "markdown",
   "metadata": {},
   "source": [
    "## Введение\n",
    "\n",
    "Современные радиолокационные станции (РЛС) – это структурно-сложные радиотехнические и информационные системы, характеризующиеся высокой надежностью функционирования и большим числом цифровых компонентов в своем составе. Одним из таких компонентов является блок усиления мощности (БУМ), задача которого усиливать передаваемый или принимаемый сигнал.\n",
    "\n",
    "Функционирование БУМ приводит к их нагреву, что может сказаться на снижении их работоспособности или даже привести к отказу.  Техническое состояние БУМ напрямую зависит от их температуры: при достижении определенного порога блок перестает работать и начинает охлаждаться. После охлаждения до определенной температуры он снова переходит в рабоспособное состояние.\n",
    "\n",
    "Основная задача, решаемая в рамках данной лабораторной работы - спрогнозировать будущее значение температуры блоков усиления мощности на основании истории их функционирования и режима работы блоков. Последний определяет тип сигнала, передаваемый на БУМ, а поэтому определяет интенсивность нагрева."
   ]
  },
  {
   "cell_type": "markdown",
   "metadata": {},
   "source": [
    "Существует 2 основных подхода к прогнозированию временного ряда методами машинного обучения. В обоих подходах обучающая выборка состоит из ретроспективных данных о функционировании блока. Отличие состоит в том, что выбирается в качестве целевой переменной. \n",
    "\n",
    "В первом подходе определяется значение временного ряда (температуры) на следующем отсчете времени (целевая переменная - 1-мерная). Тогда прогнозные значения на каком-то интервале времени будут получаться путем последовательного прогнозирования значения ряда на 1 временной отсчет. При этом ошибка неизбежно накапливается, поскольку каждое прогнозное значение имеет свою неустранимую ошибку.\n",
    "\n",
    "В другом подходе в качестве целевой переменной выбирается сразу интервал значений длиной *n* (целевая переменная *n*-мерная). Такой подход лишен недостатка в виде накопления ошибки, как в первом подходе. Однако, в этом случае сам метод прогнозирования сложнее и требует больших временных затрат и больших вычислительных мощностей.\n",
    "\n",
    "В данной лабораторной работе мы остановимся на первом подходе."
   ]
  },
  {
   "cell_type": "markdown",
   "metadata": {},
   "source": [
    "## Описание файла с данными"
   ]
  },
  {
   "cell_type": "markdown",
   "metadata": {},
   "source": [
    "Подключим стандартные пакеты для работы с данными и построения графиков"
   ]
  },
  {
   "cell_type": "code",
   "execution_count": 3,
   "metadata": {},
   "outputs": [],
   "source": [
    "import numpy as np\n",
    "import pandas as pd\n",
    "from matplotlib import pyplot as plt\n",
    "%matplotlib inline"
   ]
  },
  {
   "cell_type": "markdown",
   "metadata": {},
   "source": [
    "Загрузим файл с данными и выведем на экран первые 5 строк. Получим информацию по каждой колонке."
   ]
  },
  {
   "cell_type": "code",
   "execution_count": 4,
   "metadata": {},
   "outputs": [
    {
     "data": {
      "text/html": [
       "<div>\n",
       "<style scoped>\n",
       "    .dataframe tbody tr th:only-of-type {\n",
       "        vertical-align: middle;\n",
       "    }\n",
       "\n",
       "    .dataframe tbody tr th {\n",
       "        vertical-align: top;\n",
       "    }\n",
       "\n",
       "    .dataframe thead th {\n",
       "        text-align: right;\n",
       "    }\n",
       "</style>\n",
       "<table border=\"1\" class=\"dataframe\">\n",
       "  <thead>\n",
       "    <tr style=\"text-align: right;\">\n",
       "      <th></th>\n",
       "      <th>mode</th>\n",
       "      <th>temp1</th>\n",
       "      <th>temp2</th>\n",
       "      <th>temp3</th>\n",
       "    </tr>\n",
       "  </thead>\n",
       "  <tbody>\n",
       "    <tr>\n",
       "      <th>0</th>\n",
       "      <td>3</td>\n",
       "      <td>28.286114</td>\n",
       "      <td>28.043155</td>\n",
       "      <td>27.282141</td>\n",
       "    </tr>\n",
       "    <tr>\n",
       "      <th>1</th>\n",
       "      <td>4</td>\n",
       "      <td>34.142434</td>\n",
       "      <td>35.346311</td>\n",
       "      <td>34.829661</td>\n",
       "    </tr>\n",
       "    <tr>\n",
       "      <th>2</th>\n",
       "      <td>2</td>\n",
       "      <td>34.813586</td>\n",
       "      <td>36.781106</td>\n",
       "      <td>34.445407</td>\n",
       "    </tr>\n",
       "    <tr>\n",
       "      <th>3</th>\n",
       "      <td>4</td>\n",
       "      <td>39.946499</td>\n",
       "      <td>43.133120</td>\n",
       "      <td>40.372435</td>\n",
       "    </tr>\n",
       "    <tr>\n",
       "      <th>4</th>\n",
       "      <td>4</td>\n",
       "      <td>43.950857</td>\n",
       "      <td>47.014358</td>\n",
       "      <td>44.162152</td>\n",
       "    </tr>\n",
       "  </tbody>\n",
       "</table>\n",
       "</div>"
      ],
      "text/plain": [
       "   mode      temp1      temp2      temp3\n",
       "0     3  28.286114  28.043155  27.282141\n",
       "1     4  34.142434  35.346311  34.829661\n",
       "2     2  34.813586  36.781106  34.445407\n",
       "3     4  39.946499  43.133120  40.372435\n",
       "4     4  43.950857  47.014358  44.162152"
      ]
     },
     "execution_count": 4,
     "metadata": {},
     "output_type": "execute_result"
    }
   ],
   "source": [
    "df = pd.read_csv(\"Lab5_data.csv\")\n",
    "df.head()"
   ]
  },
  {
   "cell_type": "code",
   "execution_count": 5,
   "metadata": {},
   "outputs": [
    {
     "name": "stdout",
     "output_type": "stream",
     "text": [
      "<class 'pandas.core.frame.DataFrame'>\n",
      "RangeIndex: 1205950 entries, 0 to 1205949\n",
      "Data columns (total 4 columns):\n",
      " #   Column  Non-Null Count    Dtype  \n",
      "---  ------  --------------    -----  \n",
      " 0   mode    1205950 non-null  int64  \n",
      " 1   temp1   1205950 non-null  float64\n",
      " 2   temp2   1205950 non-null  float64\n",
      " 3   temp3   1205950 non-null  float64\n",
      "dtypes: float64(3), int64(1)\n",
      "memory usage: 36.8 MB\n"
     ]
    }
   ],
   "source": [
    "df.info()"
   ]
  },
  {
   "cell_type": "markdown",
   "metadata": {},
   "source": [
    "Первая колонка **mode** обозначает номер режима работы блоков. Этот режим определяет интенсивность нагрева блоков. Следующие 3 колонки содержат в себе информацию о температуре каждого из 3-х БУМ в каждый момент времени.\n",
    "\n",
    "Создадим 3 таблицы, содержащие информацию о режиме работы и температуры каждого из блоков."
   ]
  },
  {
   "cell_type": "code",
   "execution_count": 6,
   "metadata": {},
   "outputs": [
    {
     "name": "stderr",
     "output_type": "stream",
     "text": [
      "/home/amon/.local/lib/python3.8/site-packages/pandas/core/frame.py:5039: SettingWithCopyWarning: \n",
      "A value is trying to be set on a copy of a slice from a DataFrame\n",
      "\n",
      "See the caveats in the documentation: https://pandas.pydata.org/pandas-docs/stable/user_guide/indexing.html#returning-a-view-versus-a-copy\n",
      "  return super().rename(\n"
     ]
    }
   ],
   "source": [
    "# Напишите свой код здесь\n",
    "df1 = df.iloc[:,[0,1]]\n",
    "df1.rename(columns={\"temp1\":\"temp\"},inplace=True)\n",
    "df2 = df.iloc[:,[0,2]]\n",
    "df2.rename(columns={\"temp2\":\"temp\"},inplace=True)\n",
    "df3 = df.iloc[:,[0,3]]\n",
    "df3.rename(columns={\"temp3\":\"temp\"},inplace=True)"
   ]
  },
  {
   "cell_type": "code",
   "execution_count": 7,
   "metadata": {},
   "outputs": [
    {
     "data": {
      "text/html": [
       "<div>\n",
       "<style scoped>\n",
       "    .dataframe tbody tr th:only-of-type {\n",
       "        vertical-align: middle;\n",
       "    }\n",
       "\n",
       "    .dataframe tbody tr th {\n",
       "        vertical-align: top;\n",
       "    }\n",
       "\n",
       "    .dataframe thead th {\n",
       "        text-align: right;\n",
       "    }\n",
       "</style>\n",
       "<table border=\"1\" class=\"dataframe\">\n",
       "  <thead>\n",
       "    <tr style=\"text-align: right;\">\n",
       "      <th></th>\n",
       "      <th>mode</th>\n",
       "      <th>temp</th>\n",
       "    </tr>\n",
       "  </thead>\n",
       "  <tbody>\n",
       "    <tr>\n",
       "      <th>0</th>\n",
       "      <td>3</td>\n",
       "      <td>28.286114</td>\n",
       "    </tr>\n",
       "    <tr>\n",
       "      <th>1</th>\n",
       "      <td>4</td>\n",
       "      <td>34.142434</td>\n",
       "    </tr>\n",
       "    <tr>\n",
       "      <th>2</th>\n",
       "      <td>2</td>\n",
       "      <td>34.813586</td>\n",
       "    </tr>\n",
       "    <tr>\n",
       "      <th>3</th>\n",
       "      <td>4</td>\n",
       "      <td>39.946499</td>\n",
       "    </tr>\n",
       "    <tr>\n",
       "      <th>4</th>\n",
       "      <td>4</td>\n",
       "      <td>43.950857</td>\n",
       "    </tr>\n",
       "    <tr>\n",
       "      <th>...</th>\n",
       "      <td>...</td>\n",
       "      <td>...</td>\n",
       "    </tr>\n",
       "    <tr>\n",
       "      <th>1205945</th>\n",
       "      <td>2</td>\n",
       "      <td>18.943890</td>\n",
       "    </tr>\n",
       "    <tr>\n",
       "      <th>1205946</th>\n",
       "      <td>4</td>\n",
       "      <td>29.037470</td>\n",
       "    </tr>\n",
       "    <tr>\n",
       "      <th>1205947</th>\n",
       "      <td>2</td>\n",
       "      <td>30.074717</td>\n",
       "    </tr>\n",
       "    <tr>\n",
       "      <th>1205948</th>\n",
       "      <td>0</td>\n",
       "      <td>28.349375</td>\n",
       "    </tr>\n",
       "    <tr>\n",
       "      <th>1205949</th>\n",
       "      <td>2</td>\n",
       "      <td>28.493305</td>\n",
       "    </tr>\n",
       "  </tbody>\n",
       "</table>\n",
       "<p>1205950 rows × 2 columns</p>\n",
       "</div>"
      ],
      "text/plain": [
       "         mode       temp\n",
       "0           3  28.286114\n",
       "1           4  34.142434\n",
       "2           2  34.813586\n",
       "3           4  39.946499\n",
       "4           4  43.950857\n",
       "...       ...        ...\n",
       "1205945     2  18.943890\n",
       "1205946     4  29.037470\n",
       "1205947     2  30.074717\n",
       "1205948     0  28.349375\n",
       "1205949     2  28.493305\n",
       "\n",
       "[1205950 rows x 2 columns]"
      ]
     },
     "execution_count": 7,
     "metadata": {},
     "output_type": "execute_result"
    }
   ],
   "source": [
    "df1"
   ]
  },
  {
   "cell_type": "markdown",
   "metadata": {},
   "source": [
    "Активный **DataFrame** будем обозначать как **df**. Это позволит довольно легко применять различные методы прогноза для различных блоков без переписывания кода. Достаточно просто будет сделать активной какую-либо из 3-х таблиц."
   ]
  },
  {
   "cell_type": "code",
   "execution_count": 8,
   "metadata": {},
   "outputs": [
    {
     "data": {
      "image/png": "[encoded data removed]",
      "text/plain": [
       "<Figure size 432x288 with 1 Axes>"
      ]
     },
     "metadata": {
      "needs_background": "light"
     },
     "output_type": "display_data"
    }
   ],
   "source": [
    "df = df1\n",
    "\n",
    "plt.plot(df['temp'])\n",
    "plt.xlim(0,1000)\n",
    "plt.xlabel('Time')\n",
    "plt.ylabel('Temp')\n",
    "plt.show()"
   ]
  },
  {
   "cell_type": "markdown",
   "metadata": {},
   "source": [
    "## Анализ режимов работы"
   ]
  },
  {
   "cell_type": "markdown",
   "metadata": {},
   "source": [
    "Проанализируем, чем отличаются режимы друг от друга. Поскольку режим работы определяет интенсивность нагрева, то режимом работы определяется то, насколько изменилась температура за один отсчет времени, т.е. производная температуры по времени.\n",
    "\n",
    "Добавим в таблицу столбец, показывающий разность текущего значения температуры и в предыдущий отсчет времени."
   ]
  },
  {
   "cell_type": "code",
   "execution_count": 9,
   "metadata": {},
   "outputs": [],
   "source": [
    "# Напишите свой код здесь\n",
    "df[\"diff\"] = df[\"temp\"].diff()"
   ]
  },
  {
   "cell_type": "code",
   "execution_count": 10,
   "metadata": {},
   "outputs": [
    {
     "data": {
      "text/html": [
       "<div>\n",
       "<style scoped>\n",
       "    .dataframe tbody tr th:only-of-type {\n",
       "        vertical-align: middle;\n",
       "    }\n",
       "\n",
       "    .dataframe tbody tr th {\n",
       "        vertical-align: top;\n",
       "    }\n",
       "\n",
       "    .dataframe thead th {\n",
       "        text-align: right;\n",
       "    }\n",
       "</style>\n",
       "<table border=\"1\" class=\"dataframe\">\n",
       "  <thead>\n",
       "    <tr style=\"text-align: right;\">\n",
       "      <th></th>\n",
       "      <th>mode</th>\n",
       "      <th>temp</th>\n",
       "      <th>diff</th>\n",
       "    </tr>\n",
       "  </thead>\n",
       "  <tbody>\n",
       "    <tr>\n",
       "      <th>0</th>\n",
       "      <td>3</td>\n",
       "      <td>28.286114</td>\n",
       "      <td>NaN</td>\n",
       "    </tr>\n",
       "    <tr>\n",
       "      <th>1</th>\n",
       "      <td>4</td>\n",
       "      <td>34.142434</td>\n",
       "      <td>5.856320</td>\n",
       "    </tr>\n",
       "    <tr>\n",
       "      <th>2</th>\n",
       "      <td>2</td>\n",
       "      <td>34.813586</td>\n",
       "      <td>0.671153</td>\n",
       "    </tr>\n",
       "    <tr>\n",
       "      <th>3</th>\n",
       "      <td>4</td>\n",
       "      <td>39.946499</td>\n",
       "      <td>5.132913</td>\n",
       "    </tr>\n",
       "    <tr>\n",
       "      <th>4</th>\n",
       "      <td>4</td>\n",
       "      <td>43.950857</td>\n",
       "      <td>4.004358</td>\n",
       "    </tr>\n",
       "    <tr>\n",
       "      <th>...</th>\n",
       "      <td>...</td>\n",
       "      <td>...</td>\n",
       "      <td>...</td>\n",
       "    </tr>\n",
       "    <tr>\n",
       "      <th>1205945</th>\n",
       "      <td>2</td>\n",
       "      <td>18.943890</td>\n",
       "      <td>-0.028962</td>\n",
       "    </tr>\n",
       "    <tr>\n",
       "      <th>1205946</th>\n",
       "      <td>4</td>\n",
       "      <td>29.037470</td>\n",
       "      <td>10.093580</td>\n",
       "    </tr>\n",
       "    <tr>\n",
       "      <th>1205947</th>\n",
       "      <td>2</td>\n",
       "      <td>30.074717</td>\n",
       "      <td>1.037247</td>\n",
       "    </tr>\n",
       "    <tr>\n",
       "      <th>1205948</th>\n",
       "      <td>0</td>\n",
       "      <td>28.349375</td>\n",
       "      <td>-1.725342</td>\n",
       "    </tr>\n",
       "    <tr>\n",
       "      <th>1205949</th>\n",
       "      <td>2</td>\n",
       "      <td>28.493305</td>\n",
       "      <td>0.143930</td>\n",
       "    </tr>\n",
       "  </tbody>\n",
       "</table>\n",
       "<p>1205950 rows × 3 columns</p>\n",
       "</div>"
      ],
      "text/plain": [
       "         mode       temp       diff\n",
       "0           3  28.286114        NaN\n",
       "1           4  34.142434   5.856320\n",
       "2           2  34.813586   0.671153\n",
       "3           4  39.946499   5.132913\n",
       "4           4  43.950857   4.004358\n",
       "...       ...        ...        ...\n",
       "1205945     2  18.943890  -0.028962\n",
       "1205946     4  29.037470  10.093580\n",
       "1205947     2  30.074717   1.037247\n",
       "1205948     0  28.349375  -1.725342\n",
       "1205949     2  28.493305   0.143930\n",
       "\n",
       "[1205950 rows x 3 columns]"
      ]
     },
     "execution_count": 10,
     "metadata": {},
     "output_type": "execute_result"
    }
   ],
   "source": [
    "df"
   ]
  },
  {
   "cell_type": "markdown",
   "metadata": {},
   "source": [
    "Зададим функцию, которая выделяет из полученной таблицы значения температуры и ее производной для заданного режима работы."
   ]
  },
  {
   "cell_type": "code",
   "execution_count": 11,
   "metadata": {},
   "outputs": [],
   "source": [
    "def select_data(df, mode):\n",
    "    # Напишите свой код здесь\n",
    "    temp = df[df['mode']==mode].temp\n",
    "    delta_temp = df[df['mode']==mode].loc[:, 'diff']\n",
    "    return temp, delta_temp"
   ]
  },
  {
   "cell_type": "code",
   "execution_count": 12,
   "metadata": {},
   "outputs": [
    {
     "name": "stdout",
     "output_type": "stream",
     "text": [
      "1          34.142434\n",
      "3          39.946499\n",
      "4          43.950857\n",
      "9          47.147923\n",
      "12         53.034519\n",
      "             ...    \n",
      "1205921    52.014279\n",
      "1205926    41.067945\n",
      "1205929    36.221143\n",
      "1205933    31.203061\n",
      "1205946    29.037470\n",
      "Name: temp, Length: 241307, dtype: float64\n",
      "1           5.856320\n",
      "3           5.132913\n",
      "4           4.004358\n",
      "9           3.816860\n",
      "12          4.751731\n",
      "             ...    \n",
      "1205921    -2.342426\n",
      "1205926    -2.435070\n",
      "1205929    -2.129301\n",
      "1205933    -1.699790\n",
      "1205946    10.093580\n",
      "Name: diff, Length: 241307, dtype: float64\n"
     ]
    }
   ],
   "source": [
    "x, y = select_data(df, 4)\n",
    "print(x)\n",
    "print(y)"
   ]
  },
  {
   "cell_type": "markdown",
   "metadata": {},
   "source": [
    "Определим возможные режимы работы блоков."
   ]
  },
  {
   "cell_type": "code",
   "execution_count": 13,
   "metadata": {},
   "outputs": [
    {
     "data": {
      "text/html": [
       "<div>\n",
       "<style scoped>\n",
       "    .dataframe tbody tr th:only-of-type {\n",
       "        vertical-align: middle;\n",
       "    }\n",
       "\n",
       "    .dataframe tbody tr th {\n",
       "        vertical-align: top;\n",
       "    }\n",
       "\n",
       "    .dataframe thead th {\n",
       "        text-align: right;\n",
       "    }\n",
       "</style>\n",
       "<table border=\"1\" class=\"dataframe\">\n",
       "  <thead>\n",
       "    <tr style=\"text-align: right;\">\n",
       "      <th></th>\n",
       "      <th>mode</th>\n",
       "      <th>temp</th>\n",
       "      <th>diff</th>\n",
       "    </tr>\n",
       "  </thead>\n",
       "  <tbody>\n",
       "    <tr>\n",
       "      <th>0</th>\n",
       "      <td>3</td>\n",
       "      <td>28.286114</td>\n",
       "      <td>NaN</td>\n",
       "    </tr>\n",
       "    <tr>\n",
       "      <th>1</th>\n",
       "      <td>4</td>\n",
       "      <td>34.142434</td>\n",
       "      <td>5.856320</td>\n",
       "    </tr>\n",
       "    <tr>\n",
       "      <th>2</th>\n",
       "      <td>2</td>\n",
       "      <td>34.813586</td>\n",
       "      <td>0.671153</td>\n",
       "    </tr>\n",
       "    <tr>\n",
       "      <th>3</th>\n",
       "      <td>4</td>\n",
       "      <td>39.946499</td>\n",
       "      <td>5.132913</td>\n",
       "    </tr>\n",
       "    <tr>\n",
       "      <th>4</th>\n",
       "      <td>4</td>\n",
       "      <td>43.950857</td>\n",
       "      <td>4.004358</td>\n",
       "    </tr>\n",
       "    <tr>\n",
       "      <th>...</th>\n",
       "      <td>...</td>\n",
       "      <td>...</td>\n",
       "      <td>...</td>\n",
       "    </tr>\n",
       "    <tr>\n",
       "      <th>1205945</th>\n",
       "      <td>2</td>\n",
       "      <td>18.943890</td>\n",
       "      <td>-0.028962</td>\n",
       "    </tr>\n",
       "    <tr>\n",
       "      <th>1205946</th>\n",
       "      <td>4</td>\n",
       "      <td>29.037470</td>\n",
       "      <td>10.093580</td>\n",
       "    </tr>\n",
       "    <tr>\n",
       "      <th>1205947</th>\n",
       "      <td>2</td>\n",
       "      <td>30.074717</td>\n",
       "      <td>1.037247</td>\n",
       "    </tr>\n",
       "    <tr>\n",
       "      <th>1205948</th>\n",
       "      <td>0</td>\n",
       "      <td>28.349375</td>\n",
       "      <td>-1.725342</td>\n",
       "    </tr>\n",
       "    <tr>\n",
       "      <th>1205949</th>\n",
       "      <td>2</td>\n",
       "      <td>28.493305</td>\n",
       "      <td>0.143930</td>\n",
       "    </tr>\n",
       "  </tbody>\n",
       "</table>\n",
       "<p>1205950 rows × 3 columns</p>\n",
       "</div>"
      ],
      "text/plain": [
       "         mode       temp       diff\n",
       "0           3  28.286114        NaN\n",
       "1           4  34.142434   5.856320\n",
       "2           2  34.813586   0.671153\n",
       "3           4  39.946499   5.132913\n",
       "4           4  43.950857   4.004358\n",
       "...       ...        ...        ...\n",
       "1205945     2  18.943890  -0.028962\n",
       "1205946     4  29.037470  10.093580\n",
       "1205947     2  30.074717   1.037247\n",
       "1205948     0  28.349375  -1.725342\n",
       "1205949     2  28.493305   0.143930\n",
       "\n",
       "[1205950 rows x 3 columns]"
      ]
     },
     "execution_count": 13,
     "metadata": {},
     "output_type": "execute_result"
    }
   ],
   "source": [
    "df"
   ]
  },
  {
   "cell_type": "markdown",
   "metadata": {},
   "source": [
    "Построим 5 графиков, на каждом из которых отобразим характерные особенности каждого из режимов работы. Для этого будем по горизонтальной оси откладывать температуру блока, а по вертикальной оси - изменение температуры за один отсчет времени. Каждый временной отсчет будем откладывать в виде точки на этих графиках."
   ]
  },
  {
   "cell_type": "code",
   "execution_count": 14,
   "metadata": {},
   "outputs": [
    {
     "data": {
      "image/png": "[encoded data removed]",
      "text/plain": [
       "<Figure size 1440x288 with 5 Axes>"
      ]
     },
     "metadata": {
      "needs_background": "light"
     },
     "output_type": "display_data"
    }
   ],
   "source": [
    "plt.figure(figsize=(20,4))\n",
    "for mode in range(5):\n",
    "    plt.subplot(1,5,mode+1)\n",
    "    x, y = select_data(df, mode)\n",
    "    plt.scatter(x, y, s=2)\n",
    "    plt.title('Mode '+str(mode))\n",
    "    plt.xlabel('T')\n",
    "    if mode == 0:\n",
    "        plt.ylabel('dT')\n",
    "plt.show()"
   ]
  },
  {
   "cell_type": "markdown",
   "metadata": {},
   "source": [
    "Проанализируем полученные характеристики каждого из режимов работы. Прежде всего на всех графиках присутствует область с изменением температуры от -3 до -1 и температурой от 25 до 70, что соответствует охлаждению блока. В этом состоянии блок не работает, режимы работы не сказываются на температуре блока, поэтому эти области можно исключить из рассмотрени.\n",
    "\n",
    "Сравнение изменений температур в остальных областях позволяет сделать вывод, что в режиме 0 происходит всегда охлаждение, в режиме 1 - хаотически нагрев и охлаждение, в режимах 2 - 4 - нагрев, при этом увеличение номера режима соответствует увеличению интенсивности нагрева. "
   ]
  },
  {
   "cell_type": "markdown",
   "metadata": {},
   "source": [
    "## Подготовка данных"
   ]
  },
  {
   "cell_type": "markdown",
   "metadata": {},
   "source": [
    "### Нормирование"
   ]
  },
  {
   "cell_type": "markdown",
   "metadata": {},
   "source": [
    "Температура, записанная в таблице **df** измеряется в градусах Цельсия. Однако для применения линейных моделей машинного обучения крайне важно нормировать данные, чтобы ограничить их максимальные и минимальные значения. Отнормируем значения температуры на отрезок \\[0,1\\]. Сохраненные значения **max_value** и **min_value** позволят после выполнения прогноза вернуться к реальным значениям температуры.  "
   ]
  },
  {
   "cell_type": "code",
   "execution_count": 15,
   "metadata": {},
   "outputs": [],
   "source": [
    "def normalize(series):\n",
    "    # Напишите свой код здесь\n",
    "    max_value, min_value = series.agg([np.max, np.min])\n",
    "    normalized = ((series-min_value)/(max_value-min_value))\n",
    "    return normalized, max_value, min_value"
   ]
  },
  {
   "cell_type": "code",
   "execution_count": 16,
   "metadata": {},
   "outputs": [
    {
     "name": "stdout",
     "output_type": "stream",
     "text": [
      "69.93618753150871 9.506900741705726\n"
     ]
    }
   ],
   "source": [
    "dfc = df.copy()\n",
    "max_value, min_value = dfc.temp.agg([np.max, np.min])\n",
    "print(max_value, min_value)"
   ]
  },
  {
   "cell_type": "code",
   "execution_count": 17,
   "metadata": {},
   "outputs": [
    {
     "data": {
      "text/plain": [
       "(0.0, 100.0)"
      ]
     },
     "execution_count": 17,
     "metadata": {},
     "output_type": "execute_result"
    },
    {
     "data": {
      "image/png": "[encoded data removed]",
      "text/plain": [
       "<Figure size 432x288 with 1 Axes>"
      ]
     },
     "metadata": {
      "needs_background": "light"
     },
     "output_type": "display_data"
    }
   ],
   "source": [
    "dfc.temp = ((df.temp-min_value)/(max_value-min_value))\n",
    "plt.plot(dfc.temp)\n",
    "plt.xlim(0,100)"
   ]
  },
  {
   "cell_type": "code",
   "execution_count": 18,
   "metadata": {},
   "outputs": [
    {
     "data": {
      "text/plain": [
       "(0.0, 100.0)"
      ]
     },
     "execution_count": 18,
     "metadata": {},
     "output_type": "execute_result"
    },
    {
     "data": {
      "image/png": "[encoded data removed]",
      "text/plain": [
       "<Figure size 432x288 with 1 Axes>"
      ]
     },
     "metadata": {
      "needs_background": "light"
     },
     "output_type": "display_data"
    }
   ],
   "source": [
    "plt.plot(df.temp)\n",
    "plt.xlim(0,100)"
   ]
  },
  {
   "cell_type": "code",
   "execution_count": 19,
   "metadata": {},
   "outputs": [],
   "source": [
    "normalized, max_value, min_value = normalize(df['temp'])\n",
    "df.loc[:,'temp'] = normalized"
   ]
  },
  {
   "cell_type": "markdown",
   "metadata": {},
   "source": [
    "### Создание тестовой выборки"
   ]
  },
  {
   "cell_type": "markdown",
   "metadata": {},
   "source": [
    "В качестве тестовой выборки будем использовать последовательность значений температур определенной длины **seq_length** и режим работы в конце этой последовательности. При этом стоит обратить внимание на то, что режим работы в какой-то временной отсчет $mode_i$ определяет значение температуры в тот же самый отсчет времени $T_i$. Поэтому обучающая выборка должна состоять из значений:\n",
    "\n",
    "$$\n",
    "X = \\{T_{N-seq\\_length+1}, ..., T_{N-1}, T_{N}, mode_{N+1}\\}.\n",
    "$$\n",
    "\n",
    "В то время как целевая переменная является просто последующим значением температуры:\n",
    "\n",
    "$$\n",
    "y = T_{N+1}.\n",
    "$$\n",
    "\n",
    "Напишем функцию, которая будет создавать обучающую и тестовую выборку объемом **N**, где длина обучающей последовательности равна **seq_length**."
   ]
  },
  {
   "cell_type": "code",
   "execution_count": 20,
   "metadata": {},
   "outputs": [],
   "source": [
    "def get_sequences(df, N, seq_length):\n",
    "    if N + seq_length > len(df) - 1:\n",
    "        N = len(df) - seq_length - 1\n",
    "    X = np.append(df.temp[0:seq_length] , df[\"mode\"][seq_length])\n",
    "    Y = np.array(df[\"temp\"][seq_length])\n",
    "    pos = 2\n",
    "    while pos < N:\n",
    "        X = np.vstack(( X, np.append(df.temp[pos:pos+seq_length,], df[\"mode\"][pos+seq_length]) ))\n",
    "        Y = np.hstack(( Y, df[\"temp\"][pos+seq_length]))\n",
    "        pos = pos + 1\n",
    "    return X, Y\n",
    "\n",
    "# def get_sequences(df, N, seq_length):     \n",
    "#     if N + seq_length > len(df) - 1:         \n",
    "#         N = len(df) - seq_length - 1     \n",
    "#     X = None     \n",
    "#     y = None     \n",
    "#     pos = 1     \n",
    "#     while pos < N:         \n",
    "#         seq = np.append(df.loc[pos:pos+seq_length-1, 'temp'].values, df.loc[pos+seq_length, 'mode'].astype('float64'))         \n",
    "#         X = np.vstack((X, seq)) if X is not None else seq         \n",
    "#         y_val = df.loc[pos+seq_length, 'temp'].astype('float64')         \n",
    "#         y = np.append(y, y_val) if y is not None else np.array(y_val)         \n",
    "#         pos += 1     \n",
    "#     return X, y\n"
   ]
  },
  {
   "cell_type": "markdown",
   "metadata": {},
   "source": [
    "Создадим обучающую и тестовую выборки"
   ]
  },
  {
   "cell_type": "code",
   "execution_count": 21,
   "metadata": {},
   "outputs": [
    {
     "name": "stdout",
     "output_type": "stream",
     "text": [
      "CPU times: user 3.76 s, sys: 3.26 ms, total: 3.76 s\n",
      "Wall time: 3.77 s\n"
     ]
    }
   ],
   "source": [
    "size = 10000\n",
    "seq_length = 40\n",
    "\n",
    "%time X, y = get_sequences(df, size, seq_length)"
   ]
  },
  {
   "cell_type": "markdown",
   "metadata": {},
   "source": [
    "### Кросс-валидация"
   ]
  },
  {
   "cell_type": "markdown",
   "metadata": {},
   "source": [
    "Для использования моделей машинного обучения с учителем необходимо специальным образом подготовить данные: сформировать обучающую выборку, на которой модель будет \"учиться\", т.е. подстраивать свои внутренние параметры, тестовую выборку, на которой будет определяться точность модели в процессе ее обучения, а также валидационную выборку, на которой проверяется итогое качество работы модели. \n",
    "\n",
    "Вместо выделения валидационной выборки можно использовать механизм кросс-валидации.В основе метода лежит разделение исходного множества данных на **k** примерно равных блоков, например 5. Затем на **k-1**, т.е. на 4-х блоках, производится обучение модели, а 5-й блок используется для тестирования. Процедура повторяется **k** раз, при этом на каждом проходе для проверки выбирается новый блок, а обучение производится на оставшихся.\n",
    "![Cross-validation](https://wiki.loginom.ru/images/cross-validation.svg)"
   ]
  },
  {
   "cell_type": "markdown",
   "metadata": {},
   "source": [
    "Кросс-валидация имеет два основных преимущества перед применением одного множества для обучения и одного для тестирования модели:\n",
    "\n",
    "- Распределение классов оказывается более равномерным, что улучшает качество обучения.\n",
    "- Если при каждом проходе оценить выходную ошибку модели и усреднить ее по всем проходам, то полученная оценка будет более достоверной.\n",
    "\n",
    "В дальнейшем в этой лабораторной работе будем использовать разбиение на 5 блоков с помощью метода **[KFold](https://scikit-learn.org/stable/modules/generated/sklearn.model_selection.KFold.html?highlight=k%20fold#sklearn.model_selection.KFold 'KFold')**."
   ]
  },
  {
   "cell_type": "code",
   "execution_count": 22,
   "metadata": {},
   "outputs": [
    {
     "name": "stdout",
     "output_type": "stream",
     "text": [
      "Fold 1\n",
      "Train index:  [   0    1    3 ... 9995 9996 9998]\n",
      "Test index:  [   2    6   15 ... 9988 9991 9997]\n",
      "Fold 2\n",
      "Train index:  [   0    1    2 ... 9996 9997 9998]\n",
      "Test index:  [   7    8   11 ... 9971 9973 9974]\n",
      "Fold 3\n",
      "Train index:  [   0    1    2 ... 9995 9997 9998]\n",
      "Test index:  [   4    5   12 ... 9992 9994 9996]\n",
      "Fold 4\n",
      "Train index:  [   1    2    3 ... 9996 9997 9998]\n",
      "Test index:  [   0    9   14 ... 9983 9989 9993]\n",
      "Fold 5\n",
      "Train index:  [   0    2    4 ... 9994 9996 9997]\n",
      "Test index:  [   1    3   10 ... 9986 9995 9998]\n"
     ]
    }
   ],
   "source": [
    "from sklearn.model_selection import KFold\n",
    "\n",
    "kf = KFold(n_splits=5, shuffle=True)\n",
    "\n",
    "for i, (train_index, test_index) in enumerate(kf.split(X), start=1):\n",
    "    print('Fold {}'.format(i))\n",
    "    print('Train index: ', train_index)\n",
    "    print('Test index: ', test_index)"
   ]
  },
  {
   "cell_type": "markdown",
   "metadata": {},
   "source": [
    "## Линейные модели машинного обучения"
   ]
  },
  {
   "cell_type": "markdown",
   "metadata": {},
   "source": [
    "Задача прогнозирования температуры является задачей регрессии. Среди линейных моделей будем использовать линейную регрессию, линейную регрессию с L1 и L2-регуляризацией, а также логистическую регрессию. Подробное описание работы этих моделей можно прочитать на сайте [Scikit Learn](https://scikit-learn.org/stable/modules/linear_model.html 'Scikit Learn')."
   ]
  },
  {
   "cell_type": "markdown",
   "metadata": {},
   "source": [
    "Сделаем процесс обучения различных моделей универсальным. Для этого напишем функцию **regr_mape(y_pred, y_test)**, которая будет считать точность спрогнизорованных значений температуры как средний по выборке модуль ошибки прогноза (метрика **MAPE**):\n",
    "\n",
    "$$\n",
    "MAPE = \\dfrac{1}{N}\\sum^{N}_{i=1}|y^{pred}_i-y^{test}_i|\n",
    "$$\n",
    "\n",
    "Также напишем функцию **train(model, model_name, evaluate, kfold, X, y)**, которая будет обучать заданную модель **model** с использованием механизма кросс-валидации **kfold**. Переменная **evaluate** обозначает метод, который используется для оценки точности пронозных значений (например, **regr_mape()**)."
   ]
  },
  {
   "cell_type": "code",
   "execution_count": 23,
   "metadata": {},
   "outputs": [],
   "source": [
    "from sklearn.metrics import mean_absolute_percentage_error"
   ]
  },
  {
   "cell_type": "code",
   "execution_count": 24,
   "metadata": {},
   "outputs": [],
   "source": [
    "def regr_mape(y_pred, y_test):\n",
    "    # Напишите свой код здесь\n",
    "    mape = np.abs(y_pred - y_test).sum() / len(y_pred)\n",
    "    return mape\n",
    "\n",
    "def train(model, model_name, evaluate, kfold, X, y):\n",
    "#     print('Train model: '+model_name)\n",
    "#     scores = []\n",
    "#     for train_index, test_index in kfold.split(X):\n",
    "#         model.fit(X[train_index], y[train_index])\n",
    "#         y_pred = model.predict(X[test_index])\n",
    "#         scores.append(evaluate(y_pred,y[test_index]))\n",
    "#         return y_pred\n",
    "#     mean_score = np.mean(scores)\n",
    "#     print('Mape score = {:.5f}'.format(mean_score))\n",
    "#     return mean_score\n",
    "    print('Train model: '+model_name)\n",
    "    scores = []\n",
    "    for train_index, test_index in kfold.split(X):\n",
    "        # Напишите свой код здесь\n",
    "        X_train, X_test = X[train_index,:], X[test_index,:]\n",
    "        y_train, y_test = y[train_index], y[test_index]\n",
    "        model.fit(X_train, y_train)\n",
    "        y_pred = model.predict(X_test)\n",
    "        score = evaluate(y_pred, y_test)\n",
    "        scores.append(score)\n",
    "    mean_score = np.mean(scores)\n",
    "    print('Mean score = {:.5f}'.format(mean_score))\n",
    "    return mean_score"
   ]
  },
  {
   "cell_type": "markdown",
   "metadata": {},
   "source": [
    "### Линейная регрессия"
   ]
  },
  {
   "cell_type": "markdown",
   "metadata": {},
   "source": [
    "В линейных моделях целевая переменная $\\hat{y}$ определяется как линейная комбинация известных переменных (признаков):\n",
    "\n",
    "$$\\hat{y}(w, x) = w_0 + w_1 x_1 + ... + w_p x_p$$\n",
    "\n",
    "В модели линейной регрессии коэффициенты $w = (w_1, ..., w_p)$ подбираются таким образом, чтобы минимизировать сумму квадратов отклонений рассчитанных значений целевой переменной от истинных значений:\n",
    "\n",
    "$$\\min_{w} || X w - y||_2^2$$\n",
    "\n",
    "Важно отметить, что линейные модели чувствительны к абсолютным значениям признаков, поэтому следует перед применением линейных моделей провести нормирование исходных данных (обычно на интервал \\[0,1\\]). Также применение линейных моделей основано на предположении о линейной независимости признаков, поэтому следует стараться не использовать в качестве признаков коррелированные признаки. В противном случае модель будет чувствительна к шумам, т.е. случайным выбросам в значениях признаков."
   ]
  },
  {
   "cell_type": "markdown",
   "metadata": {},
   "source": [
    "Создадим и обучим модель **[LinearRegression](https://scikit-learn.org/stable/modules/generated/sklearn.linear_model.LinearRegression.html#sklearn.linear_model.LinearRegression 'LinearRegression')**. Запишем точность модели в словарь **scores**."
   ]
  },
  {
   "cell_type": "code",
   "execution_count": 25,
   "metadata": {},
   "outputs": [
    {
     "name": "stdout",
     "output_type": "stream",
     "text": [
      "Train model: linear regression\n",
      "Mean score = 0.01975\n",
      "Train model: linear regression\n",
      "Mean score = 0.01977\n"
     ]
    }
   ],
   "source": [
    "from sklearn import linear_model\n",
    "\n",
    "lin_reg = linear_model.LinearRegression()\n",
    "\n",
    "scores = dict()\n",
    "\n",
    "score = train(lin_reg, 'linear regression', regr_mape, kf, X, y)\n",
    "scores['linear regression'] = score"
   ]
  },
  {
   "cell_type": "markdown",
   "metadata": {},
   "source": [
    "### Линейная регрессия c L1 и L2 регуляризацией"
   ]
  },
  {
   "cell_type": "markdown",
   "metadata": {},
   "source": [
    "Если размер обучающей выборки невелик, а число признаков, наоборот, достаточно велико, то коэффициенты модели могут быть подобраны таким образом, чтобы модель максимально точно учитывала все точки из обучающей выборки, при этом вне обучающей выборки модель будет давать большую ошибку. Это явление носит название переобучения. Одним из способов препятствовать переобучению является механизмы регуляризации. Он ограничивает значения коэффицентов $w = (w_1, ..., w_p)$, используемых в модели.\n",
    "\n",
    "L1-регуляризация вносит дополнительный \"штраф\", пропорциональный модулю значения коэффициента:\n",
    "$$\\min_{w} ||X w - y||_2 ^ 2 + \\alpha ||w||_1$$\n",
    "\n",
    "L2-регуляризация вносит дополнительный \"штраф\", пропорциональный квадрату модуля значения коэффициента:\n",
    "$$\\min_{w} || X w - y||_2^2 + \\alpha ||w||_2^2$$\n",
    "\n",
    "Параметр $\\alpha$ задает \"силу\" регуляризации. L1-регуляризация приведет к тому, что все несущественные признаки будут иметь вес, равный 0. L2-регуляризация приведет к тому, что несущественные признаки будут иметь околонулевые веса. Продемонстрируем это на примере. Создадим и обучим модели **[Lasso](https://scikit-learn.org/stable/modules/generated/sklearn.linear_model.Lasso.html#sklearn.linear_model.Lasso 'Lasso')** (L1-регуляризация) и **[Ridge](https://scikit-learn.org/stable/modules/generated/sklearn.linear_model.Ridge.html#sklearn.linear_model.Ridge 'Ridge')** (L2-регуляризация)."
   ]
  },
  {
   "cell_type": "code",
   "execution_count": 26,
   "metadata": {},
   "outputs": [
    {
     "name": "stdout",
     "output_type": "stream",
     "text": [
      "Alpha = 0.0001\n",
      "Train model: lasso\n",
      "Mean score = 0.01979\n",
      "Alpha = 0.001\n",
      "Train model: lasso\n",
      "Mean score = 0.02170\n",
      "Alpha = 0.01\n",
      "Train model: lasso\n",
      "Mean score = 0.05527\n",
      "Alpha = 0.1\n",
      "Train model: lasso\n",
      "Mean score = 0.13987\n",
      "Alpha = 1\n",
      "Train model: lasso\n",
      "Mean score = 0.13988\n"
     ]
    },
    {
     "data": {
      "text/plain": [
       "0.13988262346655936"
      ]
     },
     "execution_count": 26,
     "metadata": {},
     "output_type": "execute_result"
    }
   ],
   "source": [
    "# Обучим модель для различных значений параметра регуляризации. Затем выберем оптимальное значение\n",
    "for alpha in [1e-4, 1e-3, 0.01, 0.1, 1]:\n",
    "    print('Alpha = {}'.format(alpha))\n",
    "    lasso = linear_model.Lasso(alpha=alpha)\n",
    "    score = train(lasso, 'lasso', regr_mape, kf, X, y)\n",
    "score"
   ]
  },
  {
   "cell_type": "code",
   "execution_count": 27,
   "metadata": {},
   "outputs": [
    {
     "name": "stdout",
     "output_type": "stream",
     "text": [
      "Train model: lasso\n",
      "Mean score = 0.01980\n"
     ]
    }
   ],
   "source": [
    "# Выберите оптимальное значение параметра, обучите модель и добавьте значения метрики качества в словарь\n",
    "lasso = linear_model.Lasso(alpha=0.0001)\n",
    "\n",
    "score = train(lasso, 'lasso', regr_mape, kf, X, y)\n",
    "scores['lasso'] = score\n",
    "# print('Coefficients: ', lasso.coef_)"
   ]
  },
  {
   "cell_type": "code",
   "execution_count": 28,
   "metadata": {},
   "outputs": [],
   "source": [
    "from sklearn.model_selection import GridSearchCV\n",
    "from sklearn.model_selection import train_test_split\n",
    "\n",
    "X_train, X_test, y_train, y_test = train_test_split(X, y, test_size=0.2)\n"
   ]
  },
  {
   "cell_type": "code",
   "execution_count": 29,
   "metadata": {},
   "outputs": [
    {
     "name": "stdout",
     "output_type": "stream",
     "text": [
      "Alpha = [0.0001, 0.001, 0.01, 0.1, 1]\n",
      "Fitting 5 folds for each of 5 candidates, totalling 25 fits\n",
      "[CV 1/5; 1/5] START alpha=0.0001................................................\n",
      "[CV 1/5; 1/5] END .................alpha=0.0001;, score=0.976 total time=   0.0s\n",
      "[CV 2/5; 1/5] START alpha=0.0001................................................\n",
      "[CV 2/5; 1/5] END .................alpha=0.0001;, score=0.975 total time=   0.0s\n",
      "[CV 3/5; 1/5] START alpha=0.0001................................................\n",
      "[CV 3/5; 1/5] END .................alpha=0.0001;, score=0.975 total time=   0.0s\n",
      "[CV 4/5; 1/5] START alpha=0.0001................................................\n",
      "[CV 4/5; 1/5] END .................alpha=0.0001;, score=0.974 total time=   0.0s\n",
      "[CV 5/5; 1/5] START alpha=0.0001................................................\n",
      "[CV 5/5; 1/5] END .................alpha=0.0001;, score=0.975 total time=   0.0s\n",
      "[CV 1/5; 2/5] START alpha=0.001.................................................\n",
      "[CV 1/5; 2/5] END ..................alpha=0.001;, score=0.976 total time=   0.0s\n",
      "[CV 2/5; 2/5] START alpha=0.001.................................................\n",
      "[CV 2/5; 2/5] END ..................alpha=0.001;, score=0.975 total time=   0.0s\n",
      "[CV 3/5; 2/5] START alpha=0.001.................................................\n",
      "[CV 3/5; 2/5] END ..................alpha=0.001;, score=0.975 total time=   0.0s\n",
      "[CV 4/5; 2/5] START alpha=0.001.................................................\n",
      "[CV 4/5; 2/5] END ..................alpha=0.001;, score=0.974 total time=   0.0s\n",
      "[CV 5/5; 2/5] START alpha=0.001.................................................\n",
      "[CV 5/5; 2/5] END ..................alpha=0.001;, score=0.975 total time=   0.0s\n",
      "[CV 1/5; 3/5] START alpha=0.01..................................................\n",
      "[CV 1/5; 3/5] END ...................alpha=0.01;, score=0.976 total time=   0.0s\n",
      "[CV 2/5; 3/5] START alpha=0.01..................................................\n",
      "[CV 2/5; 3/5] END ...................alpha=0.01;, score=0.975 total time=   0.0s\n",
      "[CV 3/5; 3/5] START alpha=0.01..................................................\n",
      "[CV 3/5; 3/5] END ...................alpha=0.01;, score=0.975 total time=   0.0s\n",
      "[CV 4/5; 3/5] START alpha=0.01..................................................\n",
      "[CV 4/5; 3/5] END ...................alpha=0.01;, score=0.974 total time=   0.0s\n",
      "[CV 5/5; 3/5] START alpha=0.01..................................................\n",
      "[CV 5/5; 3/5] END ...................alpha=0.01;, score=0.975 total time=   0.0s\n",
      "[CV 1/5; 4/5] START alpha=0.1...................................................\n",
      "[CV 1/5; 4/5] END ....................alpha=0.1;, score=0.976 total time=   0.0s\n",
      "[CV 2/5; 4/5] START alpha=0.1...................................................\n",
      "[CV 2/5; 4/5] END ....................alpha=0.1;, score=0.975 total time=   0.0s\n",
      "[CV 3/5; 4/5] START alpha=0.1...................................................\n",
      "[CV 3/5; 4/5] END ....................alpha=0.1;, score=0.975 total time=   0.0s\n",
      "[CV 4/5; 4/5] START alpha=0.1...................................................\n",
      "[CV 4/5; 4/5] END ....................alpha=0.1;, score=0.974 total time=   0.0s\n",
      "[CV 5/5; 4/5] START alpha=0.1...................................................\n",
      "[CV 5/5; 4/5] END ....................alpha=0.1;, score=0.975 total time=   0.0s\n",
      "[CV 1/5; 5/5] START alpha=1.....................................................\n",
      "[CV 1/5; 5/5] END ......................alpha=1;, score=0.976 total time=   0.0s\n",
      "[CV 2/5; 5/5] START alpha=1.....................................................\n",
      "[CV 2/5; 5/5] END ......................alpha=1;, score=0.975 total time=   0.0s\n",
      "[CV 3/5; 5/5] START alpha=1.....................................................\n",
      "[CV 3/5; 5/5] END ......................alpha=1;, score=0.974 total time=   0.0s\n",
      "[CV 4/5; 5/5] START alpha=1.....................................................\n",
      "[CV 4/5; 5/5] END ......................alpha=1;, score=0.974 total time=   0.0s\n",
      "[CV 5/5; 5/5] START alpha=1.....................................................\n",
      "[CV 5/5; 5/5] END ......................alpha=1;, score=0.975 total time=   0.0s\n",
      "Coefficients:  {'alpha': 0.01}\n"
     ]
    }
   ],
   "source": [
    "# Обучим модель Ridge для различных значениfrom sklearn.model_selection import GridSearchCV\n",
    "alpha = [1e-4, 1e-3, 0.01, 0.1, 1]\n",
    "print('Alpha = {}'.format(alpha))\n",
    "\n",
    "ridge = GridSearchCV(linear_model.Ridge(),\n",
    "                            [{'alpha': alpha}],\n",
    "                            cv=5,\n",
    "                            verbose=10)\n",
    "ridge.fit(X_train, y_train)\n"
   ]
  },
  {
   "cell_type": "code",
   "execution_count": 30,
   "metadata": {},
   "outputs": [
    {
     "name": "stdout",
     "output_type": "stream",
     "text": [
      "Train model: ridge\n",
      "Mean score = 0.01975\n"
     ]
    },
    {
     "data": {
      "text/plain": [
       "0.019752099797890322"
      ]
     },
     "execution_count": 30,
     "metadata": {},
     "output_type": "execute_result"
    }
   ],
   "source": [
    "# Выберите оптимальное значение параметра, обучите модель и добавьте значения метрики качества в словарь\n",
    "ridge = linear_model.Ridge(alpha = 0.1)\n",
    "score = train(ridge, 'ridge', regr_mape, kf, X, y)\n",
    "scores['ridge'] = score\n",
    "score\n",
    "\n"
   ]
  },
  {
   "cell_type": "markdown",
   "metadata": {},
   "source": [
    "Наглядно видно, что **Lasso** для параметра $\\alpha>0.1$ просто занулила все коэффициенты, давая всегда прогноз 0. Конечно, такая работа модели нас не устраивает. "
   ]
  },
  {
   "cell_type": "markdown",
   "metadata": {},
   "source": [
    "## Наглядное изображение прогнозных значений"
   ]
  },
  {
   "cell_type": "markdown",
   "metadata": {},
   "source": [
    "Давайте посмотрим, какие значения будет выдавать модель, если попросить ее прогнозировать последовательно **forecast_size** значений температуры. Для этого напишем функцию **seq_forecast(model, sample, future_modes)**, которая для заданной модели **model** на основании начального элемента из обучающей выборки **sample** и будущих режимов работы **future_modes** будет последовательно прогнозировать значение температуры в следующий момент времени. Поэтому после очередного спрогнозированного значения температуры необходимо в **sample** добавить это значение, а также новый режим работы.\n",
    "\n",
    "Функция **plot_forecast(init_temp, true_temp, forecast_temp)** будет наглядно изображать начальный временной ряд **init_temp**, реальное **true_temp** и спрогнозированное **forecast_temp** значения температур в последующие отсчеты времени. Параметр **model_name** обозначает название модели и будет отображаться в названии рисунка."
   ]
  },
  {
   "cell_type": "code",
   "execution_count": 42,
   "metadata": {},
   "outputs": [],
   "source": [
    "def seq_forecast(model, sample, future_modes):\n",
    "    init_size = len(sample)\n",
    "    pred = model.predict(sample.reshape(1, -1))\n",
    "    y_pred = [pred[0]]\n",
    "    for new_mode in future_modes:\n",
    "        sample[-1] = pred[0]\n",
    "        sample = np.append(sample[1:], new_mode)\n",
    "        pred = model.predict(sample.reshape(1, -1))\n",
    "        y_pred.append(pred[0])\n",
    "    return y_pred[:-1]\n",
    "\n",
    "def plot_forecast(init_temp, true_temp, forecast_temp, model_name):\n",
    "    plt.figure(figsize=(5,5))\n",
    "    x1 = np.linspace(start=0, stop=len(init_temp), num=len(init_temp), endpoint=False)\n",
    "    x2 = np.linspace(start=len(init_temp), stop=len(init_temp)+len(true_temp), num=len(true_temp), endpoint=False)\n",
    "    plt.plot(x1, init_temp, c='black')\n",
    "    plt.plot(x2, true_temp, c='red', label='true')\n",
    "    plt.plot(x2, forecast_temp, c='red', linestyle='--', label='pred')\n",
    "    plt.legend()\n",
    "    plt.xlabel('timestamp')\n",
    "    plt.ylabel('normalized temp')\n",
    "    plt.title(model_name)\n",
    "    plt.show()"
   ]
  },
  {
   "cell_type": "markdown",
   "metadata": {},
   "source": [
    "Посмотрим на прогнозы линейных моделей"
   ]
  },
  {
   "cell_type": "code",
   "execution_count": 48,
   "metadata": {},
   "outputs": [
    {
     "data": {
      "image/png": "[encoded data removed]",
      "text/plain": [
       "<Figure size 360x360 with 1 Axes>"
      ]
     },
     "metadata": {
      "needs_background": "light"
     },
     "output_type": "display_data"
    }
   ],
   "source": [
    "y_pred = seq_forecast(lin_reg, X[0].copy(), df.loc[2+seq_length:1+2*seq_length, 'mode'])\n",
    "plot_forecast(X[0][:seq_length], X[seq_length][:seq_length], y_pred, 'lin_reg')"
   ]
  },
  {
   "cell_type": "code",
   "execution_count": 52,
   "metadata": {},
   "outputs": [
    {
     "data": {
      "image/png": "[encoded data removed]",
      "text/plain": [
       "<Figure size 360x360 with 1 Axes>"
      ]
     },
     "metadata": {
      "needs_background": "light"
     },
     "output_type": "display_data"
    }
   ],
   "source": [
    "# Постройте анаолгичный график для модели Ridge\n",
    "y_pred = seq_forecast(ridge, X[0].copy(), df.loc[2+seq_length:1+2*seq_length, 'mode'])\n",
    "plot_forecast(X[0][:seq_length], X[seq_length][:seq_length], y_pred, 'ridge')"
   ]
  },
  {
   "cell_type": "markdown",
   "metadata": {},
   "source": [
    "**Вывод:** сделайте вывод"
   ]
  },
  {
   "cell_type": "markdown",
   "metadata": {},
   "source": [
    "## Метод опорных векторов"
   ]
  },
  {
   "cell_type": "markdown",
   "metadata": {},
   "source": [
    "Этот метод применим для решения как задач классификации, так и регрессии, и кластеризации. Основными достоинствами метода являются:\n",
    "\n",
    "- эффективность при большой размерности пространства признаков\n",
    "- в процессе обучения запоминается только подвыборка обучающей выборки - опорные вектора, т.е. требует меньший объем памяти\n",
    "- можно применять разные ядра (kernels) для формирования модели\n",
    "\n",
    "Недостатком метода опорных векторов является то, что в случае, когда размерность пространства признаков много больше объема обучающей выборки, на результат работы модели сильно влияет выбор ядра. Также этот метод не позволяет быстро и просто получить вероятность прогноза.\n",
    "\n",
    "С математической точки зрения, метод опорных векторов проводит гипер-плоскость, которая разделяет один класс от другого. При этом граница проводится так, что быть расположенной максимально далеко от каждой из точек.\n",
    "![SVC](https://scikit-learn.org/stable/_images/sphx_glr_plot_separating_hyperplane_0011.png)\n",
    "\n",
    "Функция ядра определяет, какие признаки будут использоваться в качестве переменных в гиперпространстве, в котором проводится гипер-плоскость. Например, для линейного ядра $\\langle x, x'\\rangle$ берутся исходные признаки, для полиномиального ядра - полиномы от исходных признаков $(\\gamma \\langle x, x'\\rangle + r)^d$, для radial-basis-function (rbf) - экспоненциальная функция $\\exp(-\\gamma \\|x-x'\\|^2)$.\n",
    "\n",
    "Построим модель Support Vector Regression - [**SVR**](https://scikit-learn.org/stable/modules/generated/sklearn.svm.SVR.html#sklearn.svm.SVR 'SVR') для различных ядер. Заранее уменьшим размер выборки, что позволит проводить обучения в разумное время (метод опорных векторов довольно долго обучается)."
   ]
  },
  {
   "cell_type": "code",
   "execution_count": 53,
   "metadata": {},
   "outputs": [],
   "source": [
    "from sklearn.svm import SVR\n",
    "X_svr = X[:10000, :]\n",
    "y_svr = y[:10000]\n",
    "\n",
    "# X_svc = X.iloc[:10000, :]\n",
    "# y_svc = y[:10000]\n",
    "\n",
    "X_train_svc, X_test_svc, y_train_svc, y_test_svc = train_test_split(X_svr, y_svr, test_size=0.2)\n",
    "# напишите здесь ваш код"
   ]
  },
  {
   "cell_type": "code",
   "execution_count": 58,
   "metadata": {},
   "outputs": [
    {
     "name": "stderr",
     "output_type": "stream",
     "text": [
      "/home/amon/.local/lib/python3.8/site-packages/sklearn/model_selection/_search.py:969: UserWarning: One or more of the test scores are non-finite: [nan nan nan nan nan nan nan nan nan nan nan nan nan nan nan nan nan nan]\n",
      "  warnings.warn(\n"
     ]
    },
    {
     "name": "stdout",
     "output_type": "stream",
     "text": [
      "{'C': 1.0, 'kernel': 'poly'}\n"
     ]
    }
   ],
   "source": [
    "# Подберите оптимальное значение параметра регуляризации C и типа ядра (rbf, poly и т.д.). \n",
    "# Добавьте качество модели для оптимальных параметров в словарь.\n",
    "svc_l = SVR()\n",
    "\n",
    "param_grid = {\n",
    "    'C': np.linspace(1,1,6),\n",
    "    'kernel': ['poly', 'rbf', 'sigmoid'],\n",
    "}\n",
    "\n",
    "search_svc = GridSearchCV(svc_l, param_grid, n_jobs=-1, cv=5, refit=True, scoring='accuracy')\n",
    "search_svc.fit(X_train_svc, y_train_svc)\n",
    "print(search_svc.best_params_)"
   ]
  },
  {
   "cell_type": "code",
   "execution_count": 81,
   "metadata": {},
   "outputs": [
    {
     "name": "stdout",
     "output_type": "stream",
     "text": [
      "Train model: svr\n",
      "Mean score = 0.03828\n"
     ]
    },
    {
     "data": {
      "text/plain": [
       "0.03827859052594522"
      ]
     },
     "execution_count": 81,
     "metadata": {},
     "output_type": "execute_result"
    }
   ],
   "source": [
    "# svr = search_svc.best_estimator_\n",
    "\n",
    "svr = SVR(C=1, kernel='poly')\n",
    "score = train(svr, 'svr', regr_mape, kf, X, y)\n",
    "\n",
    "# score = train(svr, 'svr', regr_mape, kf, X, y)\n",
    "scores['svr'] = score\n",
    "score"
   ]
  },
  {
   "cell_type": "markdown",
   "metadata": {},
   "source": [
    "Посмотрим на результаты прогноза (постройте график)"
   ]
  },
  {
   "cell_type": "code",
   "execution_count": 82,
   "metadata": {},
   "outputs": [
    {
     "data": {
      "image/png": "[encoded data removed]",
      "text/plain": [
       "<Figure size 360x360 with 1 Axes>"
      ]
     },
     "metadata": {
      "needs_background": "light"
     },
     "output_type": "display_data"
    }
   ],
   "source": [
    "# Напишите свой код здесь\n",
    "y_pred = seq_forecast(svr, X[0].copy(), df.loc[2+seq_length:1+2*seq_length, 'mode'])\n",
    "plot_forecast(X[0][:seq_length], X[seq_length][:seq_length], y_pred, 'svr')"
   ]
  },
  {
   "cell_type": "markdown",
   "metadata": {},
   "source": [
    "**Вывод:** сделайте вывод"
   ]
  },
  {
   "cell_type": "markdown",
   "metadata": {},
   "source": [
    "## Дерево решений"
   ]
  },
  {
   "cell_type": "markdown",
   "metadata": {},
   "source": [
    "В модели дерева решений (Decision Tree) в процессе обучения строится алгоритм, по которому выполняется прогноз модели. При этом алгоритм представляет из себя дерево, каждый лист которого - это проверка на то, что какой-либо признак из обучающей выборки принимает определенное значение. Пример дерева решений приведен на рисунке ниже.\n",
    "![Decision Tree](https://scikit-learn.org/stable/_images/sphx_glr_plot_iris_dtc_0021.png)\n",
    "\n",
    "Преимуществами такого метода являются:\n",
    "- простота визуализации и хорошая интерпретируемость алгоритма прогноза\n",
    "- не требуется нормализация данных\n",
    "- скорость прогноза пропорциональна логарифму объема выборки, т.е. этот метод быстрый\n",
    "- может обрабатывать как числовые, так и категориальные данные\n",
    "\n",
    "Недостатками метода являются:\n",
    "- деревья легко переобучаются\n",
    "- небольшие изменения в обучающей выборке могут привести к перестойке всего дерева, т.е. метод нестабилен\n",
    "- предсказания деревьев являются кусочно-постоянными, поэтому не годятся для экстраполирования\n",
    "- требуется сбалансировать обучающую выборку по классам, чтобы не допустить \"перекоса\" дерева в сторону какого-либо класса\n",
    "\n",
    "Конкретную математическую реализалицаю алгоритма построения дерева решений можно изучить, например, [здесь.](https://scikit-learn.org/stable/modules/tree.html)\n",
    "\n",
    "Создадим модель [**DecisionTreeRegressor**](https://scikit-learn.org/stable/modules/generated/sklearn.tree.DecisionTreeRegressor.html#sklearn.tree.DecisionTreeRegressor 'DecisionTreeRegressor') и обучим ее. Для того, чтобы предотвратить переобучение дерева, обычно ограничивается максимальная глубина дерева - параметр **max_depth**, а также минимальное число элементов из обучающей выборки, приходящееся на определнный лист, чтобы можно было с него сделать новое ветвление - параметр **min_samples_split**."
   ]
  },
  {
   "cell_type": "code",
   "execution_count": 86,
   "metadata": {},
   "outputs": [
    {
     "name": "stdout",
     "output_type": "stream",
     "text": [
      "Fitting 5 folds for each of 2 candidates, totalling 10 fits\n"
     ]
    },
    {
     "name": "stderr",
     "output_type": "stream",
     "text": [
      "/home/amon/.local/lib/python3.8/site-packages/sklearn/model_selection/_search.py:969: UserWarning: One or more of the test scores are non-finite: [nan nan]\n",
      "  warnings.warn(\n"
     ]
    },
    {
     "data": {
      "text/plain": [
       "GridSearchCV(cv=5, estimator=DecisionTreeRegressor(), n_jobs=-1,\n",
       "             param_grid={'max_depth': array([1, 2]),\n",
       "                         'min_samples_leaf': array([2]),\n",
       "                         'min_samples_split': array([2])},\n",
       "             scoring=<function regr_mape at 0x7fd3d82ec310>, verbose=10)"
      ]
     },
     "execution_count": 86,
     "metadata": {},
     "output_type": "execute_result"
    }
   ],
   "source": [
    "from sklearn.tree import DecisionTreeRegressor\n",
    "\n",
    "# Определите оптимальное значение параметра max_depth, min_samples_split и min_samples_leaf\n",
    "# Добавьте качество модели для оптимальных параметров в словарь.\n",
    "param_grid = {\n",
    "    'max_depth': np.arange(1,3),\n",
    "    'min_samples_split': np.arange(2, 3),\n",
    "    'min_samples_leaf' : np.arange(2, 3),\n",
    "}\n",
    "\n",
    "search_tree = GridSearchCV(DecisionTreeRegressor(), param_grid, n_jobs=-1, cv=5, refit=True, scoring=regr_mape, verbose=10)\n",
    "search_tree.fit(X_train, y_train)"
   ]
  },
  {
   "cell_type": "code",
   "execution_count": 87,
   "metadata": {},
   "outputs": [
    {
     "name": "stdout",
     "output_type": "stream",
     "text": [
      "{'max_depth': 1, 'min_samples_leaf': 2, 'min_samples_split': 2}\n",
      "Train model: ridge\n",
      "Mean score = 0.07914\n"
     ]
    },
    {
     "data": {
      "text/plain": [
       "0.07913723445033252"
      ]
     },
     "execution_count": 87,
     "metadata": {},
     "output_type": "execute_result"
    }
   ],
   "source": [
    "# print(search_tree.best_params_)\n",
    "# dtr = search_svc.best_estimator_\n",
    "\n",
    "dtr = DecisionTreeRegressor(max_depth=1,min_samples_leaf=2,min_samples_split=2)\n",
    "score = train(dtr, 'dtr', regr_mape, kf, X, y)\n",
    "\n",
    "# score = train(svr, 'svr', regr_mape, kf, X, y)\n",
    "# scores['svr'] = score\n",
    "# score\n",
    "\n",
    "# score = train(dtr, 'ridge', regr_mape, kf, X, y)\n",
    "scores['dtr'] = score\n",
    "score"
   ]
  },
  {
   "cell_type": "markdown",
   "metadata": {},
   "source": [
    "Посмотрим на результаты прогноза (постройте график)"
   ]
  },
  {
   "cell_type": "code",
   "execution_count": 71,
   "metadata": {},
   "outputs": [
    {
     "data": {
      "image/png": "[encoded data removed]",
      "text/plain": [
       "<Figure size 360x360 with 1 Axes>"
      ]
     },
     "metadata": {
      "needs_background": "light"
     },
     "output_type": "display_data"
    }
   ],
   "source": [
    "# Напишите свой код здесь\n",
    "y_pred = seq_forecast(dtr, X[0].copy(), df.loc[2+seq_length:1+2*seq_length, 'mode'])\n",
    "plot_forecast(X[0][:seq_length], X[seq_length][:seq_length], y_pred, 'dtr')"
   ]
  },
  {
   "cell_type": "markdown",
   "metadata": {},
   "source": [
    "**Вывод:** сделайте вывод"
   ]
  },
  {
   "cell_type": "markdown",
   "metadata": {},
   "source": [
    "## Сравнение различных моделей"
   ]
  },
  {
   "cell_type": "markdown",
   "metadata": {},
   "source": [
    "Отобразим на графике точность работы каждой построенной модели. Для этого будем использовать значения из словаря **scores**."
   ]
  },
  {
   "cell_type": "code",
   "execution_count": null,
   "metadata": {},
   "outputs": [],
   "source": [
    "plt.figure(figsize=(10,5))\n",
    "xx = list(scores.keys())\n",
    "yy = list(scores.values())\n",
    "rects = plt.bar(xx, yy)\n",
    "plt.ylim(0, 0.2)\n",
    "plt.ylabel('MAPE')\n",
    "for i, rect in enumerate(rects):\n",
    "    yloc = rect.get_height()\n",
    "    xloc = rect.get_x() + rect.get_width() / 4\n",
    "    plt.annotate(round(yy[i], 4), xy=(xloc, yloc), xytext=(xloc, 10),\n",
    "                            textcoords=\"offset points\",\n",
    "                            va='center',\n",
    "                            color='black', clip_on=True)"
   ]
  },
  {
   "cell_type": "markdown",
   "metadata": {},
   "source": [
    "Для наглядности еще раз продемонстрируем результаты прогноза каждой из построенной модели, но на существенно более длительном интервале времени."
   ]
  },
  {
   "cell_type": "code",
   "execution_count": null,
   "metadata": {},
   "outputs": [],
   "source": [
    "models = [lin_reg, svr, dtr]\n",
    "model_names = ['linear regr', 'svr', 'decision tree']\n",
    "\n",
    "# Глубина прогноза\n",
    "pred_length = 5*seq_length\n",
    "\n",
    "for model, model_name in zip(models,model_names):\n",
    "    # Напишите свой код здесь\n",
    "    print(model_name+' MAPE: ', regr_mape(y_true, y_pred))"
   ]
  },
  {
   "cell_type": "markdown",
   "metadata": {},
   "source": [
    "## Выводы"
   ]
  },
  {
   "cell_type": "markdown",
   "metadata": {},
   "source": [
    "Сделайте выводы"
   ]
  },
  {
   "cell_type": "markdown",
   "metadata": {},
   "source": [
    "В дальнешем мы остановимся на методе *Decision Tree* и попробуем сделать прогноз еще более точным с использованием ансамблевых моделей."
   ]
  }
 ],
 "metadata": {
  "kernelspec": {
   "display_name": "Python 3",
   "language": "python",
   "name": "python3"
  },
  "language_info": {
   "codemirror_mode": {
    "name": "ipython",
    "version": 3
   },
   "file_extension": ".py",
   "mimetype": "text/x-python",
   "name": "python",
   "nbconvert_exporter": "python",
   "pygments_lexer": "ipython3",
   "version": "3.8.10"
  }
 },
 "nbformat": 4,
 "nbformat_minor": 4
}
