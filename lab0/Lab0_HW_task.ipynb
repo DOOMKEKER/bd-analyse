{
 "cells": [
  {
   "cell_type": "markdown",
   "metadata": {
    "id": "mu3yEoEzabYS"
   },
   "source": [
    "# Лабораторная работа № 0. Введение в язык программирования Python. Домашнее задание."
   ]
  },
  {
   "cell_type": "markdown",
   "metadata": {},
   "source": [
    "## 1. Базовый уровень"
   ]
  },
  {
   "cell_type": "markdown",
   "metadata": {
    "id": "fmIsD_8fabYc"
   },
   "source": [
    "### Задание 1.1\n",
    "\n",
    "Напишите функцию *limited_sum(my_list, n)*, которая принимает список чисел *my_list* (количество товаров разных марок) и число *n* и возвращает сумму всех чисел списка меньше либо равных *n* (суммарное количество товаров, которых в наличие меньше либо равно *n*)."
   ]
  },
  {
   "cell_type": "code",
   "execution_count": 1,
   "metadata": {
    "id": "nwocC1q0abYe"
   },
   "outputs": [],
   "source": [
    "def limited_sum(my_list, n):\n",
    "    sum = 0;\n",
    "    for x in my_list:\n",
    "        if x <= n:\n",
    "            sum += x;\n",
    "    return sum"
   ]
  },
  {
   "cell_type": "code",
   "execution_count": 2,
   "metadata": {
    "id": "VfvOQYhgabYi"
   },
   "outputs": [
    {
     "name": "stdout",
     "output_type": "stream",
     "text": [
      "True\n",
      "True\n",
      "True\n",
      "True\n",
      "True\n"
     ]
    }
   ],
   "source": [
    "print(limited_sum([1, 2, 3, 4, 5, 6, 3, 7], 7) == 31)\n",
    "print(limited_sum([1, 2, 3, 4, 4, 3, 2, 1], 7) == 20)\n",
    "print(limited_sum([1, 2, 3, 4, 4, 3, 2, 1], 3) == 12)\n",
    "print(limited_sum([1, 2, 3, 4, 5, 6, 3, 7], 5) == 18)\n",
    "print(limited_sum([1, 2, 3, 4, 5, 6, 3, 7], 3) == 9)"
   ]
  },
  {
   "cell_type": "markdown",
   "metadata": {},
   "source": [
    "### Задание 1.2\n",
    "\n",
    "Напишите функцию *factorial(n)*, принимающую число *n* и рассчитывающую его факториал.\n",
    "\n",
    "$n! = 1 \\cdot 2 \\cdot 3 \\cdot \\dots \\cdot (n - 1) \\cdot n$"
   ]
  },
  {
   "cell_type": "code",
   "execution_count": 4,
   "metadata": {},
   "outputs": [
    {
     "ename": "IndentationError",
     "evalue": "unindent does not match any outer indentation level (<tokenize>, line 13)",
     "output_type": "error",
     "traceback": [
      "\u001b[0;36m  File \u001b[0;32m\"<tokenize>\"\u001b[0;36m, line \u001b[0;32m13\u001b[0m\n\u001b[0;31m    while(n):\u001b[0m\n\u001b[0m    ^\u001b[0m\n\u001b[0;31mIndentationError\u001b[0m\u001b[0;31m:\u001b[0m unindent does not match any outer indentation level\n"
     ]
    }
   ],
   "source": [
    "def factorial(n):\n",
    "    fac = 13\n",
    "5 \tКонтрольное мероприятие (КМ.2)\n",
    "Проверка практического задания 2\n",
    "\t\n",
    "10\n",
    "\t5\n",
    "7 \tКонтрольное мероприятие (КМ.3)\n",
    "Проверка практического задания 3\n",
    "\t\n",
    "10\n",
    "\t0\n",
    "    while(n):\n",
    "        fac*=n\n",
    "        n=n-1\n",
    "    return fac"
   ]
  },
  {
   "cell_type": "code",
   "execution_count": null,
   "metadata": {},
   "outputs": [
    {
     "name": "stdout",
     "output_type": "stream",
     "text": [
      "True\n",
      "True\n",
      "True\n",
      "True\n"
     ]
    }
   ],
   "source": [
    "print(factorial(3) == 6)\n",
    "print(factorial(5) == 120)\n",
    "print(factorial(9) == 362880)\n",
    "print(factorial(13) == 6227020800)"
   ]
  },
  {
   "cell_type": "markdown",
   "metadata": {},
   "source": [
    "### Задание 1.3\n",
    "\n",
    "Пользователь делает вклад в размере *a* рублей сроком на *years* лет под *n* % годовых (каждый год размер его вклада увеличивается на *n* %. Эти деньги прибавляются к сумме вклада, и на них в следующем году тоже будут проценты). Написать функцию *bank(a, years, n)*, возвращающую сумму, которая будет на счету пользователя."
   ]
  },
  {
   "cell_type": "code",
   "execution_count": null,
   "metadata": {},
   "outputs": [],
   "source": [
    "def bank(a, years, n):\n",
    "    return round(a*(1+(n/100))**years,2)"
   ]
  },
  {
   "cell_type": "code",
   "execution_count": null,
   "metadata": {},
   "outputs": [
    {
     "name": "stdout",
     "output_type": "stream",
     "text": [
      "True\n",
      "True\n",
      "True\n",
      "True\n",
      "True\n"
     ]
    }
   ],
   "source": [
    "print(bank(1000, 0, 10) == 1000)\n",
    "print(bank(1000, 1, 10) == 1100)\n",
    "print(bank(1000, 2, 10) == 1210)\n",
    "print(bank(1000, 3, 10) == 1331)\n",
    "print(bank(1000, 4, 10) == 1464.1)"
   ]
  },
  {
   "cell_type": "markdown",
   "metadata": {},
   "source": [
    "### Задание 1.4\n",
    "\n",
    "Написать функцию *is_prime(num)*, принимающую 1 аргумент *num* — число от 0 до 1000, и возвращающую *True*, если оно простое, и *False* - иначе."
   ]
  },
  {
   "cell_type": "code",
   "execution_count": null,
   "metadata": {},
   "outputs": [],
   "source": [
    "def is_prime(num):\n",
    "    n = int(num / 2)\n",
    "    if(n==0):\n",
    "        return False\n",
    "    for i in range(2,n):\n",
    "        if((num%i) == 0):\n",
    "            return False\n",
    "    return True"
   ]
  },
  {
   "cell_type": "code",
   "execution_count": null,
   "metadata": {},
   "outputs": [
    {
     "name": "stdout",
     "output_type": "stream",
     "text": [
      "True\n",
      "True\n",
      "True\n",
      "True\n",
      "True\n"
     ]
    },
    {
     "data": {
      "text/plain": [
       "14.0"
      ]
     },
     "execution_count": 362,
     "metadata": {},
     "output_type": "execute_result"
    }
   ],
   "source": [
    "print(is_prime(1) == False)\n",
    "print(is_prime(2) == True)\n",
    "print(is_prime(17) == True)\n",
    "print(is_prime(63) == False)\n",
    "print(is_prime(41) == True)\n",
    "42/3"
   ]
  },
  {
   "cell_type": "markdown",
   "metadata": {},
   "source": [
    "### Задание 1.5\n",
    "\n",
    "Написать функцию *has_dup(my_list)*, которая принимает на вход список *my_list* и возвращает *True*, если список содержит дубликаты, и *False*, если дубликатов нет."
   ]
  },
  {
   "cell_type": "code",
   "execution_count": null,
   "metadata": {},
   "outputs": [],
   "source": [
    "def has_dup(my_list):\n",
    "    for i in range(0,len(my_list)):\n",
    "        for j in range(i + 1,len(my_list)):\n",
    "            if(my_list[i] == my_list[j]):\n",
    "                return True\n",
    "    return False"
   ]
  },
  {
   "cell_type": "code",
   "execution_count": null,
   "metadata": {},
   "outputs": [
    {
     "name": "stdout",
     "output_type": "stream",
     "text": [
      "True\n",
      "True\n",
      "True\n",
      "True\n",
      "True\n"
     ]
    }
   ],
   "source": [
    "print(has_dup([1,2,3,4,5]) == False)\n",
    "print(has_dup([1,2,3,3,5]) == True)\n",
    "print(has_dup([1,2,3,4,'one','two','three','four']) == False)\n",
    "print(has_dup([11,2,35,4,55,15,17,3,4,35,1]) == True)\n",
    "print(has_dup([1,2,3,4,'one','two','three','four','one']) == True)"
   ]
  },
  {
   "cell_type": "markdown",
   "metadata": {},
   "source": [
    "### Задание 1.6\n",
    "\n",
    "На основании 3-х исходных множеств (передаются в качестве аргументов функции *diff(set1, set2, set3)*) требуется написать функцию, которая будет возвращать либо симметричную разность, либо просто разность (если дополнительный аргумент функции *symmetric* имеет значение *False*) приведенных объектов в порядке: 1-ое множество, 2-ое множество, 3-е множество."
   ]
  },
  {
   "cell_type": "code",
   "execution_count": null,
   "metadata": {},
   "outputs": [],
   "source": [
    "def diff(set1, set2, set3, symmetric = True):\n",
    "    set4 = set({})\n",
    "    for x in set1:\n",
    "        if( (x in set2 or x in set3) == False):\n",
    "            set4.add(x);\n",
    "            if(symmetric):\n",
    "                for x in set2:\n",
    "                    if( (x in set1 or x in set3) == False):\n",
    "                        set4.add(x);\n",
    "                for x in set3:\n",
    "                    if( (x in set1 or x in set2) == False):\n",
    "                        set4.add(x);\n",
    "    return set4"
   ]
  },
  {
   "cell_type": "code",
   "execution_count": null,
   "metadata": {},
   "outputs": [
    {
     "name": "stdout",
     "output_type": "stream",
     "text": [
      "True\n",
      "True\n"
     ]
    }
   ],
   "source": [
    "set1 = {3, 4, 5, 6, 20}\n",
    "set2 = {4, 6, 7, 8, 9}\n",
    "set3 = {5, 3, 8, 1}\n",
    "\n",
    "print(diff(set1, set2, set3) == {1, 20, 7, 9})\n",
    "print(diff(set1, set2, set3, symmetric = False) == {20})"
   ]
  },
  {
   "cell_type": "markdown",
   "metadata": {},
   "source": [
    "### Задание 1.7\n",
    "\n",
    "Есть два списка чисел: *list1* - цены товаров в одном магазине - и *list2* - цены товаров в другом магазине. Напишите функцию *compare_prices(list1, list2)*, которая будет сравнивать средние цены (среднее берётся по всем товарам), минимальные и максимальные цены в магазинах. Если первое значение меньше, то надо вернуть 'First', если второе, то 'Second', а если равны, то 'Equal'."
   ]
  },
  {
   "cell_type": "code",
   "execution_count": null,
   "metadata": {},
   "outputs": [],
   "source": [
    "def compare_prices(list1, list2):\n",
    "    \n",
    "    ans = list()\n",
    "    \n",
    "    l1 = list()\n",
    "    l2 = list()\n",
    "    \n",
    "    l1.append(sum(list1)/len(list1))\n",
    "    l2.append(sum(list2)/len(list2))\n",
    "    \n",
    "    l1.append(min(list1))\n",
    "    l2.append(min(list2))\n",
    "    \n",
    "    l1.append(max(list1))\n",
    "    l2.append(max(list2))\n",
    "    \n",
    "    for i in range(0,3):\n",
    "        if(l1[i]>=l2[i]):\n",
    "            if(l1[i]==l2[i]):\n",
    "                ans.append(\"Equal\")\n",
    "            else:\n",
    "                ans.append(\"Second\")\n",
    "        else:\n",
    "            ans.append(\"First\")\n",
    "        \n",
    "    return ans"
   ]
  },
  {
   "cell_type": "code",
   "execution_count": null,
   "metadata": {},
   "outputs": [
    {
     "name": "stdout",
     "output_type": "stream",
     "text": [
      "True\n",
      "True\n",
      "True\n",
      "True\n"
     ]
    }
   ],
   "source": [
    "print(compare_prices([1, 2, 3], [2, 2, 2]) == ['Equal', 'First', 'Second'])\n",
    "print(compare_prices([2, 2, 1], [4]) == ['First', 'First', 'First'])\n",
    "print(compare_prices([3, 5], [2, 4, 6]) == ['Equal', 'Second', 'First'])\n",
    "print(compare_prices([1, 7], [2, 4, 7]) == ['First', 'First', 'Equal'])"
   ]
  },
  {
   "cell_type": "markdown",
   "metadata": {
    "id": "FJirOh5HabYz"
   },
   "source": [
    "## 2. Продвинутый уровень"
   ]
  },
  {
   "cell_type": "markdown",
   "metadata": {
    "id": "OaKCHvhLabY0"
   },
   "source": [
    "### Задание 2.1\n",
    "\n",
    "Имеется список пар (фамилия, долг) *my_list* и число *dept*. Нужно написать функцию *sorted_dept(my_list, dept)*, которая для каждой фамилии находит суммарный долг, сортирует фамилии в порядке уменьшения суммарного долга и выводит отсортированный список фамилий, у которых долг строго больше *dept*. Одна и та же фамилия может встречаться несколько раз, и тогда долги по ней суммируются."
   ]
  },
  {
   "cell_type": "code",
   "execution_count": null,
   "metadata": {
    "id": "5F2VPgTzabY0"
   },
   "outputs": [],
   "source": [
    "def sorted_dept(my_list, dept):\n",
    "    dic = dict()\n",
    "    for x in my_list:\n",
    "        if(x[0] in dic):\n",
    "            dic.update({x[0]:dic[x[0]] + x[1]})\n",
    "        else:\n",
    "            dic[x[0]]= x[1]\n",
    "\n",
    "    ndic = dict()\n",
    "    ndic = dic.copy()\n",
    "    \n",
    "    for x in dic:\n",
    "        if(dic[x]<=dept):\n",
    "            ndic.pop(x)\n",
    "\n",
    "    ndic = sorted(ndic.items(), key=lambda x:x[1], reverse=True)\n",
    "    sortdict = dict(ndic)\n",
    "    return list(sortdict.keys())"
   ]
  },
  {
   "cell_type": "code",
   "execution_count": null,
   "metadata": {
    "id": "YeON3qj7abY1"
   },
   "outputs": [
    {
     "name": "stdout",
     "output_type": "stream",
     "text": [
      "True\n",
      "True\n",
      "True\n",
      "True\n",
      "True\n",
      "True\n"
     ]
    }
   ],
   "source": [
    "print(sorted_dept([('Ivanov', 1), ('Petrov', 2), ('Ivanov', 1), ('Sidorov', 4)], 1) == ['Sidorov', 'Ivanov', 'Petrov'])\n",
    "print(sorted_dept([('Ivanov', 1), ('Petrov', 2), ('Ivanov', 2), ('Sidorov', 4)], 2) == ['Sidorov', 'Ivanov'])\n",
    "print(sorted_dept([('Ivanov', 1), ('Petrov', 2), ('Ivanov', 2), ('Sidorov', 4)], 3) == ['Sidorov'])\n",
    "print(sorted_dept([('Ivanov', 1), ('Petrov', 2), ('Ivanov', 2), ('Sidorov', 4)], 4) == [])\n",
    "print(sorted_dept([('Ivanov', 1), ('Petrov', 2), ('Ivanov', 2), ('Petrov', 4)], 2) == ['Petrov', 'Ivanov'])\n",
    "print(sorted_dept([('Ivanov', 1), ('Petrov', 2), ('Ivanov', 1), ('Petrov', 4)], 3) == ['Petrov'])"
   ]
  },
  {
   "cell_type": "markdown",
   "metadata": {},
   "source": [
    "### Задание 2.2\n",
    "\n",
    "На входе имеем список строк разной длины. Необходимо написать функцию *all_eq(my_list)*, которая вернет новый список из строк одинаковой длины. Длину итоговой строки определяем исходя из самой большой из них. Если конкретная строка короче самой длинной, дополнить ее нижними подчеркиваниями с правого края до требуемого количества символов. Расположение элементов начального списка не менять."
   ]
  },
  {
   "cell_type": "code",
   "execution_count": null,
   "metadata": {},
   "outputs": [],
   "source": [
    "def all_eq(my_list):\n",
    "    maxl = max(my_list, key=len)\n",
    "    for i in range(0,len(my_list)):\n",
    "         my_list[i] = my_list[i] + (len(maxl)-len(my_list[i])) * '_'\n",
    "    return my_list"
   ]
  },
  {
   "cell_type": "code",
   "execution_count": null,
   "metadata": {},
   "outputs": [
    {
     "name": "stdout",
     "output_type": "stream",
     "text": [
      "True\n",
      "True\n",
      "True\n"
     ]
    }
   ],
   "source": [
    "print(all_eq(['крот', 'белка', 'выхухоль']) == ['крот____', 'белка___', 'выхухоль'])\n",
    "print(all_eq(['a', 'aa', 'aaa', 'aaaa', 'aaaaa']) == ['a____', 'aa___', 'aaa__', 'aaaa_', 'aaaaa'])\n",
    "print(all_eq(['qweasdqweas', 'q', 'rteww', 'ewqqqqq']) == ['qweasdqweas', 'q__________', 'rteww______', 'ewqqqqq____'])"
   ]
  },
  {
   "cell_type": "markdown",
   "metadata": {},
   "source": [
    "### Задание 2.3\n",
    "\n",
    "Предоставлен список натуральных чисел. Требуется сформировать из них множество. Если какое-либо число повторяется, то преобразовать его в строку по образцу: например, если число 4 повторяется 3 раза, то в множестве будет следующая запись: само число 4, строка «44» (второе повторение, т.е. число дублируется в строке), строка «444» (третье повторение, т.е. строка множится на 3). Реализуйте вывод множества через функцию *set_gen(my_list)*."
   ]
  },
  {
   "cell_type": "code",
   "execution_count": null,
   "metadata": {},
   "outputs": [],
   "source": [
    "def set_gen(my_list):\n",
    "    nset = set()\n",
    "    my_list.sort()\n",
    "    i = 1\n",
    "    nset.add(my_list[0])\n",
    "    ints = my_list[0]\n",
    "    num = 1\n",
    "    while(True):\n",
    "        if(my_list[i] == my_list[i-1]):\n",
    "            num += 1\n",
    "            nset.add(str(ints)*num)\n",
    "        else:\n",
    "            num = 1\n",
    "            ints = my_list[i]\n",
    "            nset.add(ints)\n",
    "        i+=1\n",
    "        if(i==len(my_list)):\n",
    "            break\n",
    "\n",
    "\n",
    "    return nset"
   ]
  },
  {
   "cell_type": "code",
   "execution_count": null,
   "metadata": {},
   "outputs": [
    {
     "name": "stdout",
     "output_type": "stream",
     "text": [
      "{1, 3, '33', '11', '111'}\n",
      "CPU times: user 275 µs, sys: 90 µs, total: 365 µs\n",
      "Wall time: 314 µs\n"
     ]
    }
   ],
   "source": [
    "%%time\n",
    "print(set_gen([1, 1, 3, 3, 1]))"
   ]
  },
  {
   "cell_type": "code",
   "execution_count": null,
   "metadata": {},
   "outputs": [
    {
     "name": "stdout",
     "output_type": "stream",
     "text": [
      "True\n",
      "CPU times: user 133 µs, sys: 44 µs, total: 177 µs\n",
      "Wall time: 148 µs\n",
      "True\n",
      "CPU times: user 44 µs, sys: 15 µs, total: 59 µs\n",
      "Wall time: 51.3 µs\n",
      "True\n",
      "CPU times: user 608 µs, sys: 0 ns, total: 608 µs\n",
      "Wall time: 561 µs\n"
     ]
    }
   ],
   "source": [
    "%time print(set_gen([1, 1, 3, 3, 1]) == {1, 3, '111', '33', '11'})\n",
    "%time print(set_gen([5, 5, 5, 5, 5, 5, 5]) == {'5555555', 5, '55', '55555', '5555', '555555', '555'})\n",
    "%time print(set_gen([2, 2, 1, 2, 2, 5, 6, 7, 1, 3, 2, 2]) == {1, 2, 3, 5, 6, 7, '22', '2222', '22222', '222', '11', '222222'})"
   ]
  },
  {
   "cell_type": "markdown",
   "metadata": {},
   "source": [
    "### Задание 2.4\n",
    "\n",
    "Дана строка в виде случайной последовательности чисел от 0 до 9. Требуется создать словарь, который в качестве ключей будет принимать данные числа (т. е. ключи будут типом *int*), а в качестве значений – количество этих чисел в имеющейся последовательности. Для построения словаря создайте функцию *count_it(sequence)*, принимающую строку из цифр. Функция должна возвратить словарь из 3-х самых часто встречаемых чисел."
   ]
  },
  {
   "cell_type": "code",
   "execution_count": 5,
   "metadata": {},
   "outputs": [],
   "source": [
    "def count_it(sequence):\n",
    "    my_map = dict()\n",
    "    for x in sequence:\n",
    "        if int(x) in my_map:\n",
    "            my_map[int(x)] += 1\n",
    "        else:\n",
    "            my_map[int(x)] = 1\n",
    "    return dict(sorted(my_map.items(),key= lambda x:-x[1])[0:3])"
   ]
  },
  {
   "cell_type": "code",
   "execution_count": 6,
   "metadata": {},
   "outputs": [
    {
     "name": "stdout",
     "output_type": "stream",
     "text": [
      "{1: 5, 3: 5, 5: 4}\n",
      "CPU times: user 122 µs, sys: 12 µs, total: 134 µs\n",
      "Wall time: 137 µs\n",
      "CPU times: user 31 µs, sys: 3 µs, total: 34 µs\n",
      "Wall time: 35.8 µs\n",
      "CPU times: user 23 µs, sys: 2 µs, total: 25 µs\n",
      "Wall time: 27.7 µs\n"
     ]
    },
    {
     "data": {
      "text/plain": [
       "{4: 6, 7: 5, 5: 4}"
      ]
     },
     "execution_count": 6,
     "metadata": {},
     "output_type": "execute_result"
    }
   ],
   "source": [
    "n = 223**12\n",
    "%time print(count_it(str(n)))\n",
    "%time count_it('123456789012133288776655353535353441111')\n",
    "%time count_it('007767757544331166554444')"
   ]
  },
  {
   "cell_type": "code",
   "execution_count": 8,
   "metadata": {},
   "outputs": [
    {
     "name": "stdout",
     "output_type": "stream",
     "text": [
      "True\n",
      "True\n",
      "False\n"
     ]
    }
   ],
   "source": [
    "print(count_it('1111111111222') == {1: 10, 2: 3})\n",
    "print(count_it('123456789012133288776655353535353441111') == {3: 8, 1: 7, 5: 7})\n",
    "print(count_it('007767757744331166554444') == {5: 3, 7: 6, 4: 6})"
   ]
  },
  {
   "cell_type": "markdown",
   "metadata": {},
   "source": [
    "### Задание 2.5\n",
    "\n",
    "Вам известны количество продаж разных товаров. Они представлены в виде списка *my_list*: первое значение - число продаж первого товара, второе значение - второго, и так далее. Напишите функцию *get_most_popular(my_list, n, threshold)*, которая будет выдавать список из порядковых номеров самых популярных товаров (порядковые номера - 0, 1, 2 и т.д.), чей объём продаж не ниже заданного числа *threshold*. Длина такого списка должна быть не более *n*, т.е. нужно выдать номера *n* самых популярных товаров."
   ]
  },
  {
   "cell_type": "code",
   "execution_count": 9,
   "metadata": {},
   "outputs": [],
   "source": [
    "def get_most_popular(my_list, n, threshold):\n",
    "    # напишите здесь ваше решение \n",
    "    i = 0\n",
    "    my_dict = {}\n",
    "    for x in my_list:\n",
    "        if x > threshold:\n",
    "            my_dict[i] = x\n",
    "        i = i + 1\n",
    "    my_dict = dict(sorted(my_dict.items(),key=lambda x: -x[1]))\n",
    "    return list(my_dict.keys())[0:n]"
   ]
  },
  {
   "cell_type": "code",
   "execution_count": null,
   "metadata": {},
   "outputs": [
    {
     "data": {
      "text/plain": [
       "[7, 5, 4]"
      ]
     },
     "execution_count": 239,
     "metadata": {},
     "output_type": "execute_result"
    }
   ],
   "source": [
    "get_most_popular([1, 2, 3, 4, 5, 6, 3, 7], 5, 5)"
   ]
  },
  {
   "cell_type": "code",
   "execution_count": 10,
   "metadata": {
    "scrolled": true
   },
   "outputs": [
    {
     "name": "stdout",
     "output_type": "stream",
     "text": [
      "True\n",
      "True\n",
      "True\n",
      "True\n",
      "True\n"
     ]
    }
   ],
   "source": [
    "print(get_most_popular([1, 2, 3, 4, 5, 6, 3, 7], 7, 1) == [7, 5, 4, 3, 2, 6, 1])\n",
    "print(get_most_popular([1, 2, 3, 4, 5, 6, 3, 7], 7, 2) == [7, 5, 4, 3, 2, 6])\n",
    "print(get_most_popular([1, 2, 3, 4, 5, 6, 3, 7], 3, 2) == [7, 5, 4])\n",
    "print(get_most_popular([1, 2, 3, 4, 5, 6, 3, 7], 3, 5) == [7, 5])\n",
    "print(get_most_popular([1, 2, 3, 4, 5, 6, 3, 7], 5, 5) == [7, 5])"
   ]
  }
 ],
 "metadata": {
  "colab": {
   "name": "Syntax.ipynb",
   "provenance": []
  },
  "interpreter": {
   "hash": "31f2aee4e71d21fbe5cf8b01ff0e069b9275f58929596ceb00d14d90e3e16cd6"
  },
  "kernelspec": {
   "display_name": "Python 3.8.10 64-bit",
   "name": "python3"
  },
  "language_info": {
   "codemirror_mode": {
    "name": "ipython",
    "version": 3
   },
   "file_extension": ".py",
   "mimetype": "text/x-python",
   "name": "python",
   "nbconvert_exporter": "python",
   "pygments_lexer": "ipython3",
   "version": "3.8.10"
  }
 },
 "nbformat": 4,
 "nbformat_minor": 1
}
