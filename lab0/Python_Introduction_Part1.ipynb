{
  "nbformat": 4,
  "nbformat_minor": 0,
  "metadata": {
    "anaconda-cloud": {},
    "kernelspec": {
      "display_name": "dmia",
      "language": "python",
      "name": "dmia"
    },
    "language_info": {
      "codemirror_mode": {
        "name": "ipython",
        "version": 3
      },
      "file_extension": ".py",
      "mimetype": "text/x-python",
      "name": "python",
      "nbconvert_exporter": "python",
      "pygments_lexer": "ipython3",
      "version": "3.6.6"
    },
    "colab": {
      "name": "SyntaxPart1.ipynb",
      "provenance": [],
      "collapsed_sections": []
    }
  },
  "cells": [
    {
      "cell_type": "markdown",
      "metadata": {
        "id": "-CjgnN7xZTsT"
      },
      "source": [
        "# Синтаксис Python: часть 1\n",
        "# Типы данных и управляющие конструкции"
      ]
    },
    {
      "cell_type": "code",
      "metadata": {
        "id": "RdXLB77eZTsc"
      },
      "source": [
        "x = 7"
      ],
      "execution_count": 9,
      "outputs": []
    },
    {
      "cell_type": "code",
      "metadata": {
        "colab": {
          "base_uri": "https://localhost:8080/"
        },
        "id": "4efLoMv-ZTsf",
        "outputId": "46c0ed17-0429-41f4-bf07-91d795ca4545"
      },
      "source": [
        "print(x)"
      ],
      "execution_count": 10,
      "outputs": [
        {
          "output_type": "stream",
          "name": "stdout",
          "text": [
            "7\n"
          ]
        }
      ]
    },
    {
      "cell_type": "markdown",
      "metadata": {
        "id": "dhGCmznQZTsj"
      },
      "source": [
        "## 1. Числовые типы данных и арифметика"
      ]
    },
    {
      "cell_type": "markdown",
      "metadata": {
        "id": "BTe3AcdgZTsl"
      },
      "source": [
        "### int"
      ]
    },
    {
      "cell_type": "code",
      "metadata": {
        "id": "rZ1lurTyZTsl"
      },
      "source": [
        "x = 5"
      ],
      "execution_count": 12,
      "outputs": []
    },
    {
      "cell_type": "code",
      "metadata": {
        "colab": {
          "base_uri": "https://localhost:8080/"
        },
        "id": "VVZIkYwXZTsm",
        "outputId": "064f1160-77d9-4f60-ebc2-633af370f12d"
      },
      "source": [
        "print(x)"
      ],
      "execution_count": 13,
      "outputs": [
        {
          "output_type": "stream",
          "name": "stdout",
          "text": [
            "5\n"
          ]
        }
      ]
    },
    {
      "cell_type": "code",
      "metadata": {
        "id": "8oq8pVVKZTsn",
        "outputId": "2ad170b4-1655-489c-861e-7b94db82c1fb"
      },
      "source": [
        "print(type(x))"
      ],
      "execution_count": null,
      "outputs": [
        {
          "name": "stdout",
          "output_type": "stream",
          "text": [
            "<class 'int'>\n"
          ]
        }
      ]
    },
    {
      "cell_type": "code",
      "metadata": {
        "id": "cDHzs4hLZTsq",
        "outputId": "050ce536-811d-4e16-a216-16796aa8be42"
      },
      "source": [
        "a = 4 + 5\n",
        "b = 4 * 5\n",
        "c = 5 / 4\n",
        "d = 5 // 4\n",
        "\n",
        "print(a, b, c)"
      ],
      "execution_count": null,
      "outputs": [
        {
          "name": "stdout",
          "output_type": "stream",
          "text": [
            "9 20 1.25\n"
          ]
        }
      ]
    },
    {
      "cell_type": "code",
      "metadata": {
        "id": "_G0iYvNjZTsr",
        "outputId": "de8ccb5c-5b34-4658-b14c-f88cb9769466"
      },
      "source": [
        "print(-5 // 4)"
      ],
      "execution_count": null,
      "outputs": [
        {
          "name": "stdout",
          "output_type": "stream",
          "text": [
            "-2\n"
          ]
        }
      ]
    },
    {
      "cell_type": "code",
      "metadata": {
        "id": "5zRBVUsEZTst",
        "outputId": "0ebf473d-e6e3-4c9c-a997-1af0fc709624"
      },
      "source": [
        "print(-(5 // 4))"
      ],
      "execution_count": null,
      "outputs": [
        {
          "name": "stdout",
          "output_type": "stream",
          "text": [
            "-1\n"
          ]
        }
      ]
    },
    {
      "cell_type": "markdown",
      "metadata": {
        "id": "mJ-GTuE_ZTsv"
      },
      "source": [
        "### long"
      ]
    },
    {
      "cell_type": "code",
      "metadata": {
        "id": "sBdVlkKFZTsv",
        "outputId": "40e35c07-a5b9-45cb-84ac-f010ed40df6f"
      },
      "source": [
        "x = 5 * 1000000 * 1000000 * 1000000 * 1000000 * 1000000 * 1000000 + 1\n",
        "print(x)\n",
        "print(type(x))"
      ],
      "execution_count": null,
      "outputs": [
        {
          "name": "stdout",
          "output_type": "stream",
          "text": [
            "5000000000000000000000000000000000001\n",
            "<class 'int'>\n"
          ]
        }
      ]
    },
    {
      "cell_type": "code",
      "metadata": {
        "id": "OCGOO-V6ZTsy",
        "outputId": "0f7b869d-af98-4bb4-8d8d-82f7a7e945b2"
      },
      "source": [
        "y = 5\n",
        "print(type(y))\n",
        "y = x\n",
        "print(type(y))"
      ],
      "execution_count": null,
      "outputs": [
        {
          "name": "stdout",
          "output_type": "stream",
          "text": [
            "<class 'int'>\n",
            "<class 'int'>\n"
          ]
        }
      ]
    },
    {
      "cell_type": "markdown",
      "metadata": {
        "id": "9SPEHnjfZTs0"
      },
      "source": [
        "### float"
      ]
    },
    {
      "cell_type": "code",
      "metadata": {
        "id": "Ca_HEcwkZTs2"
      },
      "source": [
        "y = 5.7"
      ],
      "execution_count": null,
      "outputs": []
    },
    {
      "cell_type": "code",
      "metadata": {
        "id": "qBu8TCgXZTs3",
        "outputId": "4d78ef3e-b339-479a-fe72-d43cbbfbb2ce"
      },
      "source": [
        "print(y)\n",
        "print(type(y))"
      ],
      "execution_count": null,
      "outputs": [
        {
          "name": "stdout",
          "output_type": "stream",
          "text": [
            "5.7\n",
            "<class 'float'>\n"
          ]
        }
      ]
    },
    {
      "cell_type": "code",
      "metadata": {
        "id": "SkPmmAOcZTs4",
        "outputId": "a2696795-5e0c-4d37-d4d0-00475e228f30"
      },
      "source": [
        "a = 4.2 + 5.1\n",
        "b = 4.2 * 5.1\n",
        "c = 5.0 // 4.0\n",
        "\n",
        "print(a, b, c)"
      ],
      "execution_count": null,
      "outputs": [
        {
          "name": "stdout",
          "output_type": "stream",
          "text": [
            "9.3 21.419999999999998 1.0\n"
          ]
        }
      ]
    },
    {
      "cell_type": "code",
      "metadata": {
        "id": "ztHK7YTNZTs5",
        "outputId": "365c1945-5e0a-4069-962e-ae4bc2c1e228"
      },
      "source": [
        "a = 5\n",
        "b = 4\n",
        "print(float(a) // float(b))"
      ],
      "execution_count": null,
      "outputs": [
        {
          "name": "stdout",
          "output_type": "stream",
          "text": [
            "1.0\n"
          ]
        }
      ]
    },
    {
      "cell_type": "code",
      "metadata": {
        "id": "e-KoOMWdZTs6",
        "outputId": "aa184b8d-58ae-477a-de91-a1627a6a01a8"
      },
      "source": [
        "print(5.0 // 4)\n",
        "print(5 // 4.0)"
      ],
      "execution_count": null,
      "outputs": [
        {
          "name": "stdout",
          "output_type": "stream",
          "text": [
            "1.0\n",
            "1.0\n"
          ]
        }
      ]
    },
    {
      "cell_type": "code",
      "metadata": {
        "id": "V57GJhaLZTs7",
        "outputId": "bba24252-93b0-4397-8484-089cc74de6b4"
      },
      "source": [
        "print(float(a) // b)"
      ],
      "execution_count": null,
      "outputs": [
        {
          "name": "stdout",
          "output_type": "stream",
          "text": [
            "1.0\n"
          ]
        }
      ]
    },
    {
      "cell_type": "code",
      "metadata": {
        "id": "fL9ssX8lZTs7",
        "outputId": "2dddd208-9aba-40fd-d4eb-4496adf49b54"
      },
      "source": [
        "a = 3.14\n",
        "b = int(a)\n",
        "print(type(a))\n",
        "print(type(b))\n",
        "print(b)"
      ],
      "execution_count": null,
      "outputs": [
        {
          "name": "stdout",
          "output_type": "stream",
          "text": [
            "<class 'float'>\n",
            "<class 'int'>\n",
            "3\n"
          ]
        }
      ]
    },
    {
      "cell_type": "code",
      "metadata": {
        "id": "jexx5N5CZTs8",
        "outputId": "5e0f00ca-21a5-416c-f12c-b65a62531b8f"
      },
      "source": [
        "a = 0.1 + 0.2\n",
        "print(a)\n",
        "print(0.3)\n",
        "print(a - 0.3)"
      ],
      "execution_count": null,
      "outputs": [
        {
          "name": "stdout",
          "output_type": "stream",
          "text": [
            "0.30000000000000004\n",
            "0.3\n",
            "5.551115123125783e-17\n"
          ]
        }
      ]
    },
    {
      "cell_type": "markdown",
      "metadata": {
        "id": "ks9FzhdaZTs_"
      },
      "source": [
        "### bool и условия"
      ]
    },
    {
      "cell_type": "code",
      "metadata": {
        "colab": {
          "base_uri": "https://localhost:8080/"
        },
        "id": "T19pBQqDZTs_",
        "outputId": "bf141c2b-ea00-4891-8896-5a26cf51a841"
      },
      "source": [
        "a = True\n",
        "b = False\n",
        "\n",
        "print(a)\n",
        "print(type(a))\n",
        "\n",
        "print(b)\n",
        "print(type(b))"
      ],
      "execution_count": 1,
      "outputs": [
        {
          "output_type": "stream",
          "name": "stdout",
          "text": [
            "True\n",
            "<class 'bool'>\n",
            "False\n",
            "<class 'bool'>\n"
          ]
        }
      ]
    },
    {
      "cell_type": "code",
      "metadata": {
        "colab": {
          "base_uri": "https://localhost:8080/"
        },
        "id": "f9kJ9s9xZTtA",
        "outputId": "f6f81627-bf63-4f0d-b7d6-78bf1dd2d633"
      },
      "source": [
        "print(a + b)\n",
        "print(a + a)\n",
        "print(b + b)"
      ],
      "execution_count": 2,
      "outputs": [
        {
          "output_type": "stream",
          "name": "stdout",
          "text": [
            "1\n",
            "2\n",
            "0\n"
          ]
        }
      ]
    },
    {
      "cell_type": "code",
      "metadata": {
        "colab": {
          "base_uri": "https://localhost:8080/"
        },
        "id": "djZBBHwpZTtB",
        "outputId": "65f3e86c-0326-4b58-f3ce-4b85c5ddd9fa"
      },
      "source": [
        "print(int(a), int(b))"
      ],
      "execution_count": 3,
      "outputs": [
        {
          "output_type": "stream",
          "name": "stdout",
          "text": [
            "1 0\n"
          ]
        }
      ]
    },
    {
      "cell_type": "code",
      "metadata": {
        "colab": {
          "base_uri": "https://localhost:8080/"
        },
        "id": "fABY_weeZTtC",
        "outputId": "39f99a8d-77a5-4c71-bc8d-be0e09c30cf8"
      },
      "source": [
        "print(True and False)\n",
        "print(True and True)\n",
        "print(False and False)"
      ],
      "execution_count": 4,
      "outputs": [
        {
          "output_type": "stream",
          "name": "stdout",
          "text": [
            "False\n",
            "True\n",
            "False\n"
          ]
        }
      ]
    },
    {
      "cell_type": "code",
      "metadata": {
        "colab": {
          "base_uri": "https://localhost:8080/"
        },
        "id": "67UI5YS6ZTtD",
        "outputId": "0715f0bc-e969-4f98-8d28-20df9208873e"
      },
      "source": [
        "print(True or False)\n",
        "print(True or True)\n",
        "print(False or False)"
      ],
      "execution_count": 5,
      "outputs": [
        {
          "output_type": "stream",
          "name": "stdout",
          "text": [
            "True\n",
            "True\n",
            "False\n"
          ]
        }
      ]
    },
    {
      "cell_type": "markdown",
      "metadata": {
        "id": "zMlr0YmsZTtE"
      },
      "source": [
        "**Условия**"
      ]
    },
    {
      "cell_type": "code",
      "metadata": {
        "colab": {
          "base_uri": "https://localhost:8080/"
        },
        "id": "UxowJldBZTtE",
        "outputId": "8d1210c9-b65e-4f38-fced-712d6329bd66"
      },
      "source": [
        "p = 1.0\n",
        "\n",
        "if p == 1:\n",
        "    print(\"Yes\")\n",
        "elif p == 0:\n",
        "    print(\"No\")\n",
        "else:\n",
        "    print(\"Not sure\")"
      ],
      "execution_count": 6,
      "outputs": [
        {
          "output_type": "stream",
          "name": "stdout",
          "text": [
            "Yes\n"
          ]
        }
      ]
    },
    {
      "cell_type": "code",
      "metadata": {
        "colab": {
          "base_uri": "https://localhost:8080/"
        },
        "id": "GEXAeub4ZTtF",
        "outputId": "f7c8370b-3a8c-4b14-8f68-e42db2446b6a"
      },
      "source": [
        "x = (\"Yes\" if p == 1 else \"No or not sure\")\n",
        "print(x)"
      ],
      "execution_count": 7,
      "outputs": [
        {
          "output_type": "stream",
          "name": "stdout",
          "text": [
            "Yes\n"
          ]
        }
      ]
    },
    {
      "cell_type": "code",
      "metadata": {
        "colab": {
          "base_uri": "https://localhost:8080/"
        },
        "id": "BDNGMFgOZTtG",
        "outputId": "c9273303-3bfe-4af0-bf4a-cd405708ff23"
      },
      "source": [
        "p = 0.352 + 0.314\n",
        "\n",
        "if p == 0.666:\n",
        "    print(\"Yes\")\n",
        "elif p == 0:\n",
        "    print(\"No\")\n",
        "else:\n",
        "    print(\"Not sure\")"
      ],
      "execution_count": 8,
      "outputs": [
        {
          "output_type": "stream",
          "name": "stdout",
          "text": [
            "Not sure\n"
          ]
        }
      ]
    },
    {
      "cell_type": "markdown",
      "metadata": {
        "id": "m2vHhComZTtH"
      },
      "source": [
        "## 2. None"
      ]
    },
    {
      "cell_type": "code",
      "metadata": {
        "id": "O__U7eZ-ZTtH",
        "outputId": "10a94365-dd95-4643-d32a-4451b8ab5461"
      },
      "source": [
        "z = None\n",
        "print(z)\n",
        "print(type(z))"
      ],
      "execution_count": null,
      "outputs": [
        {
          "name": "stdout",
          "output_type": "stream",
          "text": [
            "None\n",
            "<class 'NoneType'>\n"
          ]
        }
      ]
    },
    {
      "cell_type": "code",
      "metadata": {
        "id": "1KcSII7UZTtI",
        "outputId": "57476565-f50e-40bc-ae8a-98648b6a7797"
      },
      "source": [
        "print(int(z))"
      ],
      "execution_count": null,
      "outputs": [
        {
          "ename": "TypeError",
          "evalue": "int() argument must be a string, a bytes-like object or a number, not 'NoneType'",
          "output_type": "error",
          "traceback": [
            "\u001b[0;31m---------------------------------------------------------------------------\u001b[0m",
            "\u001b[0;31mTypeError\u001b[0m                                 Traceback (most recent call last)",
            "\u001b[0;32m<ipython-input-30-c7242feb1308>\u001b[0m in \u001b[0;36m<module>\u001b[0;34m()\u001b[0m\n\u001b[0;32m----> 1\u001b[0;31m \u001b[0mprint\u001b[0m\u001b[0;34m(\u001b[0m\u001b[0mint\u001b[0m\u001b[0;34m(\u001b[0m\u001b[0mz\u001b[0m\u001b[0;34m)\u001b[0m\u001b[0;34m)\u001b[0m\u001b[0;34m\u001b[0m\u001b[0m\n\u001b[0m",
            "\u001b[0;31mTypeError\u001b[0m: int() argument must be a string, a bytes-like object or a number, not 'NoneType'"
          ]
        }
      ]
    },
    {
      "cell_type": "code",
      "metadata": {
        "id": "JCWKkFrRZTtK",
        "outputId": "c16c969c-ed5c-402e-cbb4-93123e88acc2"
      },
      "source": [
        "print(str(None))"
      ],
      "execution_count": null,
      "outputs": [
        {
          "name": "stdout",
          "output_type": "stream",
          "text": [
            "None\n"
          ]
        }
      ]
    },
    {
      "cell_type": "markdown",
      "metadata": {
        "id": "Si3KqcoyZTtL"
      },
      "source": [
        "## 3. Строки"
      ]
    },
    {
      "cell_type": "markdown",
      "metadata": {
        "id": "uqkheIGCZTtL"
      },
      "source": [
        "### str"
      ]
    },
    {
      "cell_type": "code",
      "metadata": {
        "id": "87pJ-KNPZTtM",
        "outputId": "37096dc6-b4e2-447e-ee6e-7e0ca52c4ade"
      },
      "source": [
        "x = \"abc\"\n",
        "print(x)\n",
        "print(type(x))"
      ],
      "execution_count": null,
      "outputs": [
        {
          "name": "stdout",
          "output_type": "stream",
          "text": [
            "abc\n",
            "<class 'str'>\n"
          ]
        }
      ]
    },
    {
      "cell_type": "code",
      "metadata": {
        "id": "WtPK4EdVZTtM",
        "outputId": "05aec811-2b32-46d6-b600-a5551faa1912"
      },
      "source": [
        "a = 'Ivan'\n",
        "b = \"Ivanov\"\n",
        "s = a + \" \" + b\n",
        "print(s)"
      ],
      "execution_count": null,
      "outputs": [
        {
          "name": "stdout",
          "output_type": "stream",
          "text": [
            "Ivan Ivanov\n"
          ]
        }
      ]
    },
    {
      "cell_type": "code",
      "metadata": {
        "id": "TK1pp4kZZTtN",
        "outputId": "fd7a416b-6fd9-41ee-9e77-5f9cc7e5583e"
      },
      "source": [
        "print(a.upper())\n",
        "print(a.lower())"
      ],
      "execution_count": null,
      "outputs": [
        {
          "name": "stdout",
          "output_type": "stream",
          "text": [
            "IVAN\n",
            "ivan\n"
          ]
        }
      ]
    },
    {
      "cell_type": "code",
      "metadata": {
        "id": "hhsJNGEwZTtO",
        "outputId": "49e7cbaf-45e4-414f-a694-931e5ecdb5ca"
      },
      "source": [
        "print(len(a))"
      ],
      "execution_count": null,
      "outputs": [
        {
          "name": "stdout",
          "output_type": "stream",
          "text": [
            "4\n"
          ]
        }
      ]
    },
    {
      "cell_type": "code",
      "metadata": {
        "id": "6nAIpbzgZTtO",
        "outputId": "84acf6e5-4835-45ab-ab58-3c22a4e7d1c5"
      },
      "source": [
        "print(bool(4))\n",
        "print(bool(\"\"))\n",
        "print(bool(None))\n",
        "print(bool(0))"
      ],
      "execution_count": null,
      "outputs": [
        {
          "name": "stdout",
          "output_type": "stream",
          "text": [
            "True\n",
            "False\n",
            "False\n",
            "False\n"
          ]
        }
      ]
    },
    {
      "cell_type": "code",
      "metadata": {
        "id": "Fx3k-_ivZTtP",
        "outputId": "731848d6-1ec8-4b05-9078-950192221558"
      },
      "source": [
        "print(0 and \"\")\n",
        "print(1 and \"\")\n",
        "print(None and \"\")\n",
        "print('' and \"\")"
      ],
      "execution_count": null,
      "outputs": [
        {
          "name": "stdout",
          "output_type": "stream",
          "text": [
            "0\n",
            "\n",
            "None\n",
            "\n"
          ]
        }
      ]
    },
    {
      "cell_type": "code",
      "metadata": {
        "id": "mwLAGSB8ZTtQ",
        "outputId": "a81949be-bcc5-4e8a-8c68-c86165ff3ccd"
      },
      "source": [
        "print(0 or \"\")\n",
        "print(1 or \"\")\n",
        "print(None or \"\")\n",
        "print('' or \"\")"
      ],
      "execution_count": null,
      "outputs": [
        {
          "name": "stdout",
          "output_type": "stream",
          "text": [
            "\n",
            "1\n",
            "\n",
            "\n"
          ]
        }
      ]
    },
    {
      "cell_type": "code",
      "metadata": {
        "id": "hQ3QRALiZTtR",
        "outputId": "1261dd4b-1fcc-452d-c9a2-1866f5606a4d"
      },
      "source": [
        "print(int(\"5.4\"))"
      ],
      "execution_count": null,
      "outputs": [
        {
          "ename": "ValueError",
          "evalue": "invalid literal for int() with base 10: '5.4'",
          "output_type": "error",
          "traceback": [
            "\u001b[0;31m---------------------------------------------------------------------------\u001b[0m",
            "\u001b[0;31mValueError\u001b[0m                                Traceback (most recent call last)",
            "\u001b[0;32m<ipython-input-39-1b3dc0c5ebc0>\u001b[0m in \u001b[0;36m<module>\u001b[0;34m()\u001b[0m\n\u001b[0;32m----> 1\u001b[0;31m \u001b[0mprint\u001b[0m\u001b[0;34m(\u001b[0m\u001b[0mint\u001b[0m\u001b[0;34m(\u001b[0m\u001b[0;34m\"5.4\"\u001b[0m\u001b[0;34m)\u001b[0m\u001b[0;34m)\u001b[0m\u001b[0;34m\u001b[0m\u001b[0m\n\u001b[0m",
            "\u001b[0;31mValueError\u001b[0m: invalid literal for int() with base 10: '5.4'"
          ]
        }
      ]
    },
    {
      "cell_type": "code",
      "metadata": {
        "id": "0ungHU_WZTtR",
        "outputId": "e1e0b29f-c2f2-48f9-c63f-ed33ff1d7547"
      },
      "source": [
        "print(a)\n",
        "print(a[0])\n",
        "print(a[1])\n",
        "print(a[0:3])"
      ],
      "execution_count": null,
      "outputs": [
        {
          "name": "stdout",
          "output_type": "stream",
          "text": [
            "Ivan\n",
            "I\n",
            "v\n",
            "Iva\n"
          ]
        }
      ]
    },
    {
      "cell_type": "code",
      "metadata": {
        "id": "8Mpl-lOBZTtT",
        "outputId": "d021cc11-5871-4fb7-e8d0-a5b6307667f3"
      },
      "source": [
        "print(a[0:4:2])"
      ],
      "execution_count": null,
      "outputs": [
        {
          "name": "stdout",
          "output_type": "stream",
          "text": [
            "Ia\n"
          ]
        }
      ]
    },
    {
      "cell_type": "code",
      "metadata": {
        "id": "3g2Tk_-2ZTtU",
        "outputId": "1817dbc9-582e-4220-fa35-191ce97ea09e"
      },
      "source": [
        "print(a[-2])"
      ],
      "execution_count": null,
      "outputs": [
        {
          "name": "stdout",
          "output_type": "stream",
          "text": [
            "a\n"
          ]
        }
      ]
    },
    {
      "cell_type": "code",
      "metadata": {
        "id": "B49RTW3CZTtW",
        "outputId": "4ff62e68-d98d-4d63-a227-19b32fb3f654"
      },
      "source": [
        "print(a[::-1])"
      ],
      "execution_count": null,
      "outputs": [
        {
          "name": "stdout",
          "output_type": "stream",
          "text": [
            "navI\n"
          ]
        }
      ]
    },
    {
      "cell_type": "markdown",
      "metadata": {
        "id": "NsLpySdhZTth"
      },
      "source": [
        "## 4. Массивы и циклы"
      ]
    },
    {
      "cell_type": "markdown",
      "metadata": {
        "id": "38MiV8mvZTti"
      },
      "source": [
        "### list"
      ]
    },
    {
      "cell_type": "code",
      "metadata": {
        "id": "9DIcwRuOZTti",
        "outputId": "a822851d-b39b-42e6-af5f-a4d7dad9d7ee"
      },
      "source": [
        "saled_goods_count = [33450, 34010, 33990, 33200]\n",
        "print(saled_goods_count)\n",
        "print(type(saled_goods_count))"
      ],
      "execution_count": null,
      "outputs": [
        {
          "name": "stdout",
          "output_type": "stream",
          "text": [
            "[33450, 34010, 33990, 33200]\n",
            "<class 'list'>\n"
          ]
        }
      ]
    },
    {
      "cell_type": "code",
      "metadata": {
        "id": "LZMl6ZJnZTtk",
        "outputId": "c220dcf7-98a6-4065-b91a-d01d64f98716"
      },
      "source": [
        "print(type(saled_goods_count[0]))"
      ],
      "execution_count": null,
      "outputs": [
        {
          "name": "stdout",
          "output_type": "stream",
          "text": [
            "<class 'int'>\n"
          ]
        }
      ]
    },
    {
      "cell_type": "code",
      "metadata": {
        "id": "ZbkZ7OpxZTtl",
        "outputId": "da961d94-313d-4bbe-aca0-27a534622fc6"
      },
      "source": [
        "saled_goods_count.append(34000)\n",
        "print(saled_goods_count)"
      ],
      "execution_count": null,
      "outputs": [
        {
          "name": "stdout",
          "output_type": "stream",
          "text": [
            "[33450, 34010, 33990, 33200, 34000]\n"
          ]
        }
      ]
    },
    {
      "cell_type": "code",
      "metadata": {
        "id": "0i8S7ZLTZTtm",
        "outputId": "f9584ea5-ee1d-4d69-ada5-5b352b0088ab"
      },
      "source": [
        "income = [u'Высокий', u'Средний', u'Высокий']\n",
        "names = [u'Элеонора Михайловна', u'Иван Иванович', u'Михаил Абрамович']\n",
        "\n",
        "print(income)\n",
        "print(names)"
      ],
      "execution_count": null,
      "outputs": [
        {
          "name": "stdout",
          "output_type": "stream",
          "text": [
            "['Высокий', 'Средний', 'Высокий']\n",
            "['Элеонора Михайловна', 'Иван Иванович', 'Михаил Абрамович']\n"
          ]
        }
      ]
    },
    {
      "cell_type": "code",
      "metadata": {
        "id": "j6kdAGOtZTto",
        "outputId": "17ec5285-5b0a-4bb2-96d4-ba8487e43ada"
      },
      "source": [
        "print(\"---\".join(income))"
      ],
      "execution_count": null,
      "outputs": [
        {
          "name": "stdout",
          "output_type": "stream",
          "text": [
            "Высокий---Средний---Высокий\n"
          ]
        }
      ]
    },
    {
      "cell_type": "code",
      "metadata": {
        "id": "7L01tAC1ZTto",
        "outputId": "25a35416-4152-4bc0-889d-237c317ed9e3"
      },
      "source": [
        "features = ['Ivan Ivanovich', 'Medium', 500000, 12, True]\n",
        "print(features)"
      ],
      "execution_count": null,
      "outputs": [
        {
          "name": "stdout",
          "output_type": "stream",
          "text": [
            "['Ivan Ivanovich', 'Medium', 500000, 12, True]\n"
          ]
        }
      ]
    },
    {
      "cell_type": "code",
      "metadata": {
        "id": "bYOq306vZTtp",
        "outputId": "6320e5a7-b63c-4de2-d9cb-df0ae40b4da9"
      },
      "source": [
        "print(features[0])\n",
        "print(features[1])\n",
        "print(features[3])"
      ],
      "execution_count": null,
      "outputs": [
        {
          "name": "stdout",
          "output_type": "stream",
          "text": [
            "Ivan Ivanovich\n",
            "Medium\n",
            "12\n"
          ]
        }
      ]
    },
    {
      "cell_type": "code",
      "metadata": {
        "id": "kZJ6SrhyZTtq",
        "outputId": "4c0c33a0-04ff-4f97-c15e-4c444d80fe77"
      },
      "source": [
        "print(features[0:5])"
      ],
      "execution_count": null,
      "outputs": [
        {
          "name": "stdout",
          "output_type": "stream",
          "text": [
            "['Ivan Ivanovich', 'Medium', 500000, 12, True]\n"
          ]
        }
      ]
    },
    {
      "cell_type": "code",
      "metadata": {
        "id": "7emi_PNRZTtq",
        "outputId": "1c7edb02-d647-4a0a-99fe-f6ee218843ed"
      },
      "source": [
        "print(features[:5])"
      ],
      "execution_count": null,
      "outputs": [
        {
          "name": "stdout",
          "output_type": "stream",
          "text": [
            "['Ivan Ivanovich', 'Medium', 500000, 12, True]\n"
          ]
        }
      ]
    },
    {
      "cell_type": "code",
      "metadata": {
        "id": "DJmtTU78ZTtr",
        "outputId": "7ff61a68-50bd-445a-d95e-a494ddad7751"
      },
      "source": [
        "print(features[::2])"
      ],
      "execution_count": null,
      "outputs": [
        {
          "name": "stdout",
          "output_type": "stream",
          "text": [
            "['Ivan Ivanovich', 500000, True]\n"
          ]
        }
      ]
    },
    {
      "cell_type": "code",
      "metadata": {
        "id": "CxiNuosVZTtr",
        "outputId": "c992f51e-d9b9-44d7-a5db-5bcbfd9efd53"
      },
      "source": [
        "print(features[1:])"
      ],
      "execution_count": null,
      "outputs": [
        {
          "name": "stdout",
          "output_type": "stream",
          "text": [
            "['Medium', 500000, 12, True]\n"
          ]
        }
      ]
    },
    {
      "cell_type": "code",
      "metadata": {
        "id": "ySJDoUI6ZTts",
        "outputId": "dd9915d6-3fee-43ba-d2aa-90101f0ceb4c"
      },
      "source": [
        "print(features[2:5])"
      ],
      "execution_count": null,
      "outputs": [
        {
          "name": "stdout",
          "output_type": "stream",
          "text": [
            "[500000, 12, True]\n"
          ]
        }
      ]
    },
    {
      "cell_type": "code",
      "metadata": {
        "id": "Vr7xx8c-ZTtt",
        "outputId": "8fe53079-e5e5-427a-f98f-b79a8bf33e44"
      },
      "source": [
        "print(features[:-1])"
      ],
      "execution_count": null,
      "outputs": [
        {
          "name": "stdout",
          "output_type": "stream",
          "text": [
            "['Ivan Ivanovich', 'Medium', 500000, 12]\n"
          ]
        }
      ]
    },
    {
      "cell_type": "code",
      "metadata": {
        "id": "sgf6oc0PZTtu",
        "outputId": "d67fd196-cc9d-457e-ce72-a519a9183c2f"
      },
      "source": [
        "features.append('One more element in list')\n",
        "print(features)"
      ],
      "execution_count": null,
      "outputs": [
        {
          "name": "stdout",
          "output_type": "stream",
          "text": [
            "['Ivan Ivanovich', 'Medium', 500000, 12, True, 'One more element in list']\n"
          ]
        }
      ]
    },
    {
      "cell_type": "code",
      "metadata": {
        "id": "_e_tknMcZTtv"
      },
      "source": [
        "del features[-2]"
      ],
      "execution_count": null,
      "outputs": []
    },
    {
      "cell_type": "code",
      "metadata": {
        "id": "ab2BxRUGZTtw",
        "outputId": "c975c6c2-6739-4fbb-de4b-6579b19c32dc"
      },
      "source": [
        "print(features)"
      ],
      "execution_count": null,
      "outputs": [
        {
          "name": "stdout",
          "output_type": "stream",
          "text": [
            "['Ivan Ivanovich', 'Medium', 500000, 12, 'One more element in list']\n"
          ]
        }
      ]
    },
    {
      "cell_type": "code",
      "metadata": {
        "id": "mECy6J9dZTtx",
        "outputId": "0620ed01-1c33-4fbe-ca2c-ba99c6bfaeb8"
      },
      "source": [
        "print([] and [2])\n",
        "print([1] and [])\n",
        "print([] and [])\n",
        "print([1] and [2])"
      ],
      "execution_count": null,
      "outputs": [
        {
          "name": "stdout",
          "output_type": "stream",
          "text": [
            "[]\n",
            "[]\n",
            "[]\n",
            "[2]\n"
          ]
        }
      ]
    },
    {
      "cell_type": "code",
      "metadata": {
        "id": "9cD4MuyuZTty",
        "outputId": "b71bd2a1-8664-4539-9e17-fc0f4e01e60b"
      },
      "source": [
        "print([] or [2])\n",
        "print([1] or [])\n",
        "print([] or [])\n",
        "print([1] or [2])"
      ],
      "execution_count": null,
      "outputs": [
        {
          "name": "stdout",
          "output_type": "stream",
          "text": [
            "[2]\n",
            "[1]\n",
            "[]\n",
            "[1]\n"
          ]
        }
      ]
    },
    {
      "cell_type": "markdown",
      "metadata": {
        "id": "xrdUQDD5ZTtz"
      },
      "source": [
        "**Циклы**"
      ]
    },
    {
      "cell_type": "code",
      "metadata": {
        "id": "gvhEdRbpZTt0",
        "outputId": "d06924c6-3bd4-4d57-b87f-0bb8b755e525"
      },
      "source": [
        "for i in range(10):\n",
        "    print(i)"
      ],
      "execution_count": null,
      "outputs": [
        {
          "name": "stdout",
          "output_type": "stream",
          "text": [
            "0\n",
            "1\n",
            "2\n",
            "3\n",
            "4\n",
            "5\n",
            "6\n",
            "7\n",
            "8\n",
            "9\n"
          ]
        }
      ]
    },
    {
      "cell_type": "code",
      "metadata": {
        "id": "CJngqMTeZTt1",
        "outputId": "dfc54024-d4b9-449a-fd97-bfb73a518908"
      },
      "source": [
        "for i in range(2, 10, 2):\n",
        "    print(i)"
      ],
      "execution_count": null,
      "outputs": [
        {
          "name": "stdout",
          "output_type": "stream",
          "text": [
            "2\n",
            "4\n",
            "6\n",
            "8\n"
          ]
        }
      ]
    },
    {
      "cell_type": "code",
      "metadata": {
        "id": "__0Pg19AZTt3",
        "outputId": "9c1771ed-69b3-422d-a7f9-e596034e28ce"
      },
      "source": [
        "x = range(2, 10)\n",
        "print(type(x))\n",
        "print(x)"
      ],
      "execution_count": null,
      "outputs": [
        {
          "name": "stdout",
          "output_type": "stream",
          "text": [
            "<class 'range'>\n",
            "range(2, 10)\n"
          ]
        }
      ]
    },
    {
      "cell_type": "code",
      "metadata": {
        "id": "oYC-Xf0UZTt5",
        "outputId": "4ab9fd43-d8d4-4677-accc-74a2a2f01b32"
      },
      "source": [
        "for x in [2, 3, 5, 7, 11]:\n",
        "    print(x)"
      ],
      "execution_count": null,
      "outputs": [
        {
          "name": "stdout",
          "output_type": "stream",
          "text": [
            "2\n",
            "3\n",
            "5\n",
            "7\n",
            "11\n"
          ]
        }
      ]
    },
    {
      "cell_type": "markdown",
      "metadata": {
        "id": "KxGI4dLOZTuG"
      },
      "source": [
        "**list comprehensions и генераторы**"
      ]
    },
    {
      "cell_type": "code",
      "metadata": {
        "id": "HqowIvQ3ZTuH",
        "outputId": "ddc5014b-c465-41bf-e12d-0a1eadec1ee3"
      },
      "source": [
        "x = [k ** 2 for k in range(2, 12, 3)]\n",
        "print(type(x))\n",
        "print(x)"
      ],
      "execution_count": null,
      "outputs": [
        {
          "name": "stdout",
          "output_type": "stream",
          "text": [
            "<class 'list'>\n",
            "[4, 25, 64, 121]\n"
          ]
        }
      ]
    },
    {
      "cell_type": "code",
      "metadata": {
        "id": "GBhaz-AnZTuI",
        "outputId": "c411a6a3-80e0-4a0b-8c16-023f47907fbe"
      },
      "source": [
        "x = [k ** 2 for k in range(2, 12, 3) if k != 8]\n",
        "print(type(x))\n",
        "print(x)"
      ],
      "execution_count": null,
      "outputs": [
        {
          "name": "stdout",
          "output_type": "stream",
          "text": [
            "<class 'list'>\n",
            "[4, 25, 121]\n"
          ]
        }
      ]
    },
    {
      "cell_type": "code",
      "metadata": {
        "id": "G6jQaMe7ZTuJ",
        "outputId": "a97dc476-ca8b-45b4-c206-23b7651bf490"
      },
      "source": [
        "x = (k ** 2 for k in range(2, 12, 3))\n",
        "print(type(x))\n",
        "print(x)"
      ],
      "execution_count": null,
      "outputs": [
        {
          "name": "stdout",
          "output_type": "stream",
          "text": [
            "<class 'generator'>\n",
            "<generator object <genexpr> at 0x7f9f38ba6938>\n"
          ]
        }
      ]
    },
    {
      "cell_type": "code",
      "metadata": {
        "id": "sqIKmdj1ZTuK",
        "outputId": "c5b9e0ce-8e06-43f3-bae5-6da4fe37b485"
      },
      "source": [
        "for k in x:\n",
        "    print(k)"
      ],
      "execution_count": null,
      "outputs": [
        {
          "name": "stdout",
          "output_type": "stream",
          "text": [
            "4\n",
            "25\n",
            "64\n",
            "121\n"
          ]
        }
      ]
    },
    {
      "cell_type": "markdown",
      "metadata": {
        "id": "swQ0hBHkZTuN"
      },
      "source": [
        "### tuple"
      ]
    },
    {
      "cell_type": "code",
      "metadata": {
        "id": "vB_jaEYyZTuN",
        "outputId": "dc0a0f26-47c7-44b1-b3bd-bfb8aeed4889"
      },
      "source": [
        "features_tuple = ('Ivan Ivanovich', 'Medium', 500000, 12, True)\n",
        "print(type(features_tuple))"
      ],
      "execution_count": null,
      "outputs": [
        {
          "name": "stdout",
          "output_type": "stream",
          "text": [
            "<class 'tuple'>\n"
          ]
        }
      ]
    },
    {
      "cell_type": "code",
      "metadata": {
        "id": "7YXk5_eSZTuO",
        "outputId": "be869b77-c4b7-4d80-c4fc-9b13a34444a2"
      },
      "source": [
        "features_tuple[2:5]"
      ],
      "execution_count": null,
      "outputs": [
        {
          "data": {
            "text/plain": [
              "(500000, 12, True)"
            ]
          },
          "execution_count": 87,
          "metadata": {},
          "output_type": "execute_result"
        }
      ]
    },
    {
      "cell_type": "code",
      "metadata": {
        "id": "JsacFBmiZTuP",
        "outputId": "74eb7c59-1bce-445d-8d42-d3e7642a9e2c"
      },
      "source": [
        "features_tuple.append('one more element')"
      ],
      "execution_count": null,
      "outputs": [
        {
          "ename": "AttributeError",
          "evalue": "'tuple' object has no attribute 'append'",
          "output_type": "error",
          "traceback": [
            "\u001b[0;31m---------------------------------------------------------------------------\u001b[0m",
            "\u001b[0;31mAttributeError\u001b[0m                            Traceback (most recent call last)",
            "\u001b[0;32m<ipython-input-88-ea16a6b56b87>\u001b[0m in \u001b[0;36m<module>\u001b[0;34m()\u001b[0m\n\u001b[0;32m----> 1\u001b[0;31m \u001b[0mfeatures_tuple\u001b[0m\u001b[0;34m.\u001b[0m\u001b[0mappend\u001b[0m\u001b[0;34m(\u001b[0m\u001b[0;34m'one more element'\u001b[0m\u001b[0;34m)\u001b[0m\u001b[0;34m\u001b[0m\u001b[0m\n\u001b[0m",
            "\u001b[0;31mAttributeError\u001b[0m: 'tuple' object has no attribute 'append'"
          ]
        }
      ]
    },
    {
      "cell_type": "markdown",
      "metadata": {
        "id": "yTXKnLXtZTuQ"
      },
      "source": [
        "## 5. Множества и словари"
      ]
    },
    {
      "cell_type": "markdown",
      "metadata": {
        "id": "TmcbJdkWZTuR"
      },
      "source": [
        "### set"
      ]
    },
    {
      "cell_type": "code",
      "metadata": {
        "id": "diBet6qJZTuR"
      },
      "source": [
        "names = {'Ivan', 'Petr', 'Konstantin'}"
      ],
      "execution_count": null,
      "outputs": []
    },
    {
      "cell_type": "code",
      "metadata": {
        "id": "GNmocF_aZTuS",
        "outputId": "252ef7bd-10e2-4ffb-d4de-23c0fed5fcb4"
      },
      "source": [
        "print(type(names))"
      ],
      "execution_count": null,
      "outputs": [
        {
          "name": "stdout",
          "output_type": "stream",
          "text": [
            "<class 'set'>\n"
          ]
        }
      ]
    },
    {
      "cell_type": "code",
      "metadata": {
        "id": "C6B6WrYOZTuT",
        "outputId": "9b7d6cee-edb7-4d3c-8242-3dc085e5951c"
      },
      "source": [
        "print('Ivan' in names)"
      ],
      "execution_count": null,
      "outputs": [
        {
          "name": "stdout",
          "output_type": "stream",
          "text": [
            "True\n"
          ]
        }
      ]
    },
    {
      "cell_type": "code",
      "metadata": {
        "id": "x7a_ktCjZTuU",
        "outputId": "8e6261c6-fa27-4d08-b07d-e69779267685"
      },
      "source": [
        "print('Mikhail' in names)"
      ],
      "execution_count": null,
      "outputs": [
        {
          "name": "stdout",
          "output_type": "stream",
          "text": [
            "False\n"
          ]
        }
      ]
    },
    {
      "cell_type": "code",
      "metadata": {
        "id": "L--aU3PmZTuV",
        "outputId": "642cc20f-8805-40e3-e17c-228c6125e06e"
      },
      "source": [
        "names.add('Mikhail')\n",
        "print(names)"
      ],
      "execution_count": null,
      "outputs": [
        {
          "name": "stdout",
          "output_type": "stream",
          "text": [
            "{'Mikhail', 'Petr', 'Ivan', 'Konstantin'}\n"
          ]
        }
      ]
    },
    {
      "cell_type": "code",
      "metadata": {
        "id": "aSHpo9HGZTuW",
        "outputId": "170a3404-e8f7-483c-94e6-41817fe77d35"
      },
      "source": [
        "names.add('Mikhail')\n",
        "print(names)"
      ],
      "execution_count": null,
      "outputs": [
        {
          "name": "stdout",
          "output_type": "stream",
          "text": [
            "{'Mikhail', 'Petr', 'Ivan', 'Konstantin'}\n"
          ]
        }
      ]
    },
    {
      "cell_type": "code",
      "metadata": {
        "id": "3HJzkJWIZTuX",
        "outputId": "09bb166c-5595-44f1-b341-3341565f91f5"
      },
      "source": [
        "names.remove('Mikhail')\n",
        "print(names)"
      ],
      "execution_count": null,
      "outputs": [
        {
          "name": "stdout",
          "output_type": "stream",
          "text": [
            "{'Petr', 'Ivan', 'Konstantin'}\n"
          ]
        }
      ]
    },
    {
      "cell_type": "code",
      "metadata": {
        "id": "0KGeSIynZTuY",
        "outputId": "6b954caa-e307-472c-8c38-4b931a48df91"
      },
      "source": [
        "names.add(['Vladimir', 'Vladimirovich'])"
      ],
      "execution_count": null,
      "outputs": [
        {
          "ename": "TypeError",
          "evalue": "unhashable type: 'list'",
          "output_type": "error",
          "traceback": [
            "\u001b[0;31m---------------------------------------------------------------------------\u001b[0m",
            "\u001b[0;31mTypeError\u001b[0m                                 Traceback (most recent call last)",
            "\u001b[0;32m<ipython-input-96-4a104b0fb39e>\u001b[0m in \u001b[0;36m<module>\u001b[0;34m()\u001b[0m\n\u001b[0;32m----> 1\u001b[0;31m \u001b[0mnames\u001b[0m\u001b[0;34m.\u001b[0m\u001b[0madd\u001b[0m\u001b[0;34m(\u001b[0m\u001b[0;34m[\u001b[0m\u001b[0;34m'Vladimir'\u001b[0m\u001b[0;34m,\u001b[0m \u001b[0;34m'Vladimirovich'\u001b[0m\u001b[0;34m]\u001b[0m\u001b[0;34m)\u001b[0m\u001b[0;34m\u001b[0m\u001b[0m\n\u001b[0m",
            "\u001b[0;31mTypeError\u001b[0m: unhashable type: 'list'"
          ]
        }
      ]
    },
    {
      "cell_type": "code",
      "metadata": {
        "id": "ZlgUER63ZTua",
        "outputId": "d03f0a3e-5dcf-4cd3-c398-6f66cd884979"
      },
      "source": [
        "names.add(('Vladimir', 'Vladimirovich'))\n",
        "print(names)"
      ],
      "execution_count": null,
      "outputs": [
        {
          "name": "stdout",
          "output_type": "stream",
          "text": [
            "{'Petr', 'Ivan', ('Vladimir', 'Vladimirovich'), 'Konstantin'}\n"
          ]
        }
      ]
    },
    {
      "cell_type": "code",
      "metadata": {
        "id": "_T2erWjpZTua"
      },
      "source": [
        "a = range(1000000)\n",
        "b = list(a)\n",
        "c = set(a)"
      ],
      "execution_count": null,
      "outputs": []
    },
    {
      "cell_type": "code",
      "metadata": {
        "id": "Qk__lOYvZTuc",
        "outputId": "f265fb1d-9829-4456-889a-4ab761aa9fa5"
      },
      "source": [
        "print(a[:5], b[:5])\n",
        "print(a[-5:], b[-5:])"
      ],
      "execution_count": null,
      "outputs": [
        {
          "name": "stdout",
          "output_type": "stream",
          "text": [
            "range(0, 5) [0, 1, 2, 3, 4]\n",
            "range(999995, 1000000) [999995, 999996, 999997, 999998, 999999]\n"
          ]
        }
      ]
    },
    {
      "cell_type": "markdown",
      "metadata": {
        "id": "YBjnfUZhZTug"
      },
      "source": [
        "### dict"
      ]
    },
    {
      "cell_type": "code",
      "metadata": {
        "id": "YAvn_qm2ZTug",
        "outputId": "88d2c57c-05e3-4adc-f403-f04b3bb8b557"
      },
      "source": [
        "words_frequencies = dict()\n",
        "words_frequencies['I'] = 2\n",
        "words_frequencies['am'] = 1\n",
        "words_frequencies['I'] += 1\n",
        "\n",
        "print(words_frequencies)"
      ],
      "execution_count": null,
      "outputs": [
        {
          "name": "stdout",
          "output_type": "stream",
          "text": [
            "{'I': 3, 'am': 1}\n"
          ]
        }
      ]
    },
    {
      "cell_type": "code",
      "metadata": {
        "id": "vFohtvbaZTuh",
        "outputId": "7880166d-9b2f-43d3-af19-bc5317973b53"
      },
      "source": [
        "print(words_frequencies['I'])"
      ],
      "execution_count": null,
      "outputs": [
        {
          "name": "stdout",
          "output_type": "stream",
          "text": [
            "3\n"
          ]
        }
      ]
    },
    {
      "cell_type": "code",
      "metadata": {
        "id": "D6NqrChRZTui",
        "outputId": "1e715906-4e6f-4d9d-c351-e535dc7acef3"
      },
      "source": [
        "words_frequencies = {'I': 2, 'am': 1}\n",
        "print(words_frequencies)"
      ],
      "execution_count": null,
      "outputs": [
        {
          "name": "stdout",
          "output_type": "stream",
          "text": [
            "{'I': 2, 'am': 1}\n"
          ]
        }
      ]
    },
    {
      "cell_type": "code",
      "metadata": {
        "id": "rAiz3_9gZTuj",
        "outputId": "28aa7b22-29dd-45b5-a0f2-b1b29dcff8dc"
      },
      "source": [
        "yet_another_dict = {'abc': 3.4, 5: 7.8, u'123': None}\n",
        "print(yet_another_dict)"
      ],
      "execution_count": null,
      "outputs": [
        {
          "name": "stdout",
          "output_type": "stream",
          "text": [
            "{'abc': 3.4, 5: 7.8, '123': None}\n"
          ]
        }
      ]
    },
    {
      "cell_type": "code",
      "metadata": {
        "id": "IVV88lyWZTuk",
        "outputId": "07472b40-f6ee-46c1-a519-a4abc695e60c"
      },
      "source": [
        "yet_another_dict[(1,2,5)] = [4, 5, 7]\n",
        "print(yet_another_dict)"
      ],
      "execution_count": null,
      "outputs": [
        {
          "name": "stdout",
          "output_type": "stream",
          "text": [
            "{'abc': 3.4, 5: 7.8, '123': None, (1, 2, 5): [4, 5, 7]}\n"
          ]
        }
      ]
    },
    {
      "cell_type": "code",
      "metadata": {
        "id": "qUlMptCtZTum",
        "outputId": "658b94e9-e82c-46f6-da60-37d2c6264594"
      },
      "source": [
        "yet_another_dict[[1,2,7]] = [4, 5]"
      ],
      "execution_count": null,
      "outputs": [
        {
          "ename": "TypeError",
          "evalue": "unhashable type: 'list'",
          "output_type": "error",
          "traceback": [
            "\u001b[0;31m---------------------------------------------------------------------------\u001b[0m",
            "\u001b[0;31mTypeError\u001b[0m                                 Traceback (most recent call last)",
            "\u001b[0;32m<ipython-input-108-d896033641d2>\u001b[0m in \u001b[0;36m<module>\u001b[0;34m()\u001b[0m\n\u001b[0;32m----> 1\u001b[0;31m \u001b[0myet_another_dict\u001b[0m\u001b[0;34m[\u001b[0m\u001b[0;34m[\u001b[0m\u001b[0;36m1\u001b[0m\u001b[0;34m,\u001b[0m\u001b[0;36m2\u001b[0m\u001b[0;34m,\u001b[0m\u001b[0;36m7\u001b[0m\u001b[0;34m]\u001b[0m\u001b[0;34m]\u001b[0m \u001b[0;34m=\u001b[0m \u001b[0;34m[\u001b[0m\u001b[0;36m4\u001b[0m\u001b[0;34m,\u001b[0m \u001b[0;36m5\u001b[0m\u001b[0;34m]\u001b[0m\u001b[0;34m\u001b[0m\u001b[0m\n\u001b[0m",
            "\u001b[0;31mTypeError\u001b[0m: unhashable type: 'list'"
          ]
        }
      ]
    },
    {
      "cell_type": "code",
      "metadata": {
        "id": "Ik7G8rg5ZTuo"
      },
      "source": [
        ""
      ],
      "execution_count": null,
      "outputs": []
    },
    {
      "cell_type": "code",
      "metadata": {
        "id": "0Gd73NtqZTup"
      },
      "source": [
        ""
      ],
      "execution_count": null,
      "outputs": []
    }
  ]
}