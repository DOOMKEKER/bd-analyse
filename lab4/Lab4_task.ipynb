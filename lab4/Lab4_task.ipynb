{
 "cells": [
  {
   "cell_type": "markdown",
   "metadata": {},
   "source": [
    "# Лабораторная работа № 4. Решение задачи классификации на примере прогноза состояния системы на основе данных о состоянии ее компонентов."
   ]
  },
  {
   "cell_type": "markdown",
   "metadata": {},
   "source": [
    "В работе проводится ознакомление с различными методами машинного обучения с учителем, решающих задачу классификации. СОздаются различные линейные и нелинейные модели и оценивается точность из прогноза."
   ]
  },
  {
   "cell_type": "markdown",
   "metadata": {},
   "source": [
    "## Введение"
   ]
  },
  {
   "cell_type": "markdown",
   "metadata": {},
   "source": [
    "Современные радиолокационные станции (РЛС) – это структурно-сложные радиотехнические и информационные системы, характеризующиеся высокой надежностью функционирования и большим числом цифровых компонентов в своем составе. Одним из таких компонентов является блок усиления мощности (БУМ), задача которого усиливать передаваемый или принимаемый сигнал.\n",
    "\n",
    "Функционирование БУМ приводит к их нагреву, что может сказаться на снижении их работоспособности или даже привести к отказу. Под системой в этой работе мы будем понимать несколько БУМ, объединенных в единое целое. Тогда техническое состояние всей системы будет определяться техническим состоянием ее компонент, т.е. состоянием БУМ в данной работе. Техническое же состояние БУМ напрямую зависит от их температуры: при достижении определенного порога блок перестает работать и начинает охлаждаться. После охлаждения до определенной температуры он снова переходит в рабоспособное состояние.\n",
    "\n",
    "Основная задача - спрогнозировать увеличение температуры блоков усиления мощности на основании истории их функционирования и режима работы блоков, который задает интенсивность нагрева, и возможный выход из строя всей системы блоков. В лабораторной работе № 3 проводится статистический анализ данных тепловой нагрузки модельных БУМ, определяются пороговые значения температур, при которых происходит отключение блоков с целью их охлаждения. На основании пороговых температур вычислено состояние блоков в интервале \\[0, 1\\] и установлен простой критерий определения состояния системы - снижение среднего состояния всех блоков ниже определенного порогового значения. \n",
    "\n",
    "В данной лабораторной работе будут применены различные методы машинного обучения с учителем для установления зависимости состояния системы от состояний блоков и прогноза состояния системы."
   ]
  },
  {
   "cell_type": "markdown",
   "metadata": {},
   "source": [
    "## Описание исходных данных"
   ]
  },
  {
   "cell_type": "markdown",
   "metadata": {},
   "source": [
    "Подключим стандартные пакеты для работы с данными и построения графиков"
   ]
  },
  {
   "cell_type": "code",
   "execution_count": 28,
   "metadata": {},
   "outputs": [],
   "source": [
    "import numpy as np\n",
    "import pandas as pd\n",
    "from matplotlib import pyplot as plt\n",
    "%matplotlib inline"
   ]
  },
  {
   "cell_type": "markdown",
   "metadata": {},
   "source": [
    "Загрузим файл с данными и выведем на экран первые 5 строк. Получим информацию по каждой колонке."
   ]
  },
  {
   "cell_type": "code",
   "execution_count": 29,
   "metadata": {},
   "outputs": [
    {
     "data": {
      "text/html": [
       "<div>\n",
       "<style scoped>\n",
       "    .dataframe tbody tr th:only-of-type {\n",
       "        vertical-align: middle;\n",
       "    }\n",
       "\n",
       "    .dataframe tbody tr th {\n",
       "        vertical-align: top;\n",
       "    }\n",
       "\n",
       "    .dataframe thead th {\n",
       "        text-align: right;\n",
       "    }\n",
       "</style>\n",
       "<table border=\"1\" class=\"dataframe\">\n",
       "  <thead>\n",
       "    <tr style=\"text-align: right;\">\n",
       "      <th></th>\n",
       "      <th>state1</th>\n",
       "      <th>state2</th>\n",
       "      <th>state3</th>\n",
       "      <th>state4</th>\n",
       "      <th>state5</th>\n",
       "      <th>state6</th>\n",
       "      <th>state7</th>\n",
       "      <th>state8</th>\n",
       "      <th>state9</th>\n",
       "      <th>system_state</th>\n",
       "    </tr>\n",
       "  </thead>\n",
       "  <tbody>\n",
       "    <tr>\n",
       "      <th>0</th>\n",
       "      <td>0.990954</td>\n",
       "      <td>0.996330</td>\n",
       "      <td>1.000000</td>\n",
       "      <td>0.979060</td>\n",
       "      <td>1.000000</td>\n",
       "      <td>0.929844</td>\n",
       "      <td>0.947907</td>\n",
       "      <td>0.952991</td>\n",
       "      <td>0.962632</td>\n",
       "      <td>1.0</td>\n",
       "    </tr>\n",
       "    <tr>\n",
       "      <th>1</th>\n",
       "      <td>0.838641</td>\n",
       "      <td>0.806637</td>\n",
       "      <td>0.820733</td>\n",
       "      <td>0.813443</td>\n",
       "      <td>0.797077</td>\n",
       "      <td>0.736372</td>\n",
       "      <td>0.720410</td>\n",
       "      <td>0.780524</td>\n",
       "      <td>0.794755</td>\n",
       "      <td>1.0</td>\n",
       "    </tr>\n",
       "    <tr>\n",
       "      <th>2</th>\n",
       "      <td>0.821185</td>\n",
       "      <td>0.769370</td>\n",
       "      <td>0.830724</td>\n",
       "      <td>0.830488</td>\n",
       "      <td>0.813958</td>\n",
       "      <td>0.753848</td>\n",
       "      <td>0.715018</td>\n",
       "      <td>0.781899</td>\n",
       "      <td>0.796795</td>\n",
       "      <td>1.0</td>\n",
       "    </tr>\n",
       "    <tr>\n",
       "      <th>3</th>\n",
       "      <td>0.687686</td>\n",
       "      <td>0.604382</td>\n",
       "      <td>0.676615</td>\n",
       "      <td>0.708904</td>\n",
       "      <td>0.624583</td>\n",
       "      <td>0.638659</td>\n",
       "      <td>0.576266</td>\n",
       "      <td>0.615852</td>\n",
       "      <td>0.651636</td>\n",
       "      <td>1.0</td>\n",
       "    </tr>\n",
       "    <tr>\n",
       "      <th>4</th>\n",
       "      <td>0.583539</td>\n",
       "      <td>0.503571</td>\n",
       "      <td>0.578079</td>\n",
       "      <td>0.586587</td>\n",
       "      <td>0.534546</td>\n",
       "      <td>0.551319</td>\n",
       "      <td>0.487111</td>\n",
       "      <td>0.529548</td>\n",
       "      <td>0.518788</td>\n",
       "      <td>1.0</td>\n",
       "    </tr>\n",
       "  </tbody>\n",
       "</table>\n",
       "</div>"
      ],
      "text/plain": [
       "     state1    state2    state3    state4    state5    state6    state7  \\\n",
       "0  0.990954  0.996330  1.000000  0.979060  1.000000  0.929844  0.947907   \n",
       "1  0.838641  0.806637  0.820733  0.813443  0.797077  0.736372  0.720410   \n",
       "2  0.821185  0.769370  0.830724  0.830488  0.813958  0.753848  0.715018   \n",
       "3  0.687686  0.604382  0.676615  0.708904  0.624583  0.638659  0.576266   \n",
       "4  0.583539  0.503571  0.578079  0.586587  0.534546  0.551319  0.487111   \n",
       "\n",
       "     state8    state9  system_state  \n",
       "0  0.952991  0.962632           1.0  \n",
       "1  0.780524  0.794755           1.0  \n",
       "2  0.781899  0.796795           1.0  \n",
       "3  0.615852  0.651636           1.0  \n",
       "4  0.529548  0.518788           1.0  "
      ]
     },
     "execution_count": 29,
     "metadata": {},
     "output_type": "execute_result"
    }
   ],
   "source": [
    "df = pd.read_csv(\"Lab4_data.csv\")\n",
    "df.head(5)"
   ]
  },
  {
   "cell_type": "code",
   "execution_count": 30,
   "metadata": {},
   "outputs": [
    {
     "name": "stdout",
     "output_type": "stream",
     "text": [
      "<class 'pandas.core.frame.DataFrame'>\n",
      "RangeIndex: 1205950 entries, 0 to 1205949\n",
      "Data columns (total 10 columns):\n",
      " #   Column        Non-Null Count    Dtype  \n",
      "---  ------        --------------    -----  \n",
      " 0   state1        1205950 non-null  float64\n",
      " 1   state2        1205950 non-null  float64\n",
      " 2   state3        1205950 non-null  float64\n",
      " 3   state4        1205950 non-null  float64\n",
      " 4   state5        1205950 non-null  float64\n",
      " 5   state6        1205950 non-null  float64\n",
      " 6   state7        1205950 non-null  float64\n",
      " 7   state8        1205950 non-null  float64\n",
      " 8   state9        1205950 non-null  float64\n",
      " 9   system_state  1205950 non-null  float64\n",
      "dtypes: float64(10)\n",
      "memory usage: 92.0 MB\n"
     ]
    }
   ],
   "source": [
    "df.info()"
   ]
  },
  {
   "cell_type": "markdown",
   "metadata": {},
   "source": [
    "Колонки **state1 - state9** содержат состояние блока 1 - 9 в виде вещественного числа в интервале \\[0, 1\\]. При этом значению 1 соответствует работоспособное состояние с минимальной температурой, в состоянию 0 - выключенное состояние, когда блок находится в режиме обхлаждения. Колонка **system_state** обозначает состояние системы: 1 - работоспособна, 0 - нерабоспособна. Все колонки имеют тип **float64**."
   ]
  },
  {
   "cell_type": "markdown",
   "metadata": {},
   "source": [
    "## Подготовка данных"
   ]
  },
  {
   "cell_type": "markdown",
   "metadata": {},
   "source": [
    "Для использования моделей машинного обучения с учителем необходимо специальным образом подготовить данные: сформировать обучающую выборку, на которой модель будет \"учиться\", т.е. подстраивать свои внутренние параметры, тестовую выборку, на которой будет определяться точность модели в процессе ее обучения, а также валидационную выборку, на которой проверяется итогое качество работы модели. \n",
    "\n",
    "Вместо выделения валидационной выборки можно использовать механизм кросс-валидации.В основе метода лежит разделение исходного множества данных на **k** примерно равных блоков, например 5. Затем на **k-1**, т.е. на 4-х блоках, производится обучение модели, а 5-й блок используется для тестирования. Процедура повторяется **k** раз, при этом на каждом проходе для проверки выбирается новый блок, а обучение производится на оставшихся.\n",
    "![Cross-validation](https://wiki.loginom.ru/images/cross-validation.svg)"
   ]
  },
  {
   "cell_type": "markdown",
   "metadata": {},
   "source": [
    "Кросс-валидация имеет два основных преимущества перед применением одного множества для обучения и одного для тестирования модели:\n",
    "\n",
    "- Распределение классов оказывается более равномерным, что улучшает качество обучения.\n",
    "- Если при каждом проходе оценить выходную ошибку модели и усреднить ее по всем проходам, то полученная оценка будет более достоверной.\n",
    "\n",
    "В дальнейшем в этой лабораторной работе будем использовать разбиение на 5 блоков с помощью метода **[KFold](https://scikit-learn.org/stable/modules/generated/sklearn.model_selection.KFold.html?highlight=k%20fold#sklearn.model_selection.KFold 'KFold')**."
   ]
  },
  {
   "cell_type": "code",
   "execution_count": 31,
   "metadata": {},
   "outputs": [
    {
     "name": "stdout",
     "output_type": "stream",
     "text": [
      "Fold 1\n",
      "Train index:  [      0       1       2 ... 1205946 1205948 1205949]\n",
      "Test index:  [     12      13      14 ... 1205935 1205940 1205947]\n",
      "Fold 2\n",
      "Train index:  [      0       2       3 ... 1205947 1205948 1205949]\n",
      "Test index:  [      1       8      10 ... 1205934 1205938 1205945]\n",
      "Fold 3\n",
      "Train index:  [      0       1       2 ... 1205947 1205948 1205949]\n",
      "Test index:  [      4      11      15 ... 1205937 1205943 1205944]\n",
      "Fold 4\n",
      "Train index:  [      0       1       4 ... 1205946 1205947 1205949]\n",
      "Test index:  [      2       3       5 ... 1205939 1205942 1205948]\n",
      "Fold 5\n",
      "Train index:  [      1       2       3 ... 1205945 1205947 1205948]\n",
      "Test index:  [      0       7       9 ... 1205941 1205946 1205949]\n"
     ]
    }
   ],
   "source": [
    "from sklearn.model_selection import KFold\n",
    "from sklearn.model_selection import train_test_split\n",
    "\n",
    "kf = KFold(n_splits=5, shuffle=True)\n",
    "X = df.loc[:, 'state1':'state9']\n",
    "y = df['system_state'].astype(int)\n",
    "\n",
    "for i, (train_index, test_index) in enumerate(kf.split(X), start=1):\n",
    "    print('Fold {}'.format(i))\n",
    "    print('Train index: ', train_index)\n",
    "    print('Test index: ', test_index)\n",
    "\n",
    "\n",
    "\n",
    "# train_feature_matrix, test_feature_matrix, train_labels, test_labels = train_test_split(X, y, test_size=0.2, random_state=42)"
   ]
  },
  {
   "cell_type": "code",
   "execution_count": 32,
   "metadata": {},
   "outputs": [],
   "source": [
    "from sklearn.metrics import accuracy_score\n",
    "from sklearn.metrics import r2_score, mean_squared_error, make_scorer"
   ]
  },
  {
   "cell_type": "markdown",
   "metadata": {},
   "source": [
    "## Линейные модели машинного обучения\n"
   ]
  },
  {
   "cell_type": "markdown",
   "metadata": {},
   "source": [
    "Задача определения состояния системы по известным состояниям блоков является задачей бинарной классификации. Среди линейных моделей будем использовать линейную регрессию, линейную регрессию с L1 и L2-регуляризацией, а также логистическую регрессию. Подробное описание работы этих моделей можно прочитать на сайте [Scikit Learn](https://scikit-learn.org/stable/modules/linear_model.html 'Scikit Learn')."
   ]
  },
  {
   "cell_type": "markdown",
   "metadata": {},
   "source": [
    "Сделаем процесс обучения различных моделей универсальным. Для этого напишем функцию **regr_accuracy(y_pred, y_test)**, которая будет считать точность спрогнизорованных значений целевой переменной для модели регрессии, функцию **class_accuracy(y_pred, y_test)**, которая будет считать точность спрогнизорованных значений целевой переменной для модели классификации, и функцию **train(model, model_name, evaluate, kfold, X, y)**, которая обучает заданную модель **model** с использованием механизма кросс-валидации **kfold**.\n",
    "\n",
    "Точность - относительная доля правильно спрогнозированных значений."
   ]
  },
  {
   "cell_type": "code",
   "execution_count": 33,
   "metadata": {},
   "outputs": [],
   "source": [
    "def regr_accuracy(y_pred, y_test):\n",
    "    diff = np.abs(y_pred - y_test)\n",
    "    y = diff < 0.5\n",
    "    return y.sum() / len(y)\n",
    "\n",
    "def class_accuracy(y_pred, y_test):\n",
    "    return accuracy_score(y_test, y_pred)\n",
    "\n",
    "def train(model, model_name, ev, kfold, X, y):\n",
    "    # model - модель для прогноза, обладающая методами fit(), predict()\n",
    "    # model_name - название модели, строковый тип\n",
    "    # evaluate - функция для расчета точности, например функция regr_accuracy() или class_accuracy()\n",
    "    # kfold - объект KFold\n",
    "    # X - признаки\n",
    "    # y - целевая переменная\n",
    "    print('Train model: '+model_name)\n",
    "    scores = []\n",
    "    for train_index, test_index in kfold.split(X):\n",
    "        model.fit(X.iloc[train_index], y.iloc[train_index])\n",
    "        y_pred = model.predict(X.iloc[test_index])\n",
    "        scores.append(ev(y_pred,y.iloc[test_index]))\n",
    "        # напишите здесь ваш код\n",
    "        \n",
    "    mean_score = np.mean(scores)\n",
    "    print('Mean score = {:.5f}'.format(mean_score))\n",
    "    # print(scores)\n",
    "    return mean_score"
   ]
  },
  {
   "cell_type": "markdown",
   "metadata": {},
   "source": [
    "### Линейная регрессия"
   ]
  },
  {
   "cell_type": "markdown",
   "metadata": {},
   "source": [
    "В линейных моделях целевая переменная $\\hat{y}$ определяется как линейная комбинация известных переменных (признаков):\n",
    "\n",
    "$$\\hat{y}(w, x) = w_0 + w_1 x_1 + ... + w_p x_p$$\n",
    "\n",
    "В модели линейной регрессии коэффициенты $w = (w_1, ..., w_p)$ подбираются таким образом, чтобы минимизировать сумму квадратов отклонений рассчитанных значений целевой переменной от истинных значений:\n",
    "\n",
    "$$\\min_{w} || X w - y||_2^2$$\n",
    "\n",
    "Важно отметить, что линейные модели чувствительны к абсолютным значениям признаков, поэтому следует перед применением линейных моделей провести нормирование исходных данных (обычно на интервал \\[0,1\\]). Также применение линейных моделей основано на предположении о линейной независимости признаков, поэтому следует стараться не использовать в качестве признаков коррелированные признаки. В противном случае модель будет чувствительна к шумам, т.е. случайным выбросам в значениях признаков."
   ]
  },
  {
   "cell_type": "markdown",
   "metadata": {},
   "source": [
    "Создадим и обучим модель **[LinearRegression](https://scikit-learn.org/stable/modules/generated/sklearn.linear_model.LinearRegression.html#sklearn.linear_model.LinearRegression 'LinearRegression')**. Запишем точность модели в словарь **scores**."
   ]
  },
  {
   "cell_type": "code",
   "execution_count": 34,
   "metadata": {},
   "outputs": [
    {
     "name": "stdout",
     "output_type": "stream",
     "text": [
      "Train model: linear regression\n",
      "Mean score = 0.83746\n"
     ]
    }
   ],
   "source": [
    "from sklearn import linear_model\n",
    "\n",
    "lin_reg = linear_model.LinearRegression()\n",
    "\n",
    "scores = dict()\n",
    "\n",
    "score = train(lin_reg, 'linear regression', regr_accuracy, kf, X, y)\n",
    "scores['linear regression'] = score"
   ]
  },
  {
   "cell_type": "markdown",
   "metadata": {},
   "source": [
    "### Линейная регрессия c L1 и L2 регуляризацией"
   ]
  },
  {
   "cell_type": "markdown",
   "metadata": {},
   "source": [
    "Если размер обучающей выборки невелик, а число признаков, наоборот, достаточно велико, то коэффициенты модели могут быть подобраны таким образом, чтобы модель максимально точно учитывала все точки из обучающей выборки, при этом вне обучающей выборки модель будет давать большую ошибку. Это явление носит название переобучения. Одним из способов препятствовать переобучению является механизмы регуляризации. Он ограничивает значения коэффицентов $w = (w_1, ..., w_p)$, используемых в модели.\n",
    "\n",
    "L1-регуляризация вносит дополнительный \"штраф\", пропорциональный модулю значения коэффициента:\n",
    "$$\\min_{w} ||X w - y||_2 ^ 2 + \\alpha ||w||_1$$\n",
    "\n",
    "L2-регуляризация вносит дополнительный \"штраф\", пропорциональный квадрату модуля значения коэффициента:\n",
    "$$\\min_{w} || X w - y||_2^2 + \\alpha ||w||_2^2$$\n",
    "\n",
    "Параметр $\\alpha$ задает \"силу\" регуляризации. L1-регуляризация приведет к тому, что все несущественные признаки будут иметь вес, равный 0. L2-регуляризация приведет к тому, что несущественные признаки будут иметь околонулевые веса. Продемонстрируем это на примере. Создадим и обучим модели **[Lasso](https://scikit-learn.org/stable/modules/generated/sklearn.linear_model.Lasso.html#sklearn.linear_model.Lasso 'Lasso')** (L1-регуляризация) и **[Ridge](https://scikit-learn.org/stable/modules/generated/sklearn.linear_model.Ridge.html#sklearn.linear_model.Ridge 'Ridge')** (L2-регуляризация).\n",
    "\n",
    "Подберите оптимальное значения параметра регуляризации **$\\alpha$** для модели **Lasso**."
   ]
  },
  {
   "cell_type": "code",
   "execution_count": 35,
   "metadata": {},
   "outputs": [],
   "source": [
    "from sklearn.model_selection import GridSearchCV\n",
    "X_train, X_test, y_train, y_test = train_test_split(X, y, test_size=0.2)"
   ]
  },
  {
   "cell_type": "code",
   "execution_count": 36,
   "metadata": {},
   "outputs": [
    {
     "name": "stdout",
     "output_type": "stream",
     "text": [
      "Fitting 5 folds for each of 5 candidates, totalling 25 fits\n",
      "[CV 1/5; 1/5] START alpha=0.0001................................................\n",
      "[CV 1/5; 1/5] END .................alpha=0.0001;, score=0.470 total time=   1.3s\n",
      "[CV 2/5; 1/5] START alpha=0.0001................................................\n",
      "[CV 2/5; 1/5] END .................alpha=0.0001;, score=0.472 total time=   1.0s\n",
      "[CV 3/5; 1/5] START alpha=0.0001................................................\n",
      "[CV 3/5; 1/5] END .................alpha=0.0001;, score=0.473 total time=   1.0s\n",
      "[CV 4/5; 1/5] START alpha=0.0001................................................\n",
      "[CV 4/5; 1/5] END .................alpha=0.0001;, score=0.471 total time=   0.9s\n",
      "[CV 5/5; 1/5] START alpha=0.0001................................................\n",
      "[CV 5/5; 1/5] END .................alpha=0.0001;, score=0.472 total time=   0.9s\n",
      "[CV 1/5; 2/5] START alpha=0.001.................................................\n",
      "[CV 1/5; 2/5] END ..................alpha=0.001;, score=0.470 total time=   1.0s\n",
      "[CV 2/5; 2/5] START alpha=0.001.................................................\n",
      "[CV 2/5; 2/5] END ..................alpha=0.001;, score=0.471 total time=   1.1s\n",
      "[CV 3/5; 2/5] START alpha=0.001.................................................\n",
      "[CV 3/5; 2/5] END ..................alpha=0.001;, score=0.473 total time=   0.9s\n",
      "[CV 4/5; 2/5] START alpha=0.001.................................................\n",
      "[CV 4/5; 2/5] END ..................alpha=0.001;, score=0.471 total time=   0.9s\n",
      "[CV 5/5; 2/5] START alpha=0.001.................................................\n",
      "[CV 5/5; 2/5] END ..................alpha=0.001;, score=0.472 total time=   0.8s\n",
      "[CV 1/5; 3/5] START alpha=0.01..................................................\n",
      "[CV 1/5; 3/5] END ...................alpha=0.01;, score=0.461 total time=   0.8s\n",
      "[CV 2/5; 3/5] START alpha=0.01..................................................\n",
      "[CV 2/5; 3/5] END ...................alpha=0.01;, score=0.462 total time=   0.9s\n",
      "[CV 3/5; 3/5] START alpha=0.01..................................................\n",
      "[CV 3/5; 3/5] END ...................alpha=0.01;, score=0.463 total time=   0.7s\n",
      "[CV 4/5; 3/5] START alpha=0.01..................................................\n",
      "[CV 4/5; 3/5] END ...................alpha=0.01;, score=0.462 total time=   0.8s\n",
      "[CV 5/5; 3/5] START alpha=0.01..................................................\n",
      "[CV 5/5; 3/5] END ...................alpha=0.01;, score=0.463 total time=   0.8s\n",
      "[CV 1/5; 4/5] START alpha=0.1...................................................\n",
      "[CV 1/5; 4/5] END ...................alpha=0.1;, score=-0.000 total time=   0.2s\n",
      "[CV 2/5; 4/5] START alpha=0.1...................................................\n",
      "[CV 2/5; 4/5] END ...................alpha=0.1;, score=-0.000 total time=   0.2s\n",
      "[CV 3/5; 4/5] START alpha=0.1...................................................\n",
      "[CV 3/5; 4/5] END ...................alpha=0.1;, score=-0.000 total time=   0.1s\n",
      "[CV 4/5; 4/5] START alpha=0.1...................................................\n",
      "[CV 4/5; 4/5] END ...................alpha=0.1;, score=-0.000 total time=   0.1s\n",
      "[CV 5/5; 4/5] START alpha=0.1...................................................\n",
      "[CV 5/5; 4/5] END ...................alpha=0.1;, score=-0.000 total time=   0.1s\n",
      "[CV 1/5; 5/5] START alpha=1.....................................................\n",
      "[CV 1/5; 5/5] END .....................alpha=1;, score=-0.000 total time=   0.1s\n",
      "[CV 2/5; 5/5] START alpha=1.....................................................\n",
      "[CV 2/5; 5/5] END .....................alpha=1;, score=-0.000 total time=   0.1s\n",
      "[CV 3/5; 5/5] START alpha=1.....................................................\n",
      "[CV 3/5; 5/5] END .....................alpha=1;, score=-0.000 total time=   0.1s\n",
      "[CV 4/5; 5/5] START alpha=1.....................................................\n",
      "[CV 4/5; 5/5] END .....................alpha=1;, score=-0.000 total time=   0.1s\n",
      "[CV 5/5; 5/5] START alpha=1.....................................................\n",
      "[CV 5/5; 5/5] END .....................alpha=1;, score=-0.000 total time=   0.1s\n",
      "Coefficients:  {'alpha': 0.0001}\n"
     ]
    }
   ],
   "source": [
    "alpha = [1e-4, 1e-3, 0.01, 0.1, 1]\n",
    "\n",
    "lasso = GridSearchCV(linear_model.Lasso(),\n",
    "                            [{'alpha': alpha}],\n",
    "                            cv=5,\n",
    "                            error_score=\"raise\",\n",
    "                            verbose=10)\n",
    "lasso.fit(X_train, y_train)\n",
    "\n",
    "print('Coefficients: ', lasso.best_params_)"
   ]
  },
  {
   "cell_type": "markdown",
   "metadata": {},
   "source": [
    "Обучим модель с оптимальным значением параметра $\\alpha$. Сохраним точность прогноза в словаре **scores**."
   ]
  },
  {
   "cell_type": "code",
   "execution_count": 37,
   "metadata": {},
   "outputs": [
    {
     "name": "stdout",
     "output_type": "stream",
     "text": [
      "Train model: lasso\n",
      "Mean score = 0.83745\n"
     ]
    }
   ],
   "source": [
    "lasso = linear_model.Lasso(alpha = 0.0001)\n",
    "score = train(lasso, 'lasso', regr_accuracy, kf, X, y)\n",
    "scores['lasso'] = score"
   ]
  },
  {
   "cell_type": "markdown",
   "metadata": {},
   "source": [
    "Подберите оптимальное значения параметра регуляризации **$\\alpha$** для модели **Ridge**."
   ]
  },
  {
   "cell_type": "code",
   "execution_count": 38,
   "metadata": {},
   "outputs": [
    {
     "name": "stdout",
     "output_type": "stream",
     "text": [
      "Alpha = [0.0001, 0.001, 0.01, 0.1, 1]\n",
      "Fitting 5 folds for each of 5 candidates, totalling 25 fits\n",
      "[CV 1/5; 1/5] START alpha=0.0001................................................\n",
      "[CV 1/5; 1/5] END .................alpha=0.0001;, score=0.470 total time=   0.7s\n",
      "[CV 2/5; 1/5] START alpha=0.0001................................................\n",
      "[CV 2/5; 1/5] END .................alpha=0.0001;, score=0.472 total time=   0.8s\n",
      "[CV 3/5; 1/5] START alpha=0.0001................................................\n",
      "[CV 3/5; 1/5] END .................alpha=0.0001;, score=0.473 total time=   0.8s\n",
      "[CV 4/5; 1/5] START alpha=0.0001................................................\n",
      "[CV 4/5; 1/5] END .................alpha=0.0001;, score=0.471 total time=   0.7s\n",
      "[CV 5/5; 1/5] START alpha=0.0001................................................\n",
      "[CV 5/5; 1/5] END .................alpha=0.0001;, score=0.472 total time=   0.8s\n",
      "[CV 1/5; 2/5] START alpha=0.001.................................................\n",
      "[CV 1/5; 2/5] END ..................alpha=0.001;, score=0.470 total time=   0.6s\n",
      "[CV 2/5; 2/5] START alpha=0.001.................................................\n",
      "[CV 2/5; 2/5] END ..................alpha=0.001;, score=0.471 total time=   0.7s\n",
      "[CV 3/5; 2/5] START alpha=0.001.................................................\n",
      "[CV 3/5; 2/5] END ..................alpha=0.001;, score=0.473 total time=   0.6s\n",
      "[CV 4/5; 2/5] START alpha=0.001.................................................\n",
      "[CV 4/5; 2/5] END ..................alpha=0.001;, score=0.471 total time=   0.6s\n",
      "[CV 5/5; 2/5] START alpha=0.001.................................................\n",
      "[CV 5/5; 2/5] END ..................alpha=0.001;, score=0.472 total time=   0.6s\n",
      "[CV 1/5; 3/5] START alpha=0.01..................................................\n",
      "[CV 1/5; 3/5] END ...................alpha=0.01;, score=0.461 total time=   0.6s\n",
      "[CV 2/5; 3/5] START alpha=0.01..................................................\n",
      "[CV 2/5; 3/5] END ...................alpha=0.01;, score=0.462 total time=   0.6s\n",
      "[CV 3/5; 3/5] START alpha=0.01..................................................\n",
      "[CV 3/5; 3/5] END ...................alpha=0.01;, score=0.463 total time=   0.6s\n",
      "[CV 4/5; 3/5] START alpha=0.01..................................................\n",
      "[CV 4/5; 3/5] END ...................alpha=0.01;, score=0.462 total time=   0.5s\n",
      "[CV 5/5; 3/5] START alpha=0.01..................................................\n",
      "[CV 5/5; 3/5] END ...................alpha=0.01;, score=0.463 total time=   0.6s\n",
      "[CV 1/5; 4/5] START alpha=0.1...................................................\n",
      "[CV 1/5; 4/5] END ...................alpha=0.1;, score=-0.000 total time=   0.1s\n",
      "[CV 2/5; 4/5] START alpha=0.1...................................................\n",
      "[CV 2/5; 4/5] END ...................alpha=0.1;, score=-0.000 total time=   0.1s\n",
      "[CV 3/5; 4/5] START alpha=0.1...................................................\n",
      "[CV 3/5; 4/5] END ...................alpha=0.1;, score=-0.000 total time=   0.1s\n",
      "[CV 4/5; 4/5] START alpha=0.1...................................................\n",
      "[CV 4/5; 4/5] END ...................alpha=0.1;, score=-0.000 total time=   0.1s\n",
      "[CV 5/5; 4/5] START alpha=0.1...................................................\n",
      "[CV 5/5; 4/5] END ...................alpha=0.1;, score=-0.000 total time=   0.1s\n",
      "[CV 1/5; 5/5] START alpha=1.....................................................\n",
      "[CV 1/5; 5/5] END .....................alpha=1;, score=-0.000 total time=   0.1s\n",
      "[CV 2/5; 5/5] START alpha=1.....................................................\n",
      "[CV 2/5; 5/5] END .....................alpha=1;, score=-0.000 total time=   0.1s\n",
      "[CV 3/5; 5/5] START alpha=1.....................................................\n",
      "[CV 3/5; 5/5] END .....................alpha=1;, score=-0.000 total time=   0.1s\n",
      "[CV 4/5; 5/5] START alpha=1.....................................................\n",
      "[CV 4/5; 5/5] END .....................alpha=1;, score=-0.000 total time=   0.1s\n",
      "[CV 5/5; 5/5] START alpha=1.....................................................\n",
      "[CV 5/5; 5/5] END .....................alpha=1;, score=-0.000 total time=   0.1s\n",
      "Coefficients:  {'alpha': 0.0001}\n"
     ]
    }
   ],
   "source": [
    "alpha = [1e-4, 1e-3, 0.01, 0.1, 1]\n",
    "print('Alpha = {}'.format(alpha))\n",
    "\n",
    "ridge = GridSearchCV(linear_model.Lasso(),\n",
    "                            [{'alpha': alpha}],\n",
    "                            cv=5,\n",
    "                            verbose=10)\n",
    "ridge.fit(X_train, y_train)\n",
    "\n",
    "print('Coefficients: ', ridge.best_params_)"
   ]
  },
  {
   "cell_type": "markdown",
   "metadata": {},
   "source": [
    "Обучим модель с оптимальным значением параметра $\\alpha$. Сохраним точность прогноза в словаре **scores**."
   ]
  },
  {
   "cell_type": "code",
   "execution_count": 39,
   "metadata": {},
   "outputs": [
    {
     "name": "stdout",
     "output_type": "stream",
     "text": [
      "Train model: ridge\n",
      "Mean score = 0.83748\n"
     ]
    }
   ],
   "source": [
    "ridge = linear_model.Ridge(alpha = 0.0001)\n",
    "score = train(ridge, 'ridge', regr_accuracy, kf, X, y)\n",
    "scores['ridge'] = score"
   ]
  },
  {
   "cell_type": "markdown",
   "metadata": {},
   "source": [
    "Как видим, **Lasso** просто занулила все коэффициенты при $\\alpha>0.01$."
   ]
  },
  {
   "cell_type": "markdown",
   "metadata": {},
   "source": [
    "### Логистическая регрессия"
   ]
  },
  {
   "cell_type": "markdown",
   "metadata": {},
   "source": [
    "Если на выходе линейной регрессии получается просто вещественное число, то в логистической регрессии это число преобразуется с помощью логистической функции в отрезок \\[0,1\\], а потому может трактоваться как вероятность получения на выходе дискретного значения 1. \n",
    "\n",
    "$$f(y)=\\dfrac{1}{1+e^{-y}}$$\n",
    "\n",
    "Таким образом, модель логистической регрессии может успешно использоваться как бинарный классификатор. Логистическая регрессия минимизирует следующую величину (L1 и L2 регуляризация уже включены и контролируются параметрами $C$ - \"сила\" регуляризации (малые значения - \"сильная\" регуляризация), $\\rho$ - относительный вклад L1-регуляризации):\n",
    "\n",
    "$$\\min_{w, c} \\frac{1 - \\rho}{2}w^T w + \\rho \\|w\\|_1 + C \\sum_{i=1}^n \\log(\\exp(- y_i (X_i^T w + c)) + 1)$$\n",
    "\n",
    "Создадим модель **[LogisticRegression](https://scikit-learn.org/stable/modules/generated/sklearn.linear_model.LogisticRegression.html#sklearn.linear_model.LogisticRegression 'Logistic Regression')** и обучим ее.\n",
    "\n",
    "Подберите оптимальное значение параметра регуляризации **С** и тип регуляризации **penalty**. "
   ]
  },
  {
   "cell_type": "code",
   "execution_count": 40,
   "metadata": {},
   "outputs": [
    {
     "data": {
      "text/plain": [
       "GridSearchCV(cv=5, estimator=LogisticRegression(), n_jobs=-1,\n",
       "             param_grid={'C': array([1, 2, 3, 4]), 'penalty': ['l2', 'none']},\n",
       "             scoring='accuracy')"
      ]
     },
     "execution_count": 40,
     "metadata": {},
     "output_type": "execute_result"
    }
   ],
   "source": [
    "# напишите здесь ваш код\n",
    "# заново создадим модель, указав солвер\n",
    "logistic_regr = linear_model.LogisticRegression()\n",
    "\n",
    "param_grid = {\n",
    "    'C': np.arange(1, 5),\n",
    "    'penalty': ['l2', \"none\"],\n",
    "}\n",
    "\n",
    "search = GridSearchCV(logistic_regr, param_grid, n_jobs=-1, cv=5, refit=True, scoring='accuracy')\n",
    "search.fit(X_train, y_train)\n"
   ]
  },
  {
   "cell_type": "code",
   "execution_count": 41,
   "metadata": {},
   "outputs": [
    {
     "name": "stdout",
     "output_type": "stream",
     "text": [
      "{'C': 2, 'penalty': 'l2'}\n"
     ]
    }
   ],
   "source": [
    "print(search.best_params_)"
   ]
  },
  {
   "cell_type": "markdown",
   "metadata": {},
   "source": [
    "Обучим модель с оптимальным значением параметра **С**. Сохраним точность прогноза в словаре **scores**."
   ]
  },
  {
   "cell_type": "code",
   "execution_count": 42,
   "metadata": {},
   "outputs": [
    {
     "name": "stdout",
     "output_type": "stream",
     "text": [
      "Train model: logistic regression\n",
      "Mean score = 0.83742\n"
     ]
    }
   ],
   "source": [
    "logistic_regr = linear_model.LogisticRegression(penalty = \"l2\", C=1, solver='lbfgs')\n",
    "score = train(logistic_regr, 'logistic regression', class_accuracy, kf, X, y)\n",
    "scores['logistic regression'] = score"
   ]
  },
  {
   "cell_type": "markdown",
   "metadata": {},
   "source": [
    "## Метод опорных векторов"
   ]
  },
  {
   "cell_type": "markdown",
   "metadata": {},
   "source": [
    "Этот метод применим для решения как задач классификации, так и регрессии, и кластеризации. Основными достоинствами метода являются:\n",
    "\n",
    "- эффективность при большой размерности пространства признаков\n",
    "- в процессе обучения запоминается только подвыборка обучающей выборки - опорные вектора, т.е. требует меньший объем памяти\n",
    "- можно применять разные ядра (kernels) для формирования модели\n",
    "\n",
    "Недостатком метода опорных векторов является то, что в случае, когда размерность пространства признаков много больше объема обучающей выборки, на результат работы модели сильно влияет выбор ядра. Также этот метод не позволяет быстро и просто получить вероятность прогноза.\n",
    "\n",
    "С математической точки зрения, метод опорных векторов проводит гипер-плоскость, которая разделяет один класс от другого. При этом граница проводится так, что быть расположенной максимально далеко от каждой из точек.\n",
    "![SVC](https://scikit-learn.org/stable/_images/sphx_glr_plot_separating_hyperplane_0011.png)\n",
    "\n",
    "Функция ядра определяет, какие признаки будут использоваться в качестве переменных в гиперпространстве, в котором проводится гипер-плоскость. Например, для линейного ядра $\\langle x, x'\\rangle$ берутся исходные признаки, для полиномиального ядра - полиномы от исходных признаков $(\\gamma \\langle x, x'\\rangle + r)^d$, для radial-basis-function (rbf) - экспоненциальная функция $\\exp(-\\gamma \\|x-x'\\|^2)$.\n",
    "\n",
    "Построим модель Support Vector Classifier - [**SVC**](https://scikit-learn.org/stable/modules/generated/sklearn.svm.SVC.html#sklearn.svm.SVC 'SVC') для различных ядер. Заранее уменьшим размер выборки, что позволит проводить обучения в разумное время (метод опорных векторов довольно долго обучается).\n",
    "\n",
    "Определите оптимальное значение параметра регуляризации **С** и типа ядра **kernel**."
   ]
  },
  {
   "cell_type": "code",
   "execution_count": 43,
   "metadata": {},
   "outputs": [
    {
     "data": {
      "text/plain": [
       "array([0.  , 0.25, 0.5 , 0.75, 1.  ])"
      ]
     },
     "execution_count": 43,
     "metadata": {},
     "output_type": "execute_result"
    }
   ],
   "source": [
    "np.linspace(0,1,5)"
   ]
  },
  {
   "cell_type": "code",
   "execution_count": 44,
   "metadata": {},
   "outputs": [
    {
     "name": "stderr",
     "output_type": "stream",
     "text": [
      "/home/amon/.local/lib/python3.8/site-packages/sklearn/model_selection/_validation.py:372: FitFailedWarning: \n",
      "15 fits failed out of a total of 90.\n",
      "The score on these train-test partitions for these parameters will be set to nan.\n",
      "If these failures are not expected, you can try to debug them by setting error_score='raise'.\n",
      "\n",
      "Below are more details about the failures:\n",
      "--------------------------------------------------------------------------------\n",
      "15 fits failed with the following error:\n",
      "Traceback (most recent call last):\n",
      "  File \"/home/amon/.local/lib/python3.8/site-packages/sklearn/model_selection/_validation.py\", line 681, in _fit_and_score\n",
      "    estimator.fit(X_train, y_train, **fit_params)\n",
      "  File \"/home/amon/.local/lib/python3.8/site-packages/sklearn/svm/_base.py\", line 255, in fit\n",
      "    fit(X, y, sample_weight, solver_type, kernel, random_seed=seed)\n",
      "  File \"/home/amon/.local/lib/python3.8/site-packages/sklearn/svm/_base.py\", line 315, in _dense_fit\n",
      "    ) = libsvm.fit(\n",
      "  File \"sklearn/svm/_libsvm.pyx\", line 192, in sklearn.svm._libsvm.fit\n",
      "ValueError: C <= 0\n",
      "\n",
      "  warnings.warn(some_fits_failed_message, FitFailedWarning)\n",
      "/home/amon/.local/lib/python3.8/site-packages/sklearn/model_selection/_search.py:969: UserWarning: One or more of the test scores are non-finite: [     nan      nan      nan 0.84775  0.850125 0.38075  0.849125 0.853375\n",
      " 0.37825  0.849    0.8565   0.377625 0.8495   0.8585   0.377375 0.850875\n",
      " 0.85875  0.377125]\n",
      "  warnings.warn(\n"
     ]
    },
    {
     "data": {
      "text/plain": [
       "GridSearchCV(cv=5, estimator=SVC(), n_jobs=-1,\n",
       "             param_grid={'C': array([0. , 0.2, 0.4, 0.6, 0.8, 1. ]),\n",
       "                         'kernel': ['poly', 'rbf', 'sigmoid']},\n",
       "             scoring='accuracy')"
      ]
     },
     "execution_count": 44,
     "metadata": {},
     "output_type": "execute_result"
    }
   ],
   "source": [
    "from sklearn.svm import SVC\n",
    "X_svc = X.iloc[:10000, :]\n",
    "y_svc = y[:10000]\n",
    "\n",
    "X_train_svc, X_test_svc, y_train_svc, y_test_svc = train_test_split(X_svc, y_svc, test_size=0.2)\n",
    "# напишите здесь ваш код\n",
    "\n",
    "svc_l = SVC()\n",
    "\n",
    "param_grid = {\n",
    "    'C': np.linspace(0,1,6),\n",
    "    'kernel': ['poly', 'rbf', 'sigmoid'],\n",
    "}\n",
    "\n",
    "search_svc = GridSearchCV(svc_l, param_grid, n_jobs=-1, cv=5, refit=True, scoring='accuracy')\n",
    "search_svc.fit(X_train_svc, y_train_svc)"
   ]
  },
  {
   "cell_type": "code",
   "execution_count": 45,
   "metadata": {},
   "outputs": [
    {
     "name": "stdout",
     "output_type": "stream",
     "text": [
      "{'C': 1.0, 'kernel': 'rbf'}\n"
     ]
    }
   ],
   "source": [
    "print(search_svc.best_params_)"
   ]
  },
  {
   "cell_type": "markdown",
   "metadata": {},
   "source": [
    "Обучим модель с оптимальным значением параметра **С** и типом ядра **kernel**. Сохраним точность прогноза в словаре **scores**."
   ]
  },
  {
   "cell_type": "code",
   "execution_count": 46,
   "metadata": {},
   "outputs": [
    {
     "name": "stdout",
     "output_type": "stream",
     "text": [
      "Train model: svc\n",
      "Mean score = 0.84270\n"
     ]
    }
   ],
   "source": [
    "svc = SVC(C=1.0, kernel=\"rbf\", gamma='auto')\n",
    "score = train(svc, 'svc', class_accuracy, kf, X_svc, y_svc)\n",
    "scores['svc'] = score"
   ]
  },
  {
   "cell_type": "markdown",
   "metadata": {},
   "source": [
    "## Дерево решений"
   ]
  },
  {
   "cell_type": "markdown",
   "metadata": {},
   "source": [
    "В модели дерева решений (Decision Tree) в процессе обучения строится алгоритм, по которому выполняется прогноз модели. При этом алгоритм представляет из себя дерево, каждый лист которого - это проверка на то, что какой-либо признак из обучающей выборки принимает определенное значение. Пример дерева решений приведен на рисунке ниже.\n",
    "![Decision Tree](https://scikit-learn.org/stable/_images/sphx_glr_plot_iris_dtc_0021.png)\n",
    "\n",
    "Преимуществами такого метода являются:\n",
    "- простота визуализации и хорошая интерпретируемость алгоритма прогноза\n",
    "- не требуется нормализация данных\n",
    "- скорость прогноза пропорциональна логарифму объема выборки, т.е. этот метод быстрый\n",
    "- может обрабатывать как числовые, так и категориальные данные\n",
    "\n",
    "Недостатками метода являются:\n",
    "- деревья легко переобучаются\n",
    "- небольшие изменения в обучающей выборке могут привести к перестойке всего дерева, т.е. метод нестабилен\n",
    "- предсказания деревьев являются кусочно-постоянными, поэтому не годятся для экстраполирования\n",
    "- требуется сбалансировать обучающую выборку по классам, чтобы не допустить \"перекоса\" дерева в сторону какого-либо класса\n",
    "\n",
    "Конкретную математическую реализалицаю алгоритма построения дерева решений можно изучить, например, [здесь.](https://scikit-learn.org/stable/modules/tree.html)\n",
    "\n",
    "Создадим модель [**DecisionTreeClassifier**](https://scikit-learn.org/stable/modules/generated/sklearn.tree.DecisionTreeClassifier.html#sklearn.tree.DecisionTreeClassifier 'DecisionTreeClassifier') и обучим ее. Для того, чтобы предотвратить переобучение дерева, обычно ограничивается максимальная глубина дерева - параметр **max_depth**, а также минимальное число элементов из обучающей выборки, приходящееся на определнный лист, чтобы можно было с него сделать новое ветвление - параметр **min_samples_split**.\n",
    "\n",
    "Подберите оптимальное значение параметров **max_depth** и **min_samples_split**."
   ]
  },
  {
   "cell_type": "code",
   "execution_count": 47,
   "metadata": {},
   "outputs": [
    {
     "name": "stdout",
     "output_type": "stream",
     "text": [
      "Fitting 5 folds for each of 16 candidates, totalling 80 fits\n"
     ]
    },
    {
     "data": {
      "text/plain": [
       "GridSearchCV(cv=5, estimator=DecisionTreeClassifier(), n_jobs=-1,\n",
       "             param_grid={'max_depth': array([1, 2, 3, 4]),\n",
       "                         'min_samples_split': array([2, 3, 4, 5])},\n",
       "             scoring='accuracy', verbose=10)"
      ]
     },
     "execution_count": 47,
     "metadata": {},
     "output_type": "execute_result"
    }
   ],
   "source": [
    "from sklearn.tree import DecisionTreeClassifier\n",
    "\n",
    "# напишите здесь ваш код\n",
    "\n",
    "param_grid = {\n",
    "    'max_depth': np.arange(1, 5),\n",
    "    'min_samples_split': np.arange(2, 6),\n",
    "}\n",
    "\n",
    "search_svc = GridSearchCV(DecisionTreeClassifier(), param_grid, n_jobs=-1, cv=5, refit=True, scoring='accuracy', verbose=10)\n",
    "search_svc.fit(X_train, y_train)"
   ]
  },
  {
   "cell_type": "code",
   "execution_count": 48,
   "metadata": {},
   "outputs": [
    {
     "name": "stdout",
     "output_type": "stream",
     "text": [
      "{'max_depth': 4, 'min_samples_split': 2}\n"
     ]
    }
   ],
   "source": [
    "print(search_svc.best_params_)"
   ]
  },
  {
   "cell_type": "markdown",
   "metadata": {},
   "source": [
    "Создадим модель с оптимальными значениями параметров **max_depth** и **min_samples_split**. Добавим ее в словарь **scores**."
   ]
  },
  {
   "cell_type": "code",
   "execution_count": 49,
   "metadata": {},
   "outputs": [
    {
     "name": "stdout",
     "output_type": "stream",
     "text": [
      "Train model: decision tree\n",
      "Mean score = 0.79505\n"
     ]
    }
   ],
   "source": [
    "dtc = DecisionTreeClassifier(max_depth=2, min_samples_split=2, min_samples_leaf=1, random_state=0)\n",
    "score = train(dtc, 'decision tree', class_accuracy, kf, X, y)\n",
    "scores['decision tree'] = score"
   ]
  },
  {
   "cell_type": "markdown",
   "metadata": {},
   "source": [
    "## Сравнение различных моделей"
   ]
  },
  {
   "cell_type": "markdown",
   "metadata": {},
   "source": [
    "Отобразим на графике точность работы каждой построенной модели. Для этого будем использовать значения из словаря **scores**."
   ]
  },
  {
   "cell_type": "code",
   "execution_count": 50,
   "metadata": {},
   "outputs": [
    {
     "data": {
      "image/png": "[encoded data removed]",
      "text/plain": [
       "<Figure size 720x360 with 1 Axes>"
      ]
     },
     "metadata": {
      "needs_background": "light"
     },
     "output_type": "display_data"
    }
   ],
   "source": [
    "plt.figure(figsize=(10,5))\n",
    "xx = list(scores.keys())\n",
    "yy = list(scores.values())\n",
    "rects = plt.bar(xx, yy)\n",
    "plt.ylim(-0.25, 1)\n",
    "plt.ylabel('Accuracy')\n",
    "for i, rect in enumerate(rects):\n",
    "    yloc = rect.get_height()\n",
    "    xloc = rect.get_x() + rect.get_width() / 4\n",
    "    plt.annotate(round(yy[i], 4), xy=(xloc, yloc), xytext=(xloc, 10),\n",
    "                            textcoords=\"offset points\",\n",
    "                            va='center',\n",
    "                            color='black', clip_on=True)"
   ]
  },
  {
   "cell_type": "markdown",
   "metadata": {},
   "source": [
    "# Выводы"
   ]
  },
  {
   "cell_type": "markdown",
   "metadata": {},
   "source": [
    "Напишите выводы по лабораторной работе"
   ]
  },
  {
   "cell_type": "code",
   "execution_count": null,
   "metadata": {},
   "outputs": [],
   "source": []
  }
 ],
 "metadata": {
  "kernelspec": {
   "display_name": "Python 3",
   "language": "python",
   "name": "python3"
  },
  "language_info": {
   "codemirror_mode": {
    "name": "ipython",
    "version": 3
   },
   "file_extension": ".py",
   "mimetype": "text/x-python",
   "name": "python",
   "nbconvert_exporter": "python",
   "pygments_lexer": "ipython3",
   "version": "3.8.10"
  }
 },
 "nbformat": 4,
 "nbformat_minor": 4
}
