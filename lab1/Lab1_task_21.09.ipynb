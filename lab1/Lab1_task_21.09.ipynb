{
 "cells": [
  {
   "cell_type": "markdown",
   "metadata": {},
   "source": [
    "# Лабораторная работа № 1. Работа с массивами и таблицами."
   ]
  },
  {
   "cell_type": "markdown",
   "metadata": {},
   "source": [
    "В работе проводится обзор основных возможностей языка Python и модулей **numpy**, **pandas** для анализа данных."
   ]
  },
  {
   "cell_type": "markdown",
   "metadata": {},
   "source": [
    "## Цель работы\n",
    "\n",
    "Изучить основные возможности языка Python и модулей **numpy** и **pandas** по работе с векторами, одномерными и многомерными массивами. Освоить выполнение векторных операций над массивами данных, булево индексирование, а также аггрегирование двумерных таблиц."
   ]
  },
  {
   "cell_type": "markdown",
   "metadata": {},
   "source": [
    "## Модуль numpy"
   ]
  },
  {
   "cell_type": "markdown",
   "metadata": {},
   "source": [
    "NumPy это open-source модуль для языка Python, который предоставляет общие математические и числовые операции в виде пре-скомпилированных, быстрых функций. Они объединяются в высокоуровневые пакеты. NumPy (Numeric Python) предоставляет базовые методы для манипуляции с большими массивами и матрицами. SciPy (Scientific Python) расширяет функционал numpy огромной коллекцией полезных алгоритмов, таких как минимизация, преобразование Фурье, регрессия, и другие прикладные математические техники.\n",
    "\n",
    "Всю документацию по этому модулю и примеры его использования можно найти на [официальном сайте.](https://numpy.org/doc/stable/ \"numpy.org\")"
   ]
  },
  {
   "cell_type": "markdown",
   "metadata": {},
   "source": [
    "Чтобы использовать модуль, его необходимо подключить с помощью команды **import**. Команда **as** позволяет обращаться к модулю через любое другое ключевое слово. Это позволяет сделать код более кратким и легко воспринимаемым. Стандартное сокращение для модуля **numpy** - это **np**."
   ]
  },
  {
   "cell_type": "code",
   "execution_count": 2,
   "metadata": {},
   "outputs": [],
   "source": [
    "import numpy as np\n"
   ]
  },
  {
   "cell_type": "markdown",
   "metadata": {},
   "source": [
    "### Создание массивов"
   ]
  },
  {
   "cell_type": "markdown",
   "metadata": {},
   "source": [
    "Ключевым типом данных, с которым работает **numpy**, являются массивы различных размерностей. В конструктор **np.array()** можно передать любой объект, имеющий структуру массива, например, список, в том числе многомерный. Также можно задать тип данных."
   ]
  },
  {
   "cell_type": "code",
   "execution_count": 3,
   "metadata": {},
   "outputs": [
    {
     "data": {
      "text/plain": [
       "array([1, 2, 3, 4, 5])"
      ]
     },
     "execution_count": 3,
     "metadata": {},
     "output_type": "execute_result"
    }
   ],
   "source": [
    "arr = np.array([1,2,3,4,5], dtype=int)\n",
    "arr"
   ]
  },
  {
   "cell_type": "code",
   "execution_count": 4,
   "metadata": {},
   "outputs": [
    {
     "data": {
      "text/plain": [
       "array([[1., 2., 3.],\n",
       "       [4., 5., 6.]], dtype=float32)"
      ]
     },
     "execution_count": 4,
     "metadata": {},
     "output_type": "execute_result"
    }
   ],
   "source": [
    "arr = np.array([[1,2,3],[4,5,6]], dtype=np.float32)\n",
    "arr"
   ]
  },
  {
   "cell_type": "markdown",
   "metadata": {},
   "source": [
    "Конструкторы **np.zeros()**, **np.ones()**, **np.empty()** позволяют создавать массивы, состоящие из нулей и единиц, пустые массивы соответственно. Размер массива указывается в параметре **shape**."
   ]
  },
  {
   "cell_type": "code",
   "execution_count": 5,
   "metadata": {},
   "outputs": [
    {
     "data": {
      "text/plain": [
       "array([[0., 0., 0.],\n",
       "       [0., 0., 0.]])"
      ]
     },
     "execution_count": 5,
     "metadata": {},
     "output_type": "execute_result"
    }
   ],
   "source": [
    "arr = np.zeros(shape=(2,3))\n",
    "arr"
   ]
  },
  {
   "cell_type": "code",
   "execution_count": 6,
   "metadata": {},
   "outputs": [
    {
     "data": {
      "text/plain": [
       "array([[1, 1],\n",
       "       [1, 1],\n",
       "       [1, 1]])"
      ]
     },
     "execution_count": 6,
     "metadata": {},
     "output_type": "execute_result"
    }
   ],
   "source": [
    "arr = np.ones(shape=(3,2), dtype=int)\n",
    "arr"
   ]
  },
  {
   "cell_type": "code",
   "execution_count": 7,
   "metadata": {},
   "outputs": [
    {
     "data": {
      "text/plain": [
       "array([[1.2282978e-316, 0.0000000e+000],\n",
       "       [9.8813129e-324,            nan]])"
      ]
     },
     "execution_count": 7,
     "metadata": {},
     "output_type": "execute_result"
    }
   ],
   "source": [
    "arr = np.empty(shape=(2,2))\n",
    "arr"
   ]
  },
  {
   "cell_type": "markdown",
   "metadata": {},
   "source": [
    "Массивы имеют несколько атрибутов, например, **shape** (форма), **size** (размер), **dtype** (тип данных)."
   ]
  },
  {
   "cell_type": "code",
   "execution_count": 8,
   "metadata": {},
   "outputs": [
    {
     "name": "stdout",
     "output_type": "stream",
     "text": [
      "Shape:  (2, 2)\n",
      "Size:  4\n",
      "Data type:  float64\n"
     ]
    }
   ],
   "source": [
    "print('Shape: ', arr.shape)\n",
    "print('Size: ', arr.size)\n",
    "print('Data type: ', arr.dtype)"
   ]
  },
  {
   "cell_type": "markdown",
   "metadata": {},
   "source": [
    "### Индексирование"
   ]
  },
  {
   "cell_type": "markdown",
   "metadata": {},
   "source": [
    "Получить определенный элемент массива можно стандартным образом, указав в квадратных скобках номер элемента."
   ]
  },
  {
   "cell_type": "code",
   "execution_count": 9,
   "metadata": {},
   "outputs": [
    {
     "data": {
      "text/plain": [
       "array([[ 1,  2,  3,  4,  5],\n",
       "       [ 6,  7,  8,  9, 10],\n",
       "       [11, 12, 13, 14, 15]])"
      ]
     },
     "execution_count": 9,
     "metadata": {},
     "output_type": "execute_result"
    }
   ],
   "source": [
    "arr2d = np.array([[1,2,3,4,5],[6,7,8,9,10],[11,12,13,14,15]])\n",
    "arr2d"
   ]
  },
  {
   "cell_type": "code",
   "execution_count": 10,
   "metadata": {},
   "outputs": [
    {
     "data": {
      "text/plain": [
       "14"
      ]
     },
     "execution_count": 10,
     "metadata": {},
     "output_type": "execute_result"
    }
   ],
   "source": [
    "arr2d[2,3]"
   ]
  },
  {
   "cell_type": "markdown",
   "metadata": {},
   "source": [
    "Очень мощным (в смысле уменьшения временных затрат на выполнение операции) способом получения какой-то части массива является *slicing*. \n",
    "\n",
    "В квадратных скобках через двоеточие указывается последовательно начальный индекс, конечный индекс и шаг, с которым нужно выдавать элементы массива. Если не указан первый, то он подразумевается равным 0. Если не указан второй, то он подразумевается равным максимальному индексу. Если не указан последний, то он подразумевается равным 0. "
   ]
  },
  {
   "cell_type": "code",
   "execution_count": 11,
   "metadata": {},
   "outputs": [
    {
     "data": {
      "text/plain": [
       "array([ 3,  8, 13])"
      ]
     },
     "execution_count": 11,
     "metadata": {},
     "output_type": "execute_result"
    }
   ],
   "source": [
    "arr2d[:,2]"
   ]
  },
  {
   "cell_type": "code",
   "execution_count": 12,
   "metadata": {},
   "outputs": [
    {
     "data": {
      "text/plain": [
       "array([[2, 3, 4],\n",
       "       [7, 8, 9]])"
      ]
     },
     "execution_count": 12,
     "metadata": {},
     "output_type": "execute_result"
    }
   ],
   "source": [
    "arr2d[:2, 1:4]"
   ]
  },
  {
   "cell_type": "code",
   "execution_count": 13,
   "metadata": {},
   "outputs": [
    {
     "data": {
      "text/plain": [
       "array([[ 2,  3,  4,  5],\n",
       "       [ 7,  8,  9, 10]])"
      ]
     },
     "execution_count": 13,
     "metadata": {},
     "output_type": "execute_result"
    }
   ],
   "source": [
    "arr2d[:2, 1:]"
   ]
  },
  {
   "cell_type": "code",
   "execution_count": 14,
   "metadata": {},
   "outputs": [
    {
     "data": {
      "text/plain": [
       "array([[2, 4],\n",
       "       [7, 9]])"
      ]
     },
     "execution_count": 14,
     "metadata": {},
     "output_type": "execute_result"
    }
   ],
   "source": [
    "arr2d[:2, 1::2]"
   ]
  },
  {
   "cell_type": "markdown",
   "metadata": {},
   "source": [
    "Значение -1 обозначает максимальный индекс, -2 - предшествующий максимальному и т.д. Если значение -1 стоит в качестве шага для *slising*, то это означает, что элементы будут возвращаться в обратном порядке. Такой трюк можно использовать, например, для изменения порядка следования элементов в массиве на противоположный. "
   ]
  },
  {
   "cell_type": "code",
   "execution_count": 15,
   "metadata": {},
   "outputs": [
    {
     "data": {
      "text/plain": [
       "array([ 5, 10, 15])"
      ]
     },
     "execution_count": 15,
     "metadata": {},
     "output_type": "execute_result"
    }
   ],
   "source": [
    "arr2d[:,-1]"
   ]
  },
  {
   "cell_type": "code",
   "execution_count": 16,
   "metadata": {},
   "outputs": [
    {
     "data": {
      "text/plain": [
       "array([[ 5,  4,  3,  2,  1],\n",
       "       [10,  9,  8,  7,  6],\n",
       "       [15, 14, 13, 12, 11]])"
      ]
     },
     "execution_count": 16,
     "metadata": {},
     "output_type": "execute_result"
    }
   ],
   "source": [
    "arr2d[:,::-1]"
   ]
  },
  {
   "cell_type": "code",
   "execution_count": 17,
   "metadata": {},
   "outputs": [
    {
     "data": {
      "text/plain": [
       "array([[15, 14, 13, 12, 11],\n",
       "       [10,  9,  8,  7,  6],\n",
       "       [ 5,  4,  3,  2,  1]])"
      ]
     },
     "execution_count": 17,
     "metadata": {},
     "output_type": "execute_result"
    }
   ],
   "source": [
    "arr2d[::-1,::-1]"
   ]
  },
  {
   "cell_type": "markdown",
   "metadata": {},
   "source": [
    "### Генераторы"
   ]
  },
  {
   "cell_type": "markdown",
   "metadata": {},
   "source": [
    "Другим способ создания массивов с упорядоченными элементами являются различные генераторы. Например, метод **np.arange(a,b,c)**, который создает массив чисел в диапазоне от **a** до **b** с шагом **c**.\n",
    "\n",
    "**np.linspace(a, b, n)** создает массив чисел в количестве **n**, линейно расположенных в диапазоне от **a** до **b**. Параметр **endpoint** указывает на то, включать **b** в массив или нет. По умолчанию он равен **True**.\n",
    "\n",
    "**np.logspace(a, b, n)** создает массив чисел в количестве **n**, логарифмически расположенных в диапазоне от **$10^a$** до **$10^b$**. Параметр **endpoint** указывает на то, включать **b** в массив или нет. По умолчанию он равен **True**."
   ]
  },
  {
   "cell_type": "code",
   "execution_count": 18,
   "metadata": {},
   "outputs": [
    {
     "data": {
      "text/plain": [
       "array([ 0,  2,  4,  6,  8, 10, 12, 14, 16, 18, 20, 22, 24, 26, 28, 30, 32,\n",
       "       34, 36, 38, 40, 42, 44, 46, 48, 50, 52, 54, 56, 58, 60, 62, 64, 66,\n",
       "       68, 70, 72, 74, 76, 78, 80, 82, 84, 86, 88, 90, 92, 94, 96, 98])"
      ]
     },
     "execution_count": 18,
     "metadata": {},
     "output_type": "execute_result"
    }
   ],
   "source": [
    "np.arange(0,100,2)"
   ]
  },
  {
   "cell_type": "code",
   "execution_count": 19,
   "metadata": {},
   "outputs": [
    {
     "name": "stdout",
     "output_type": "stream",
     "text": [
      "[  0   5  10  15  21  26  31  36  42  47  52  57  63  68  73  78  84  89\n",
      "  94 100]\n",
      "[  0.           5.26315789  10.52631579  15.78947368  21.05263158\n",
      "  26.31578947  31.57894737  36.84210526  42.10526316  47.36842105\n",
      "  52.63157895  57.89473684  63.15789474  68.42105263  73.68421053\n",
      "  78.94736842  84.21052632  89.47368421  94.73684211 100.        ]\n"
     ]
    }
   ],
   "source": [
    "print(np.linspace(0,100,20, dtype=int))\n",
    "\n",
    "print(np.linspace(0,100,20))"
   ]
  },
  {
   "cell_type": "code",
   "execution_count": 20,
   "metadata": {},
   "outputs": [
    {
     "data": {
      "text/plain": [
       "array([ 0.,  5., 10., 15., 20., 25., 30., 35., 40., 45., 50., 55., 60.,\n",
       "       65., 70., 75., 80., 85., 90., 95.])"
      ]
     },
     "execution_count": 20,
     "metadata": {},
     "output_type": "execute_result"
    }
   ],
   "source": [
    "np.linspace(0,100,20, endpoint=False)"
   ]
  },
  {
   "cell_type": "code",
   "execution_count": 21,
   "metadata": {},
   "outputs": [
    {
     "data": {
      "text/plain": [
       "array([1.00000000e-05, 1.29154967e-04, 1.66810054e-03, 2.15443469e-02,\n",
       "       2.78255940e-01, 3.59381366e+00, 4.64158883e+01, 5.99484250e+02,\n",
       "       7.74263683e+03, 1.00000000e+05])"
      ]
     },
     "execution_count": 21,
     "metadata": {},
     "output_type": "execute_result"
    }
   ],
   "source": [
    "np.logspace(-5,5,10)"
   ]
  },
  {
   "cell_type": "code",
   "execution_count": 22,
   "metadata": {},
   "outputs": [
    {
     "data": {
      "text/plain": [
       "array([1.e-05, 1.e-04, 1.e-03, 1.e-02, 1.e-01, 1.e+00, 1.e+01, 1.e+02,\n",
       "       1.e+03, 1.e+04])"
      ]
     },
     "execution_count": 22,
     "metadata": {},
     "output_type": "execute_result"
    }
   ],
   "source": [
    "np.logspace(-5,5,10, endpoint=False)"
   ]
  },
  {
   "cell_type": "markdown",
   "metadata": {},
   "source": [
    "### Увеличение массива"
   ]
  },
  {
   "cell_type": "markdown",
   "metadata": {},
   "source": [
    "Для того, чтобы добавить элемент в одномерный массив, применяется функция **np.append(arr1, arr2)**, где в качестве первого аргумента передается массив, в который нужно добавить элементы, а последующие - то, что нужно добавить. Они могут быть как скалярами, так и одномерными массивами. При этом возвращается новый массив, а не изменяется старый."
   ]
  },
  {
   "cell_type": "code",
   "execution_count": 23,
   "metadata": {},
   "outputs": [
    {
     "data": {
      "text/plain": [
       "array([ 0,  2,  4,  6,  8, 10, 12, 14, 16, 18])"
      ]
     },
     "execution_count": 23,
     "metadata": {},
     "output_type": "execute_result"
    }
   ],
   "source": [
    "arr1d = np.arange(0,20,2)\n",
    "arr1d"
   ]
  },
  {
   "cell_type": "code",
   "execution_count": 24,
   "metadata": {},
   "outputs": [
    {
     "data": {
      "text/plain": [
       "array([ 0,  2,  4,  6,  8, 10, 12, 14, 16, 18])"
      ]
     },
     "execution_count": 24,
     "metadata": {},
     "output_type": "execute_result"
    }
   ],
   "source": [
    "np.append(arr1d, 20)\n",
    "arr1d"
   ]
  },
  {
   "cell_type": "code",
   "execution_count": 25,
   "metadata": {},
   "outputs": [
    {
     "data": {
      "text/plain": [
       "array([ 0,  2,  4,  6,  8, 10, 12, 14, 16, 18, 20])"
      ]
     },
     "execution_count": 25,
     "metadata": {},
     "output_type": "execute_result"
    }
   ],
   "source": [
    "arr1d = np.append(arr1d, 20)\n",
    "arr1d"
   ]
  },
  {
   "cell_type": "code",
   "execution_count": 26,
   "metadata": {},
   "outputs": [
    {
     "data": {
      "text/plain": [
       "array([ 0,  2,  4,  6,  8, 10, 12, 14, 16, 18, 20, 22, 24, 26, 28])"
      ]
     },
     "execution_count": 26,
     "metadata": {},
     "output_type": "execute_result"
    }
   ],
   "source": [
    "arr1d = np.append(arr1d, [22, 24, 26, 28])\n",
    "arr1d"
   ]
  },
  {
   "cell_type": "code",
   "execution_count": 27,
   "metadata": {},
   "outputs": [
    {
     "data": {
      "text/plain": [
       "array([ 0,  2,  4,  6,  8, 10, 12, 14, 16, 18, 20, 22, 24, 26, 28,  0,  8,\n",
       "       16, 24])"
      ]
     },
     "execution_count": 27,
     "metadata": {},
     "output_type": "execute_result"
    }
   ],
   "source": [
    "arr1d = np.append(arr1d, arr1d[::4])\n",
    "arr1d"
   ]
  },
  {
   "cell_type": "markdown",
   "metadata": {},
   "source": [
    "Иногда необходимо создать пустой массив и поэлементно добавлять в него значения (например, в цикле for). При добавлении первого элемента произойдет ошибка, поскольку в пустой массив с помощью **np.append()** добавить новое значение невозможно. Для решения этой проблемы удобно использовать конструкцию **if / else**. В этом случае, если **arr = None** (первая итерация), то выполниться **arr = np.array(i)** и создастся массив. На всех последующих итерациях к массиву будет добавляться по одному элементу."
   ]
  },
  {
   "cell_type": "code",
   "execution_count": 28,
   "metadata": {},
   "outputs": [
    {
     "data": {
      "text/plain": [
       "array([0, 1, 2, 3, 4, 5, 6, 7, 8, 9])"
      ]
     },
     "execution_count": 28,
     "metadata": {},
     "output_type": "execute_result"
    }
   ],
   "source": [
    "arr = None\n",
    "for i in range(10):\n",
    "    arr = np.append(arr, i) if arr is not None else np.array(i)\n",
    "arr"
   ]
  },
  {
   "cell_type": "markdown",
   "metadata": {},
   "source": [
    "Для объединения двух многомерных массивов используются методы **np.vstack((arr1, arr2, ...))** - объединение вдоль вертикальной оси, **np.hstack((arr1, arr2, ...))** - объединение вдоль горизонтальной оси. Параметры **arr1**, **arr2**, ... должны иметь одинаковую ширину (в случае с **np.vstack()**) или одинаковую высоту (в случае с **np.hstack()**). \n",
    "\n",
    "Существуют и другие (более общие) способы объединения массивов - **np.concatenate()** и **np.stack()**."
   ]
  },
  {
   "cell_type": "code",
   "execution_count": 29,
   "metadata": {},
   "outputs": [
    {
     "data": {
      "text/plain": [
       "array([[ 1,  2,  3,  4,  5],\n",
       "       [ 6,  7,  8,  9, 10],\n",
       "       [11, 12, 13, 14, 15],\n",
       "       [ 1,  2,  3,  4,  5],\n",
       "       [ 6,  7,  8,  9, 10]])"
      ]
     },
     "execution_count": 29,
     "metadata": {},
     "output_type": "execute_result"
    }
   ],
   "source": [
    "arr = np.vstack((arr2d, arr2d[:2]))\n",
    "arr"
   ]
  },
  {
   "cell_type": "code",
   "execution_count": 30,
   "metadata": {},
   "outputs": [
    {
     "data": {
      "text/plain": [
       "array([[ 1,  2,  3,  4,  5,  1,  2,  3,  4,  5,  1,  2,  3],\n",
       "       [ 6,  7,  8,  9, 10,  6,  7,  8,  9, 10,  6,  7,  8],\n",
       "       [11, 12, 13, 14, 15, 11, 12, 13, 14, 15, 11, 12, 13],\n",
       "       [ 1,  2,  3,  4,  5,  1,  2,  3,  4,  5,  1,  2,  3],\n",
       "       [ 6,  7,  8,  9, 10,  6,  7,  8,  9, 10,  6,  7,  8]])"
      ]
     },
     "execution_count": 30,
     "metadata": {},
     "output_type": "execute_result"
    }
   ],
   "source": [
    "arr = np.hstack((arr, arr, arr[:,:3]))\n",
    "arr"
   ]
  },
  {
   "cell_type": "markdown",
   "metadata": {},
   "source": [
    "### Векторные операции"
   ]
  },
  {
   "cell_type": "markdown",
   "metadata": {},
   "source": [
    "Выполнение арифметических операций в векторной форме позволяет существенно ускорить выполнение этих операций, особенно если массивы очень большие. Поэтому всегда надо стараться писать код так, чтобы он был векторным.\n",
    "\n",
    "Простые арифметические операции (сложение, вычитание, умножение и деление на число), возведение в степень, примененные к массивам, являются по определению векторными и выполняются поэлементно."
   ]
  },
  {
   "cell_type": "code",
   "execution_count": 31,
   "metadata": {},
   "outputs": [
    {
     "data": {
      "text/plain": [
       "array([[ 1,  2,  3,  4,  5],\n",
       "       [ 6,  7,  8,  9, 10],\n",
       "       [11, 12, 13, 14, 15]])"
      ]
     },
     "execution_count": 31,
     "metadata": {},
     "output_type": "execute_result"
    }
   ],
   "source": [
    "arr2d"
   ]
  },
  {
   "cell_type": "code",
   "execution_count": 32,
   "metadata": {},
   "outputs": [
    {
     "data": {
      "text/plain": [
       "array([[ 6,  7,  8,  9, 10],\n",
       "       [11, 12, 13, 14, 15],\n",
       "       [16, 17, 18, 19, 20]])"
      ]
     },
     "execution_count": 32,
     "metadata": {},
     "output_type": "execute_result"
    }
   ],
   "source": [
    "arr2d + 5"
   ]
  },
  {
   "cell_type": "code",
   "execution_count": 33,
   "metadata": {},
   "outputs": [
    {
     "data": {
      "text/plain": [
       "array([[ 2,  4,  6,  8, 10],\n",
       "       [12, 14, 16, 18, 20],\n",
       "       [22, 24, 26, 28, 30]])"
      ]
     },
     "execution_count": 33,
     "metadata": {},
     "output_type": "execute_result"
    }
   ],
   "source": [
    "arr2d * 2"
   ]
  },
  {
   "cell_type": "code",
   "execution_count": 34,
   "metadata": {},
   "outputs": [
    {
     "data": {
      "text/plain": [
       "array([[  1,   4,   9,  16,  25],\n",
       "       [ 36,  49,  64,  81, 100],\n",
       "       [121, 144, 169, 196, 225]])"
      ]
     },
     "execution_count": 34,
     "metadata": {},
     "output_type": "execute_result"
    }
   ],
   "source": [
    "arr2d ** 2"
   ]
  },
  {
   "cell_type": "markdown",
   "metadata": {},
   "source": [
    "Сложение и вычитание, произведение и деление двух массивов также являются векторными операциями (массивы должны иметь одинаковый размер) и выполняются поэлементно."
   ]
  },
  {
   "cell_type": "code",
   "execution_count": 35,
   "metadata": {},
   "outputs": [
    {
     "data": {
      "text/plain": [
       "array([[ 2.,  3.,  4.,  5.,  6.],\n",
       "       [ 7.,  8.,  9., 10., 11.],\n",
       "       [12., 13., 14., 15., 16.]])"
      ]
     },
     "execution_count": 35,
     "metadata": {},
     "output_type": "execute_result"
    }
   ],
   "source": [
    "arr2d + np.ones(shape=arr2d.shape)"
   ]
  },
  {
   "cell_type": "code",
   "execution_count": 36,
   "metadata": {},
   "outputs": [
    {
     "data": {
      "text/plain": [
       "array([[1., 1., 1., 1., 1.],\n",
       "       [1., 1., 1., 1., 1.],\n",
       "       [1., 1., 1., 1., 1.]])"
      ]
     },
     "execution_count": 36,
     "metadata": {},
     "output_type": "execute_result"
    }
   ],
   "source": [
    "arr2d / arr2d"
   ]
  },
  {
   "cell_type": "markdown",
   "metadata": {},
   "source": [
    "Примененить к элементам массивов более сложные функции можно с помощью определенных в модуле **numpy** стандартных функций: **np.sin()**, **np.log()** и т.д.  "
   ]
  },
  {
   "cell_type": "code",
   "execution_count": 37,
   "metadata": {},
   "outputs": [
    {
     "data": {
      "text/plain": [
       "array([[ 0.84147098,  0.90929743,  0.14112001, -0.7568025 , -0.95892427],\n",
       "       [-0.2794155 ,  0.6569866 ,  0.98935825,  0.41211849, -0.54402111],\n",
       "       [-0.99999021, -0.53657292,  0.42016704,  0.99060736,  0.65028784]])"
      ]
     },
     "execution_count": 37,
     "metadata": {},
     "output_type": "execute_result"
    }
   ],
   "source": [
    "np.sin(arr2d)"
   ]
  },
  {
   "cell_type": "code",
   "execution_count": 38,
   "metadata": {},
   "outputs": [
    {
     "data": {
      "text/plain": [
       "array([[0.        , 0.69314718, 1.09861229, 1.38629436, 1.60943791],\n",
       "       [1.79175947, 1.94591015, 2.07944154, 2.19722458, 2.30258509],\n",
       "       [2.39789527, 2.48490665, 2.56494936, 2.63905733, 2.7080502 ]])"
      ]
     },
     "execution_count": 38,
     "metadata": {},
     "output_type": "execute_result"
    }
   ],
   "source": [
    "np.log(arr2d)"
   ]
  },
  {
   "cell_type": "markdown",
   "metadata": {},
   "source": [
    "С помощью метода **np.apply_along_axis(func, axis, arr)** можно применить различные функции **func** к столбцам или строкам массива **arr**. Функция **func** принимает на вход одномерный массив, т.е. выполняет какую-то операцию над столбцами (если **axis** = 0) или над строками (если **axis** = 1).\n",
    "\n",
    "Функция **func** может быть встроенной (определенной в модуле **numpy**) или определенной самим пользователем. Главное, чтобы она принимала на вход одномерный массив. Отдельным классом таких функций являются lambda-выражения, или анонимные функции. Их синтаксис таков: *lambda x: x+1*, где до двоеточия указываются аргументы, а после двоеточия - операция.  "
   ]
  },
  {
   "cell_type": "code",
   "execution_count": 39,
   "metadata": {},
   "outputs": [
    {
     "data": {
      "text/plain": [
       "array([11, 12, 13, 14, 15])"
      ]
     },
     "execution_count": 39,
     "metadata": {},
     "output_type": "execute_result"
    }
   ],
   "source": [
    "np.apply_along_axis(np.max, 0, arr2d)"
   ]
  },
  {
   "cell_type": "code",
   "execution_count": 40,
   "metadata": {},
   "outputs": [
    {
     "name": "stdout",
     "output_type": "stream",
     "text": [
      "CPU times: user 16 µs, sys: 12 µs, total: 28 µs\n",
      "Wall time: 35 µs\n"
     ]
    }
   ],
   "source": [
    "%%time\n",
    "#np.apply_along_axis(np.max, 1, arr2d)\n",
    "\n",
    "o = np.arange(0,19)"
   ]
  },
  {
   "cell_type": "code",
   "execution_count": 41,
   "metadata": {},
   "outputs": [
    {
     "data": {
      "text/plain": [
       "array([[ 5,  4,  3,  2,  1],\n",
       "       [10,  9,  8,  7,  6],\n",
       "       [15, 14, 13, 12, 11]])"
      ]
     },
     "execution_count": 41,
     "metadata": {},
     "output_type": "execute_result"
    }
   ],
   "source": [
    "np.apply_along_axis(lambda x: x[::-1], 1, arr2d)"
   ]
  },
  {
   "cell_type": "markdown",
   "metadata": {},
   "source": [
    "## Модуль pandas"
   ]
  },
  {
   "cell_type": "markdown",
   "metadata": {},
   "source": [
    "Данный пакет делает Python мощным инструментом для анализа данных. Пакет дает возможность строить сводные таблицы, выполнять группировки, предоставляет удобный доступ к табличным данным, а при наличии пакета matplotlib дает возможность рисовать графики на полученных наборах данных (об этом в следующей лабораторной работе).\n",
    "\n",
    "Общепринятым способом краткого наименования этого модуля является **pd**. Всю документацию по этому модулю, а также примеры его использования можно найти на [официальном сайте](https://pandas.pydata.org/docs/ \"pandas.pydata.org\")."
   ]
  },
  {
   "cell_type": "code",
   "execution_count": 42,
   "metadata": {},
   "outputs": [],
   "source": [
    "import pandas as pd"
   ]
  },
  {
   "cell_type": "markdown",
   "metadata": {},
   "source": [
    "Этот модуль используется для эффективной работы с таблицами. Базовыми классами являются *Index* (индексы), *Series* (столбцы), *DataFrame* (матрица). Их конструкторы принимают на вход объекты, имеющие логику одномерных массивов (для *Index* и *Series*) или же двумерных массивов (для *DataFrame*)."
   ]
  },
  {
   "cell_type": "markdown",
   "metadata": {},
   "source": [
    "### Класс Index"
   ]
  },
  {
   "cell_type": "markdown",
   "metadata": {},
   "source": [
    "Этот класс описывает индексы и колонки, содержащиеся в табличке. Объекты класса **Index** обладают множеством атрибутов, например, **name**, **size**, **shape**, **values** и др. Атрибут **values** выдает элементы, содержащиеся в объекте, в виде массива **np.array**."
   ]
  },
  {
   "cell_type": "code",
   "execution_count": 43,
   "metadata": {},
   "outputs": [
    {
     "name": "stdout",
     "output_type": "stream",
     "text": [
      "Index(['One', 'Two', 'Three', 'Four', 'Five'], dtype='object', name='numbers')\n",
      "Name:  numbers\n",
      "Shape:  (5,)\n",
      "Values:  ['One' 'Two' 'Three' 'Four' 'Five']\n"
     ]
    }
   ],
   "source": [
    "idx = pd.Index(['One','Two','Three','Four','Five'], name='numbers')\n",
    "print(idx)\n",
    "print('Name: ', idx.name)\n",
    "print('Shape: ', idx.shape)\n",
    "print('Values: ', idx.values)"
   ]
  },
  {
   "cell_type": "markdown",
   "metadata": {},
   "source": [
    "Метод **drop(labels)** возвращает объект **Index** с выкинутыми значениями **labels**. Метод **drop_duplicates(keep)** возвращает объект с уделенными повторяющимися значениями. Если параметр **keep = 'first'**, по сохраняется первое появление повторяющегося значения, если **keep = 'last'**, то сохранияет последнее упоминание. Метод **unique()** возвращает объект с уникальными элементами, т.е. встречающимися только 1 раз. Этот метод аналогичен методу **drop_duplicates()**."
   ]
  },
  {
   "cell_type": "code",
   "execution_count": 44,
   "metadata": {},
   "outputs": [
    {
     "data": {
      "text/plain": [
       "Index(['One', 'Two', 'Three', 'Four', 'Five', 'One', 'Two'], dtype='object', name='numbers')"
      ]
     },
     "execution_count": 44,
     "metadata": {},
     "output_type": "execute_result"
    }
   ],
   "source": [
    "idx = pd.Index(['One','Two','Three','Four','Five','One','Two'], name='numbers')\n",
    "idx"
   ]
  },
  {
   "cell_type": "code",
   "execution_count": 45,
   "metadata": {},
   "outputs": [
    {
     "name": "stdout",
     "output_type": "stream",
     "text": [
      "Index(['One', 'Two', 'Three', 'Four', 'Five'], dtype='object', name='numbers')\n",
      "Index(['One', 'Two', 'Three', 'Four', 'Five', 'One', 'Two'], dtype='object', name='numbers')\n"
     ]
    }
   ],
   "source": [
    "print(idx.drop_duplicates())\n",
    "\n",
    "print(idx)"
   ]
  },
  {
   "cell_type": "code",
   "execution_count": 46,
   "metadata": {},
   "outputs": [
    {
     "name": "stdout",
     "output_type": "stream",
     "text": [
      "Index(['One', 'Two', 'Three', 'Four', 'Five', 'One', 'Two'], dtype='object', name='numbers')\n"
     ]
    }
   ],
   "source": [
    "idx.drop(['One','Two'])\n",
    "print(idx)"
   ]
  },
  {
   "cell_type": "code",
   "execution_count": 47,
   "metadata": {},
   "outputs": [
    {
     "data": {
      "text/plain": [
       "pandas.core.indexes.base.Index"
      ]
     },
     "execution_count": 47,
     "metadata": {},
     "output_type": "execute_result"
    }
   ],
   "source": [
    "idx.unique()\n",
    "type(idx)"
   ]
  },
  {
   "cell_type": "markdown",
   "metadata": {},
   "source": [
    "При желании можно переименовать те или иные элементы в объекте **Index** с помощью метода **reindex(new_labels)**, подав ему на вход новые элементы."
   ]
  },
  {
   "cell_type": "code",
   "execution_count": 48,
   "metadata": {},
   "outputs": [
    {
     "data": {
      "text/plain": [
       "Index(['One', 'Two', 'Three', 'Four', 'Five', 'One', 'Two'], dtype='object', name='numbers')"
      ]
     },
     "execution_count": 48,
     "metadata": {},
     "output_type": "execute_result"
    }
   ],
   "source": [
    "idsx = idx\n",
    "idx.reindex(idsx,)\n",
    "\n",
    "idsx"
   ]
  },
  {
   "cell_type": "markdown",
   "metadata": {},
   "source": [
    "### Класс Series"
   ]
  },
  {
   "cell_type": "markdown",
   "metadata": {},
   "source": [
    "Этот класс представляет собой реализацию одномерного массива с множеством различных методов и атрибутов. Конструктор класса принимает на вход данные в виде массива, индексы (в виде массива или объекта класса **Index**), имя объекта. У класса **Series** довольно много атрибутов. Вот некоторые их них: **name**, **values**, **size**, **index** и др."
   ]
  },
  {
   "cell_type": "code",
   "execution_count": 49,
   "metadata": {},
   "outputs": [
    {
     "data": {
      "text/plain": [
       "100     0\n",
       "102     1\n",
       "104     2\n",
       "106     3\n",
       "108     4\n",
       "       ..\n",
       "290    95\n",
       "292    96\n",
       "294    97\n",
       "296    98\n",
       "298    99\n",
       "Name: numbers, Length: 100, dtype: int64"
      ]
     },
     "execution_count": 49,
     "metadata": {},
     "output_type": "execute_result"
    }
   ],
   "source": [
    "ser = pd.Series(np.arange(0,100,1), name='numbers', index=np.arange(100,300,2))\n",
    "ser"
   ]
  },
  {
   "cell_type": "markdown",
   "metadata": {},
   "source": [
    "Сменить тип данных можно с помощью метода **astype(new_type)**, который по определению возвращает копию объекта."
   ]
  },
  {
   "cell_type": "code",
   "execution_count": 50,
   "metadata": {},
   "outputs": [
    {
     "data": {
      "text/plain": [
       "100     0.0\n",
       "102     1.0\n",
       "104     2.0\n",
       "106     3.0\n",
       "108     4.0\n",
       "       ... \n",
       "290    95.0\n",
       "292    96.0\n",
       "294    97.0\n",
       "296    98.0\n",
       "298    99.0\n",
       "Name: numbers, Length: 100, dtype: float32"
      ]
     },
     "execution_count": 50,
     "metadata": {},
     "output_type": "execute_result"
    }
   ],
   "source": [
    "ser.astype(np.float32)"
   ]
  },
  {
   "cell_type": "markdown",
   "metadata": {},
   "source": [
    "Индексирование одного элемента можно проводить подобно обычному массиву, однако в квадратных скобках надо указать именно значение элемента из **Index**, а не порядковый номер элемента. Для того, чтобы получить *slice*, то есть получить какую-то часть объекта, нужно использовать метод **loc[a,b,c]**. Его функционал полностью аналогичен индексированию массивов **numpy**, c той лишь разницей, что элемент с индексом **b** включается."
   ]
  },
  {
   "cell_type": "code",
   "execution_count": 51,
   "metadata": {},
   "outputs": [
    {
     "data": {
      "text/plain": [
       "0"
      ]
     },
     "execution_count": 51,
     "metadata": {},
     "output_type": "execute_result"
    }
   ],
   "source": [
    "ser[100]"
   ]
  },
  {
   "cell_type": "code",
   "execution_count": 52,
   "metadata": {},
   "outputs": [
    {
     "data": {
      "text/plain": [
       "100     0\n",
       "102     1\n",
       "104     2\n",
       "106     3\n",
       "108     4\n",
       "110     5\n",
       "112     6\n",
       "114     7\n",
       "116     8\n",
       "118     9\n",
       "120    10\n",
       "Name: numbers, dtype: int64"
      ]
     },
     "execution_count": 52,
     "metadata": {},
     "output_type": "execute_result"
    }
   ],
   "source": [
    "ser.loc[100:120]"
   ]
  },
  {
   "cell_type": "code",
   "execution_count": 53,
   "metadata": {},
   "outputs": [
    {
     "data": {
      "text/plain": [
       "100     0\n",
       "104     2\n",
       "108     4\n",
       "112     6\n",
       "116     8\n",
       "120    10\n",
       "Name: numbers, dtype: int64"
      ]
     },
     "execution_count": 53,
     "metadata": {},
     "output_type": "execute_result"
    }
   ],
   "source": [
    "ser.loc[100:120:2]"
   ]
  },
  {
   "cell_type": "markdown",
   "metadata": {},
   "source": [
    "Если же нужно получить *slice* на основе порядковых номеров элементов, то используется метод **iloc[a:b:c]**. Работает он аналогично методу **loc[a:b:c]**, с той лишь разницей, что индекс с номером **b** не включается."
   ]
  },
  {
   "cell_type": "code",
   "execution_count": 54,
   "metadata": {},
   "outputs": [
    {
     "data": {
      "text/plain": [
       "100    0\n",
       "102    1\n",
       "104    2\n",
       "106    3\n",
       "108    4\n",
       "110    5\n",
       "112    6\n",
       "114    7\n",
       "116    8\n",
       "118    9\n",
       "Name: numbers, dtype: int64"
      ]
     },
     "execution_count": 54,
     "metadata": {},
     "output_type": "execute_result"
    }
   ],
   "source": [
    "ser.iloc[0:10]"
   ]
  },
  {
   "cell_type": "markdown",
   "metadata": {},
   "source": [
    "Полезным бывает итерирование по всем парам (индекс, значение) с помощью метода **iteritems()**."
   ]
  },
  {
   "cell_type": "code",
   "execution_count": 55,
   "metadata": {},
   "outputs": [
    {
     "name": "stdout",
     "output_type": "stream",
     "text": [
      "Index: 100 , Value: 0\n",
      "Index: 102 , Value: 1\n",
      "Index: 104 , Value: 2\n",
      "Index: 106 , Value: 3\n",
      "Index: 108 , Value: 4\n",
      "Index: 110 , Value: 5\n",
      "Index: 112 , Value: 6\n",
      "Index: 114 , Value: 7\n",
      "Index: 116 , Value: 8\n",
      "Index: 118 , Value: 9\n"
     ]
    }
   ],
   "source": [
    "for index, value in ser.iloc[:10].iteritems():\n",
    "    print('Index:', index, ', Value:', value)"
   ]
  },
  {
   "cell_type": "markdown",
   "metadata": {},
   "source": [
    "**Series** имеет широким набором векторных операций: сложение **add()**, вычитание **sub()**, умножение **mul()**, деление **div()**, округление **round()**, возведение в степень **pow()**, операций сравнения: меньше **lt()**, больше **gt()**, меньши или равно **le()**, больше или равно **ge()**, не равен **ne()**, равен **eq()** и др."
   ]
  },
  {
   "cell_type": "code",
   "execution_count": 56,
   "metadata": {},
   "outputs": [
    {
     "data": {
      "text/plain": [
       "100      1\n",
       "102      2\n",
       "104      3\n",
       "106      4\n",
       "108      5\n",
       "      ... \n",
       "290     96\n",
       "292     97\n",
       "294     98\n",
       "296     99\n",
       "298    100\n",
       "Name: numbers, Length: 100, dtype: int64"
      ]
     },
     "execution_count": 56,
     "metadata": {},
     "output_type": "execute_result"
    }
   ],
   "source": [
    "ser.add(1)"
   ]
  },
  {
   "cell_type": "code",
   "execution_count": 57,
   "metadata": {},
   "outputs": [
    {
     "data": {
      "text/plain": [
       "100    NaN\n",
       "102    1.0\n",
       "104    1.0\n",
       "106    1.0\n",
       "108    1.0\n",
       "      ... \n",
       "290    1.0\n",
       "292    1.0\n",
       "294    1.0\n",
       "296    1.0\n",
       "298    1.0\n",
       "Name: numbers, Length: 100, dtype: float64"
      ]
     },
     "execution_count": 57,
     "metadata": {},
     "output_type": "execute_result"
    }
   ],
   "source": [
    "ser / ser"
   ]
  },
  {
   "cell_type": "code",
   "execution_count": 58,
   "metadata": {},
   "outputs": [
    {
     "name": "stdout",
     "output_type": "stream",
     "text": [
      "CPU times: user 364 µs, sys: 219 µs, total: 583 µs\n",
      "Wall time: 556 µs\n"
     ]
    },
    {
     "data": {
      "text/plain": [
       "100       0.000000\n",
       "102       1.000000\n",
       "104       2.028203\n",
       "106       3.101555\n",
       "108       4.230441\n",
       "          ...     \n",
       "290    7508.257976\n",
       "292    8025.528491\n",
       "294    8578.407365\n",
       "296    9169.354356\n",
       "298    9801.000000\n",
       "Name: numbers, Length: 100, dtype: float64"
      ]
     },
     "execution_count": 58,
     "metadata": {},
     "output_type": "execute_result"
    }
   ],
   "source": [
    "%%time\n",
    "ser1 = ser.pow(np.linspace(1,2,len(ser)))\n",
    "ser1"
   ]
  },
  {
   "cell_type": "code",
   "execution_count": 59,
   "metadata": {},
   "outputs": [
    {
     "name": "stdout",
     "output_type": "stream",
     "text": [
      "CPU times: user 136 µs, sys: 82 µs, total: 218 µs\n",
      "Wall time: 223 µs\n"
     ]
    },
    {
     "data": {
      "text/plain": [
       "100       0.00\n",
       "102       1.00\n",
       "104       2.03\n",
       "106       3.10\n",
       "108       4.23\n",
       "        ...   \n",
       "290    7508.26\n",
       "292    8025.53\n",
       "294    8578.41\n",
       "296    9169.35\n",
       "298    9801.00\n",
       "Name: numbers, Length: 100, dtype: float64"
      ]
     },
     "execution_count": 59,
     "metadata": {},
     "output_type": "execute_result"
    }
   ],
   "source": [
    "%%time\n",
    "ser1.round(2)"
   ]
  },
  {
   "cell_type": "code",
   "execution_count": 60,
   "metadata": {},
   "outputs": [
    {
     "data": {
      "text/plain": [
       "100    True\n",
       "102    True\n",
       "104    True\n",
       "106    True\n",
       "108    True\n",
       "       ... \n",
       "290    True\n",
       "292    True\n",
       "294    True\n",
       "296    True\n",
       "298    True\n",
       "Name: numbers, Length: 100, dtype: bool"
      ]
     },
     "execution_count": 60,
     "metadata": {},
     "output_type": "execute_result"
    }
   ],
   "source": [
    "ser.lt(ser+1)"
   ]
  },
  {
   "cell_type": "markdown",
   "metadata": {},
   "source": [
    "Также у класса **Series** есть много статистических функций **mean()**, **max()**, **min()**, **skew()**, **kurtosis()** и др. Значения некоторых статистических функций можно получить с помощью метода **describe()**."
   ]
  },
  {
   "cell_type": "code",
   "execution_count": 61,
   "metadata": {},
   "outputs": [
    {
     "data": {
      "text/plain": [
       "count    100.000000\n",
       "mean      49.500000\n",
       "std       29.011492\n",
       "min        0.000000\n",
       "25%       24.750000\n",
       "50%       49.500000\n",
       "75%       74.250000\n",
       "max       99.000000\n",
       "Name: numbers, dtype: float64"
      ]
     },
     "execution_count": 61,
     "metadata": {},
     "output_type": "execute_result"
    }
   ],
   "source": [
    "ser.describe()"
   ]
  },
  {
   "cell_type": "markdown",
   "metadata": {},
   "source": [
    "Заполнение пропущенных значений производится с помощью метода **fillna()**, при этом параметр **inplace** позволяет выполнять заполнение исходного объекта, а не создавать его копию. Аналогично работает метод **replace()**, который позволяет заменить одни значения на другие. Для этого в него надо передать словарь, в котором старые значения являются ключами, а новые - значениями."
   ]
  },
  {
   "cell_type": "code",
   "execution_count": 62,
   "metadata": {},
   "outputs": [
    {
     "data": {
      "text/plain": [
       "0    1.0\n",
       "1    2.0\n",
       "2    3.0\n",
       "3    NaN\n",
       "4    5.0\n",
       "5    6.0\n",
       "6    7.0\n",
       "7    NaN\n",
       "dtype: float64"
      ]
     },
     "execution_count": 62,
     "metadata": {},
     "output_type": "execute_result"
    }
   ],
   "source": [
    "ser = pd.Series([1,2,3,np.nan,5,6,7,np.nan])\n",
    "ser"
   ]
  },
  {
   "cell_type": "code",
   "execution_count": 63,
   "metadata": {},
   "outputs": [
    {
     "data": {
      "text/plain": [
       "0    1.0\n",
       "1    2.0\n",
       "2    3.0\n",
       "3    NaN\n",
       "4    5.0\n",
       "5    6.0\n",
       "6    7.0\n",
       "7    NaN\n",
       "dtype: float64"
      ]
     },
     "execution_count": 63,
     "metadata": {},
     "output_type": "execute_result"
    }
   ],
   "source": [
    "ser.fillna(10)\n",
    "ser"
   ]
  },
  {
   "cell_type": "code",
   "execution_count": 64,
   "metadata": {},
   "outputs": [
    {
     "name": "stdout",
     "output_type": "stream",
     "text": [
      "0     1.0\n",
      "1     2.0\n",
      "2     3.0\n",
      "3    10.0\n",
      "4     5.0\n",
      "5     6.0\n",
      "6     7.0\n",
      "7    10.0\n",
      "dtype: float64\n",
      "0     1.0\n",
      "1     2.0\n",
      "2     3.0\n",
      "3    10.0\n",
      "4     5.0\n",
      "5     6.0\n",
      "6     7.0\n",
      "7    10.0\n",
      "dtype: float64\n"
     ]
    }
   ],
   "source": [
    "ser.fillna(10, inplace=True)\n",
    "print(ser)\n",
    "ser.replace({4:10}, inplace=True)\n",
    "print(ser)"
   ]
  },
  {
   "cell_type": "markdown",
   "metadata": {},
   "source": [
    "Объединение нескольких объектов **Series** производится с помощью метода **append()**. Если параметр **ignore_index = True**, то индексы в итоговом объекте будут от 0 до максимального индекса. Если же **ignore_index = False**, то сохранятся индексы исходных объектов."
   ]
  },
  {
   "cell_type": "code",
   "execution_count": 65,
   "metadata": {},
   "outputs": [
    {
     "data": {
      "text/plain": [
       "0    1\n",
       "1    1\n",
       "2    1\n",
       "0    2\n",
       "1    2\n",
       "2    2\n",
       "dtype: int64"
      ]
     },
     "execution_count": 65,
     "metadata": {},
     "output_type": "execute_result"
    }
   ],
   "source": [
    "ser1 = pd.Series([1,1,1])\n",
    "ser2 = pd.Series([2,2,2])\n",
    "ser1.append(ser2, ignore_index = False)"
   ]
  },
  {
   "cell_type": "code",
   "execution_count": 66,
   "metadata": {},
   "outputs": [
    {
     "data": {
      "text/plain": [
       "0    1\n",
       "1    1\n",
       "2    1\n",
       "3    2\n",
       "4    2\n",
       "5    2\n",
       "dtype: int64"
      ]
     },
     "execution_count": 66,
     "metadata": {},
     "output_type": "execute_result"
    }
   ],
   "source": [
    "ser1.append(ser2, ignore_index = True)"
   ]
  },
  {
   "cell_type": "markdown",
   "metadata": {},
   "source": [
    "### Класс DataFrame"
   ]
  },
  {
   "cell_type": "markdown",
   "metadata": {},
   "source": [
    "Класс **Series** описывает структуру таблиц. Каждая колонка является объектом класса **Series**, а названия колонок и индексы - объектами класса **Index**. Функционал этого класса почти полностью совпадает с функционалом класса **Series**. Перечислим основные возможности по работе с таблицами, предоставляемые классом **DataFrame**. Конструктор принимает на себя данные, имеющие логическую структуру двумерного массива: двумерный массив, список списков, кортеж из списков, словарь. В последнем случае ключи словаря будут являться названиями колонок. Также в конструктор можно передать непосредственно названия колонок и индексов, а также тип данных."
   ]
  },
  {
   "cell_type": "code",
   "execution_count": 67,
   "metadata": {},
   "outputs": [
    {
     "data": {
      "text/html": [
       "<div>\n",
       "<style scoped>\n",
       "    .dataframe tbody tr th:only-of-type {\n",
       "        vertical-align: middle;\n",
       "    }\n",
       "\n",
       "    .dataframe tbody tr th {\n",
       "        vertical-align: top;\n",
       "    }\n",
       "\n",
       "    .dataframe thead th {\n",
       "        text-align: right;\n",
       "    }\n",
       "</style>\n",
       "<table border=\"1\" class=\"dataframe\">\n",
       "  <thead>\n",
       "    <tr style=\"text-align: right;\">\n",
       "      <th></th>\n",
       "      <th>one</th>\n",
       "      <th>two</th>\n",
       "      <th>three</th>\n",
       "      <th>four</th>\n",
       "      <th>five</th>\n",
       "    </tr>\n",
       "  </thead>\n",
       "  <tbody>\n",
       "    <tr>\n",
       "      <th>0</th>\n",
       "      <td>1.0</td>\n",
       "      <td>1.0</td>\n",
       "      <td>1.0</td>\n",
       "      <td>1.0</td>\n",
       "      <td>1.0</td>\n",
       "    </tr>\n",
       "    <tr>\n",
       "      <th>1</th>\n",
       "      <td>1.0</td>\n",
       "      <td>1.0</td>\n",
       "      <td>1.0</td>\n",
       "      <td>1.0</td>\n",
       "      <td>1.0</td>\n",
       "    </tr>\n",
       "    <tr>\n",
       "      <th>2</th>\n",
       "      <td>1.0</td>\n",
       "      <td>1.0</td>\n",
       "      <td>1.0</td>\n",
       "      <td>1.0</td>\n",
       "      <td>1.0</td>\n",
       "    </tr>\n",
       "    <tr>\n",
       "      <th>3</th>\n",
       "      <td>1.0</td>\n",
       "      <td>1.0</td>\n",
       "      <td>1.0</td>\n",
       "      <td>1.0</td>\n",
       "      <td>1.0</td>\n",
       "    </tr>\n",
       "    <tr>\n",
       "      <th>4</th>\n",
       "      <td>1.0</td>\n",
       "      <td>1.0</td>\n",
       "      <td>1.0</td>\n",
       "      <td>1.0</td>\n",
       "      <td>1.0</td>\n",
       "    </tr>\n",
       "    <tr>\n",
       "      <th>5</th>\n",
       "      <td>1.0</td>\n",
       "      <td>1.0</td>\n",
       "      <td>1.0</td>\n",
       "      <td>1.0</td>\n",
       "      <td>1.0</td>\n",
       "    </tr>\n",
       "    <tr>\n",
       "      <th>6</th>\n",
       "      <td>1.0</td>\n",
       "      <td>1.0</td>\n",
       "      <td>1.0</td>\n",
       "      <td>1.0</td>\n",
       "      <td>1.0</td>\n",
       "    </tr>\n",
       "    <tr>\n",
       "      <th>7</th>\n",
       "      <td>1.0</td>\n",
       "      <td>1.0</td>\n",
       "      <td>1.0</td>\n",
       "      <td>1.0</td>\n",
       "      <td>1.0</td>\n",
       "    </tr>\n",
       "    <tr>\n",
       "      <th>8</th>\n",
       "      <td>1.0</td>\n",
       "      <td>1.0</td>\n",
       "      <td>1.0</td>\n",
       "      <td>1.0</td>\n",
       "      <td>1.0</td>\n",
       "    </tr>\n",
       "    <tr>\n",
       "      <th>9</th>\n",
       "      <td>1.0</td>\n",
       "      <td>1.0</td>\n",
       "      <td>1.0</td>\n",
       "      <td>1.0</td>\n",
       "      <td>1.0</td>\n",
       "    </tr>\n",
       "  </tbody>\n",
       "</table>\n",
       "</div>"
      ],
      "text/plain": [
       "   one  two  three  four  five\n",
       "0  1.0  1.0    1.0   1.0   1.0\n",
       "1  1.0  1.0    1.0   1.0   1.0\n",
       "2  1.0  1.0    1.0   1.0   1.0\n",
       "3  1.0  1.0    1.0   1.0   1.0\n",
       "4  1.0  1.0    1.0   1.0   1.0\n",
       "5  1.0  1.0    1.0   1.0   1.0\n",
       "6  1.0  1.0    1.0   1.0   1.0\n",
       "7  1.0  1.0    1.0   1.0   1.0\n",
       "8  1.0  1.0    1.0   1.0   1.0\n",
       "9  1.0  1.0    1.0   1.0   1.0"
      ]
     },
     "execution_count": 67,
     "metadata": {},
     "output_type": "execute_result"
    }
   ],
   "source": [
    "dt = pd.DataFrame(np.ones(shape=(10,5)), columns=['one','two','three','four','five'])\n",
    "dt"
   ]
  },
  {
   "cell_type": "code",
   "execution_count": 68,
   "metadata": {},
   "outputs": [
    {
     "data": {
      "text/html": [
       "<div>\n",
       "<style scoped>\n",
       "    .dataframe tbody tr th:only-of-type {\n",
       "        vertical-align: middle;\n",
       "    }\n",
       "\n",
       "    .dataframe tbody tr th {\n",
       "        vertical-align: top;\n",
       "    }\n",
       "\n",
       "    .dataframe thead th {\n",
       "        text-align: right;\n",
       "    }\n",
       "</style>\n",
       "<table border=\"1\" class=\"dataframe\">\n",
       "  <thead>\n",
       "    <tr style=\"text-align: right;\">\n",
       "      <th></th>\n",
       "      <th>one</th>\n",
       "      <th>two</th>\n",
       "      <th>three</th>\n",
       "      <th>four</th>\n",
       "      <th>five</th>\n",
       "    </tr>\n",
       "  </thead>\n",
       "  <tbody>\n",
       "    <tr>\n",
       "      <th>0</th>\n",
       "      <td>2.0</td>\n",
       "      <td>5.0</td>\n",
       "      <td>5.0</td>\n",
       "      <td>4.2</td>\n",
       "      <td>5.0</td>\n",
       "    </tr>\n",
       "    <tr>\n",
       "      <th>1</th>\n",
       "      <td>2.0</td>\n",
       "      <td>5.0</td>\n",
       "      <td>5.0</td>\n",
       "      <td>4.2</td>\n",
       "      <td>5.0</td>\n",
       "    </tr>\n",
       "    <tr>\n",
       "      <th>2</th>\n",
       "      <td>2.0</td>\n",
       "      <td>5.0</td>\n",
       "      <td>5.0</td>\n",
       "      <td>4.2</td>\n",
       "      <td>5.0</td>\n",
       "    </tr>\n",
       "    <tr>\n",
       "      <th>3</th>\n",
       "      <td>2.0</td>\n",
       "      <td>5.0</td>\n",
       "      <td>5.0</td>\n",
       "      <td>4.2</td>\n",
       "      <td>5.0</td>\n",
       "    </tr>\n",
       "    <tr>\n",
       "      <th>4</th>\n",
       "      <td>2.0</td>\n",
       "      <td>5.0</td>\n",
       "      <td>5.0</td>\n",
       "      <td>4.2</td>\n",
       "      <td>5.0</td>\n",
       "    </tr>\n",
       "  </tbody>\n",
       "</table>\n",
       "</div>"
      ],
      "text/plain": [
       "   one  two  three  four  five\n",
       "0  2.0  5.0    5.0   4.2   5.0\n",
       "1  2.0  5.0    5.0   4.2   5.0\n",
       "2  2.0  5.0    5.0   4.2   5.0\n",
       "3  2.0  5.0    5.0   4.2   5.0\n",
       "4  2.0  5.0    5.0   4.2   5.0"
      ]
     },
     "execution_count": 68,
     "metadata": {},
     "output_type": "execute_result"
    }
   ],
   "source": [
    "dt = pd.DataFrame({'one':[2]*5,\n",
    "                  'two':5,\n",
    "                  'three':5,\n",
    "                   'four':4.2,\n",
    "                   'five':5},\n",
    "                 dtype=np.float32)\n",
    "dt"
   ]
  },
  {
   "cell_type": "markdown",
   "metadata": {},
   "source": [
    "Информацию о количестве строк и столбцов, о типах данных можно получить с помощью метода **info()**. Статистику по колонкам можно получить с помощью метода **describe()**."
   ]
  },
  {
   "cell_type": "code",
   "execution_count": 69,
   "metadata": {},
   "outputs": [
    {
     "name": "stdout",
     "output_type": "stream",
     "text": [
      "<class 'pandas.core.frame.DataFrame'>\n",
      "RangeIndex: 5 entries, 0 to 4\n",
      "Data columns (total 5 columns):\n",
      " #   Column  Non-Null Count  Dtype  \n",
      "---  ------  --------------  -----  \n",
      " 0   one     5 non-null      float32\n",
      " 1   two     5 non-null      float32\n",
      " 2   three   5 non-null      float32\n",
      " 3   four    5 non-null      float32\n",
      " 4   five    5 non-null      float32\n",
      "dtypes: float32(5)\n",
      "memory usage: 228.0 bytes\n"
     ]
    }
   ],
   "source": [
    "dt.info()\n"
   ]
  },
  {
   "cell_type": "code",
   "execution_count": 70,
   "metadata": {},
   "outputs": [
    {
     "data": {
      "text/html": [
       "<div>\n",
       "<style scoped>\n",
       "    .dataframe tbody tr th:only-of-type {\n",
       "        vertical-align: middle;\n",
       "    }\n",
       "\n",
       "    .dataframe tbody tr th {\n",
       "        vertical-align: top;\n",
       "    }\n",
       "\n",
       "    .dataframe thead th {\n",
       "        text-align: right;\n",
       "    }\n",
       "</style>\n",
       "<table border=\"1\" class=\"dataframe\">\n",
       "  <thead>\n",
       "    <tr style=\"text-align: right;\">\n",
       "      <th></th>\n",
       "      <th>one</th>\n",
       "      <th>two</th>\n",
       "      <th>three</th>\n",
       "      <th>four</th>\n",
       "      <th>five</th>\n",
       "    </tr>\n",
       "  </thead>\n",
       "  <tbody>\n",
       "    <tr>\n",
       "      <th>count</th>\n",
       "      <td>5.0</td>\n",
       "      <td>5.0</td>\n",
       "      <td>5.0</td>\n",
       "      <td>5.0</td>\n",
       "      <td>5.0</td>\n",
       "    </tr>\n",
       "    <tr>\n",
       "      <th>mean</th>\n",
       "      <td>2.0</td>\n",
       "      <td>5.0</td>\n",
       "      <td>5.0</td>\n",
       "      <td>4.2</td>\n",
       "      <td>5.0</td>\n",
       "    </tr>\n",
       "    <tr>\n",
       "      <th>std</th>\n",
       "      <td>0.0</td>\n",
       "      <td>0.0</td>\n",
       "      <td>0.0</td>\n",
       "      <td>0.0</td>\n",
       "      <td>0.0</td>\n",
       "    </tr>\n",
       "    <tr>\n",
       "      <th>min</th>\n",
       "      <td>2.0</td>\n",
       "      <td>5.0</td>\n",
       "      <td>5.0</td>\n",
       "      <td>4.2</td>\n",
       "      <td>5.0</td>\n",
       "    </tr>\n",
       "    <tr>\n",
       "      <th>25%</th>\n",
       "      <td>2.0</td>\n",
       "      <td>5.0</td>\n",
       "      <td>5.0</td>\n",
       "      <td>4.2</td>\n",
       "      <td>5.0</td>\n",
       "    </tr>\n",
       "    <tr>\n",
       "      <th>50%</th>\n",
       "      <td>2.0</td>\n",
       "      <td>5.0</td>\n",
       "      <td>5.0</td>\n",
       "      <td>4.2</td>\n",
       "      <td>5.0</td>\n",
       "    </tr>\n",
       "    <tr>\n",
       "      <th>75%</th>\n",
       "      <td>2.0</td>\n",
       "      <td>5.0</td>\n",
       "      <td>5.0</td>\n",
       "      <td>4.2</td>\n",
       "      <td>5.0</td>\n",
       "    </tr>\n",
       "    <tr>\n",
       "      <th>max</th>\n",
       "      <td>2.0</td>\n",
       "      <td>5.0</td>\n",
       "      <td>5.0</td>\n",
       "      <td>4.2</td>\n",
       "      <td>5.0</td>\n",
       "    </tr>\n",
       "  </tbody>\n",
       "</table>\n",
       "</div>"
      ],
      "text/plain": [
       "       one  two  three  four  five\n",
       "count  5.0  5.0    5.0   5.0   5.0\n",
       "mean   2.0  5.0    5.0   4.2   5.0\n",
       "std    0.0  0.0    0.0   0.0   0.0\n",
       "min    2.0  5.0    5.0   4.2   5.0\n",
       "25%    2.0  5.0    5.0   4.2   5.0\n",
       "50%    2.0  5.0    5.0   4.2   5.0\n",
       "75%    2.0  5.0    5.0   4.2   5.0\n",
       "max    2.0  5.0    5.0   4.2   5.0"
      ]
     },
     "execution_count": 70,
     "metadata": {},
     "output_type": "execute_result"
    }
   ],
   "source": [
    "dt.describe()"
   ]
  },
  {
   "cell_type": "markdown",
   "metadata": {},
   "source": [
    "Если требуется посмотреть на несколько строк таблицы, то применяется метод **head(n)**, возвращающий первые **n** строк. Если **n** не задано, то оно полагается равным 5. Этот метод особенно полезен, если требуется увидеть структуру таблицы, а данных очень много. Также есть метод **tail(n)**, который позволяет увидеть последние **n** строк таблицы."
   ]
  },
  {
   "cell_type": "code",
   "execution_count": 71,
   "metadata": {},
   "outputs": [
    {
     "data": {
      "text/html": [
       "<div>\n",
       "<style scoped>\n",
       "    .dataframe tbody tr th:only-of-type {\n",
       "        vertical-align: middle;\n",
       "    }\n",
       "\n",
       "    .dataframe tbody tr th {\n",
       "        vertical-align: top;\n",
       "    }\n",
       "\n",
       "    .dataframe thead th {\n",
       "        text-align: right;\n",
       "    }\n",
       "</style>\n",
       "<table border=\"1\" class=\"dataframe\">\n",
       "  <thead>\n",
       "    <tr style=\"text-align: right;\">\n",
       "      <th></th>\n",
       "      <th>one</th>\n",
       "      <th>two</th>\n",
       "      <th>three</th>\n",
       "      <th>four</th>\n",
       "      <th>five</th>\n",
       "    </tr>\n",
       "  </thead>\n",
       "  <tbody>\n",
       "    <tr>\n",
       "      <th>0</th>\n",
       "      <td>2.0</td>\n",
       "      <td>5.0</td>\n",
       "      <td>5.0</td>\n",
       "      <td>4.2</td>\n",
       "      <td>5.0</td>\n",
       "    </tr>\n",
       "    <tr>\n",
       "      <th>1</th>\n",
       "      <td>2.0</td>\n",
       "      <td>5.0</td>\n",
       "      <td>5.0</td>\n",
       "      <td>4.2</td>\n",
       "      <td>5.0</td>\n",
       "    </tr>\n",
       "    <tr>\n",
       "      <th>2</th>\n",
       "      <td>2.0</td>\n",
       "      <td>5.0</td>\n",
       "      <td>5.0</td>\n",
       "      <td>4.2</td>\n",
       "      <td>5.0</td>\n",
       "    </tr>\n",
       "    <tr>\n",
       "      <th>3</th>\n",
       "      <td>2.0</td>\n",
       "      <td>5.0</td>\n",
       "      <td>5.0</td>\n",
       "      <td>4.2</td>\n",
       "      <td>5.0</td>\n",
       "    </tr>\n",
       "    <tr>\n",
       "      <th>4</th>\n",
       "      <td>2.0</td>\n",
       "      <td>5.0</td>\n",
       "      <td>5.0</td>\n",
       "      <td>4.2</td>\n",
       "      <td>5.0</td>\n",
       "    </tr>\n",
       "  </tbody>\n",
       "</table>\n",
       "</div>"
      ],
      "text/plain": [
       "   one  two  three  four  five\n",
       "0  2.0  5.0    5.0   4.2   5.0\n",
       "1  2.0  5.0    5.0   4.2   5.0\n",
       "2  2.0  5.0    5.0   4.2   5.0\n",
       "3  2.0  5.0    5.0   4.2   5.0\n",
       "4  2.0  5.0    5.0   4.2   5.0"
      ]
     },
     "execution_count": 71,
     "metadata": {},
     "output_type": "execute_result"
    }
   ],
   "source": [
    "dt.head(100)\n",
    "\n"
   ]
  },
  {
   "cell_type": "markdown",
   "metadata": {},
   "source": [
    "Изменить тип данных одной или нескольких колонок можно с помощью метода **astype(dict)**, в словаре **dict** можно определить, к какому типу нужно привести какую колонку. Метод возвращает измененную копию таблицы."
   ]
  },
  {
   "cell_type": "code",
   "execution_count": 72,
   "metadata": {},
   "outputs": [
    {
     "data": {
      "text/html": [
       "<div>\n",
       "<style scoped>\n",
       "    .dataframe tbody tr th:only-of-type {\n",
       "        vertical-align: middle;\n",
       "    }\n",
       "\n",
       "    .dataframe tbody tr th {\n",
       "        vertical-align: top;\n",
       "    }\n",
       "\n",
       "    .dataframe thead th {\n",
       "        text-align: right;\n",
       "    }\n",
       "</style>\n",
       "<table border=\"1\" class=\"dataframe\">\n",
       "  <thead>\n",
       "    <tr style=\"text-align: right;\">\n",
       "      <th></th>\n",
       "      <th>one</th>\n",
       "      <th>two</th>\n",
       "      <th>three</th>\n",
       "      <th>four</th>\n",
       "      <th>five</th>\n",
       "    </tr>\n",
       "  </thead>\n",
       "  <tbody>\n",
       "    <tr>\n",
       "      <th>0</th>\n",
       "      <td>2</td>\n",
       "      <td>5.0</td>\n",
       "      <td>True</td>\n",
       "      <td>4.2</td>\n",
       "      <td>5.0</td>\n",
       "    </tr>\n",
       "    <tr>\n",
       "      <th>1</th>\n",
       "      <td>2</td>\n",
       "      <td>5.0</td>\n",
       "      <td>True</td>\n",
       "      <td>4.2</td>\n",
       "      <td>5.0</td>\n",
       "    </tr>\n",
       "    <tr>\n",
       "      <th>2</th>\n",
       "      <td>2</td>\n",
       "      <td>5.0</td>\n",
       "      <td>True</td>\n",
       "      <td>4.2</td>\n",
       "      <td>5.0</td>\n",
       "    </tr>\n",
       "  </tbody>\n",
       "</table>\n",
       "</div>"
      ],
      "text/plain": [
       "   one  two  three  four  five\n",
       "0    2  5.0   True   4.2   5.0\n",
       "1    2  5.0   True   4.2   5.0\n",
       "2    2  5.0   True   4.2   5.0"
      ]
     },
     "execution_count": 72,
     "metadata": {},
     "output_type": "execute_result"
    }
   ],
   "source": [
    "dt.astype({'one':np.int32,'three':bool}).head(3)"
   ]
  },
  {
   "cell_type": "markdown",
   "metadata": {},
   "source": [
    "### Индексирование и итерирование"
   ]
  },
  {
   "cell_type": "markdown",
   "metadata": {},
   "source": [
    "Индексирование производится аналогично классу **Series** с помощью методов **loc[a1:b1:c1, E2:b2:c2]** и **iloc[a1:b1:c1, E2:b2:c2]**. Отличие состоит в том, что **loc[]** включает в индексирование конечные индексы **b1, b2**, а **iloc[]** нет."
   ]
  },
  {
   "cell_type": "code",
   "execution_count": 73,
   "metadata": {},
   "outputs": [
    {
     "data": {
      "text/html": [
       "<div>\n",
       "<style scoped>\n",
       "    .dataframe tbody tr th:only-of-type {\n",
       "        vertical-align: middle;\n",
       "    }\n",
       "\n",
       "    .dataframe tbody tr th {\n",
       "        vertical-align: top;\n",
       "    }\n",
       "\n",
       "    .dataframe thead th {\n",
       "        text-align: right;\n",
       "    }\n",
       "</style>\n",
       "<table border=\"1\" class=\"dataframe\">\n",
       "  <thead>\n",
       "    <tr style=\"text-align: right;\">\n",
       "      <th></th>\n",
       "      <th>two</th>\n",
       "      <th>four</th>\n",
       "    </tr>\n",
       "  </thead>\n",
       "  <tbody>\n",
       "    <tr>\n",
       "      <th>1</th>\n",
       "      <td>5.0</td>\n",
       "      <td>4.2</td>\n",
       "    </tr>\n",
       "    <tr>\n",
       "      <th>3</th>\n",
       "      <td>5.0</td>\n",
       "      <td>4.2</td>\n",
       "    </tr>\n",
       "    <tr>\n",
       "      <th>4</th>\n",
       "      <td>5.0</td>\n",
       "      <td>4.2</td>\n",
       "    </tr>\n",
       "  </tbody>\n",
       "</table>\n",
       "</div>"
      ],
      "text/plain": [
       "   two  four\n",
       "1  5.0   4.2\n",
       "3  5.0   4.2\n",
       "4  5.0   4.2"
      ]
     },
     "execution_count": 73,
     "metadata": {},
     "output_type": "execute_result"
    }
   ],
   "source": [
    "dt.loc[[1,3,4], 'two'::2]"
   ]
  },
  {
   "cell_type": "code",
   "execution_count": 74,
   "metadata": {},
   "outputs": [
    {
     "name": "stdout",
     "output_type": "stream",
     "text": [
      "   two  four\n",
      "0  5.0   4.2\n",
      "1  5.0   4.2\n",
      "2  5.0   4.2\n",
      "   two\n",
      "0  5.0\n",
      "1  5.0\n",
      "2  5.0\n"
     ]
    }
   ],
   "source": [
    "print(dt.iloc[:3, 1::2])\n",
    "print(dt.iloc[0:3, 1:2])"
   ]
  },
  {
   "cell_type": "markdown",
   "metadata": {},
   "source": [
    "Булевое индексирование позволяет выдавать только те элементы таблицы, которые удовлетворяют определенному условию. Выполняется такое индексирование следующим образом. Операция **dt['one'] > 1** выдает объект **Series** булева типа. Если использовать этот массив в качестве индексов, то мы получим все ряды таблицы, у которой **dt['one'] > 1**."
   ]
  },
  {
   "cell_type": "code",
   "execution_count": 75,
   "metadata": {},
   "outputs": [
    {
     "data": {
      "text/html": [
       "<div>\n",
       "<style scoped>\n",
       "    .dataframe tbody tr th:only-of-type {\n",
       "        vertical-align: middle;\n",
       "    }\n",
       "\n",
       "    .dataframe tbody tr th {\n",
       "        vertical-align: top;\n",
       "    }\n",
       "\n",
       "    .dataframe thead th {\n",
       "        text-align: right;\n",
       "    }\n",
       "</style>\n",
       "<table border=\"1\" class=\"dataframe\">\n",
       "  <thead>\n",
       "    <tr style=\"text-align: right;\">\n",
       "      <th></th>\n",
       "      <th>one</th>\n",
       "      <th>two</th>\n",
       "      <th>three</th>\n",
       "      <th>four</th>\n",
       "      <th>five</th>\n",
       "    </tr>\n",
       "  </thead>\n",
       "  <tbody>\n",
       "    <tr>\n",
       "      <th>0</th>\n",
       "      <td>2.0</td>\n",
       "      <td>5.0</td>\n",
       "      <td>5.0</td>\n",
       "      <td>4.2</td>\n",
       "      <td>5.0</td>\n",
       "    </tr>\n",
       "    <tr>\n",
       "      <th>1</th>\n",
       "      <td>2.0</td>\n",
       "      <td>5.0</td>\n",
       "      <td>5.0</td>\n",
       "      <td>4.2</td>\n",
       "      <td>5.0</td>\n",
       "    </tr>\n",
       "    <tr>\n",
       "      <th>2</th>\n",
       "      <td>1.0</td>\n",
       "      <td>5.0</td>\n",
       "      <td>5.0</td>\n",
       "      <td>4.2</td>\n",
       "      <td>5.0</td>\n",
       "    </tr>\n",
       "    <tr>\n",
       "      <th>3</th>\n",
       "      <td>1.0</td>\n",
       "      <td>5.0</td>\n",
       "      <td>5.0</td>\n",
       "      <td>4.2</td>\n",
       "      <td>5.0</td>\n",
       "    </tr>\n",
       "    <tr>\n",
       "      <th>4</th>\n",
       "      <td>1.0</td>\n",
       "      <td>5.0</td>\n",
       "      <td>5.0</td>\n",
       "      <td>4.2</td>\n",
       "      <td>5.0</td>\n",
       "    </tr>\n",
       "  </tbody>\n",
       "</table>\n",
       "</div>"
      ],
      "text/plain": [
       "   one  two  three  four  five\n",
       "0  2.0  5.0    5.0   4.2   5.0\n",
       "1  2.0  5.0    5.0   4.2   5.0\n",
       "2  1.0  5.0    5.0   4.2   5.0\n",
       "3  1.0  5.0    5.0   4.2   5.0\n",
       "4  1.0  5.0    5.0   4.2   5.0"
      ]
     },
     "execution_count": 75,
     "metadata": {},
     "output_type": "execute_result"
    }
   ],
   "source": [
    "dt.loc[2:4, 'one'] = 1\n",
    "dt"
   ]
  },
  {
   "cell_type": "code",
   "execution_count": 76,
   "metadata": {},
   "outputs": [
    {
     "data": {
      "text/plain": [
       "0     True\n",
       "1     True\n",
       "2    False\n",
       "3    False\n",
       "4    False\n",
       "Name: one, dtype: bool"
      ]
     },
     "execution_count": 76,
     "metadata": {},
     "output_type": "execute_result"
    }
   ],
   "source": [
    "dt['one'] > 1"
   ]
  },
  {
   "cell_type": "code",
   "execution_count": 77,
   "metadata": {},
   "outputs": [
    {
     "data": {
      "text/html": [
       "<div>\n",
       "<style scoped>\n",
       "    .dataframe tbody tr th:only-of-type {\n",
       "        vertical-align: middle;\n",
       "    }\n",
       "\n",
       "    .dataframe tbody tr th {\n",
       "        vertical-align: top;\n",
       "    }\n",
       "\n",
       "    .dataframe thead th {\n",
       "        text-align: right;\n",
       "    }\n",
       "</style>\n",
       "<table border=\"1\" class=\"dataframe\">\n",
       "  <thead>\n",
       "    <tr style=\"text-align: right;\">\n",
       "      <th></th>\n",
       "      <th>one</th>\n",
       "      <th>two</th>\n",
       "      <th>three</th>\n",
       "    </tr>\n",
       "  </thead>\n",
       "  <tbody>\n",
       "    <tr>\n",
       "      <th>0</th>\n",
       "      <td>2.0</td>\n",
       "      <td>5.0</td>\n",
       "      <td>5.0</td>\n",
       "    </tr>\n",
       "    <tr>\n",
       "      <th>1</th>\n",
       "      <td>2.0</td>\n",
       "      <td>5.0</td>\n",
       "      <td>5.0</td>\n",
       "    </tr>\n",
       "  </tbody>\n",
       "</table>\n",
       "</div>"
      ],
      "text/plain": [
       "   one  two  three\n",
       "0  2.0  5.0    5.0\n",
       "1  2.0  5.0    5.0"
      ]
     },
     "execution_count": 77,
     "metadata": {},
     "output_type": "execute_result"
    }
   ],
   "source": [
    "dt.loc[(dt['one'] > 1),\"one\":\"three\"]"
   ]
  },
  {
   "cell_type": "markdown",
   "metadata": {},
   "source": [
    "Итерирование по элементам таблицы можно проводить различными способами: по парам **(column_label, Series)** с помощью методов **items()** и **iteritems()** (они идентичны), по парам **(index_label, Series)** с помощью метода **iterrows()**."
   ]
  },
  {
   "cell_type": "code",
   "execution_count": 78,
   "metadata": {},
   "outputs": [
    {
     "name": "stdout",
     "output_type": "stream",
     "text": [
      "one one\n",
      "two two\n",
      "three three\n",
      "four four\n",
      "five five\n"
     ]
    }
   ],
   "source": [
    "for col, ser in dt.iteritems():\n",
    "    print(col, ser.name)"
   ]
  },
  {
   "cell_type": "code",
   "execution_count": 79,
   "metadata": {},
   "outputs": [
    {
     "name": "stdout",
     "output_type": "stream",
     "text": [
      "0 5.0\n",
      "1 5.0\n",
      "2 5.0\n",
      "3 5.0\n",
      "4 5.0\n"
     ]
    }
   ],
   "source": [
    "for idx, ser in dt.iterrows():\n",
    "    print(idx, ser[2])"
   ]
  },
  {
   "cell_type": "markdown",
   "metadata": {},
   "source": [
    "Класс **DataFrame**, так же как и класс **Series**, имеет много различных поэлементных операций: сложение **add()**, вычитание **sub()**, умножение **mul()**, деление **div()**, округление **round()**, возведение в степень **pow()**, операций сравнения: меньше **lt()**, больше **gt()**, меньши или равно **le()**, больше или равно **ge()**, не равен **ne()**, равен **eq()** и др.\n",
    "\n",
    "Есть возможность также находить значение различных статистических функций **mean()**, **max()**, **min()**, **skew()**, **kurtosis()**, **median()**, **corr()**, **cov()** и др, параметр **axis** определять направление, вдоль которого применяется та или иная функция (0 означает по колонкам, 1 - по рядам\n",
    "\n",
    "\n",
    ")."
   ]
  },
  {
   "cell_type": "code",
   "execution_count": 80,
   "metadata": {},
   "outputs": [
    {
     "data": {
      "text/plain": [
       "one      1.4\n",
       "two      5.0\n",
       "three    5.0\n",
       "four     4.2\n",
       "five     5.0\n",
       "dtype: float32"
      ]
     },
     "execution_count": 80,
     "metadata": {},
     "output_type": "execute_result"
    }
   ],
   "source": [
    "dt.mean(axis=0)"
   ]
  },
  {
   "cell_type": "code",
   "execution_count": 81,
   "metadata": {},
   "outputs": [
    {
     "data": {
      "text/plain": [
       "0    4.24\n",
       "1    4.24\n",
       "2    4.04\n",
       "3    4.04\n",
       "4    4.04\n",
       "dtype: float32"
      ]
     },
     "execution_count": 81,
     "metadata": {},
     "output_type": "execute_result"
    }
   ],
   "source": [
    "dt.mean(axis=1)"
   ]
  },
  {
   "cell_type": "markdown",
   "metadata": {},
   "source": [
    "### Применение пользовательских и аггрегирующих функций"
   ]
  },
  {
   "cell_type": "markdown",
   "metadata": {},
   "source": [
    "Метод **apply(func, axis)** позволяет применять любую функцию **func**, которая принимает на вход одномерный массив, к колонкам (**axis = 0**) или к строкам (**axis == 1**). Для того, чтобы применить функцию ко всем элементам массива, т.е. поэлементно, нужно применить использовать метод **applymap(func)**."
   ]
  },
  {
   "cell_type": "code",
   "execution_count": 82,
   "metadata": {},
   "outputs": [
    {
     "data": {
      "text/html": [
       "<div>\n",
       "<style scoped>\n",
       "    .dataframe tbody tr th:only-of-type {\n",
       "        vertical-align: middle;\n",
       "    }\n",
       "\n",
       "    .dataframe tbody tr th {\n",
       "        vertical-align: top;\n",
       "    }\n",
       "\n",
       "    .dataframe thead th {\n",
       "        text-align: right;\n",
       "    }\n",
       "</style>\n",
       "<table border=\"1\" class=\"dataframe\">\n",
       "  <thead>\n",
       "    <tr style=\"text-align: right;\">\n",
       "      <th></th>\n",
       "      <th>one</th>\n",
       "      <th>two</th>\n",
       "      <th>three</th>\n",
       "      <th>four</th>\n",
       "      <th>five</th>\n",
       "    </tr>\n",
       "  </thead>\n",
       "  <tbody>\n",
       "    <tr>\n",
       "      <th>0</th>\n",
       "      <td>0.909297</td>\n",
       "      <td>-0.958924</td>\n",
       "      <td>-0.958924</td>\n",
       "      <td>-0.871576</td>\n",
       "      <td>-0.958924</td>\n",
       "    </tr>\n",
       "    <tr>\n",
       "      <th>1</th>\n",
       "      <td>0.909297</td>\n",
       "      <td>-0.958924</td>\n",
       "      <td>-0.958924</td>\n",
       "      <td>-0.871576</td>\n",
       "      <td>-0.958924</td>\n",
       "    </tr>\n",
       "    <tr>\n",
       "      <th>2</th>\n",
       "      <td>0.841471</td>\n",
       "      <td>-0.958924</td>\n",
       "      <td>-0.958924</td>\n",
       "      <td>-0.871576</td>\n",
       "      <td>-0.958924</td>\n",
       "    </tr>\n",
       "    <tr>\n",
       "      <th>3</th>\n",
       "      <td>0.841471</td>\n",
       "      <td>-0.958924</td>\n",
       "      <td>-0.958924</td>\n",
       "      <td>-0.871576</td>\n",
       "      <td>-0.958924</td>\n",
       "    </tr>\n",
       "    <tr>\n",
       "      <th>4</th>\n",
       "      <td>0.841471</td>\n",
       "      <td>-0.958924</td>\n",
       "      <td>-0.958924</td>\n",
       "      <td>-0.871576</td>\n",
       "      <td>-0.958924</td>\n",
       "    </tr>\n",
       "  </tbody>\n",
       "</table>\n",
       "</div>"
      ],
      "text/plain": [
       "        one       two     three      four      five\n",
       "0  0.909297 -0.958924 -0.958924 -0.871576 -0.958924\n",
       "1  0.909297 -0.958924 -0.958924 -0.871576 -0.958924\n",
       "2  0.841471 -0.958924 -0.958924 -0.871576 -0.958924\n",
       "3  0.841471 -0.958924 -0.958924 -0.871576 -0.958924\n",
       "4  0.841471 -0.958924 -0.958924 -0.871576 -0.958924"
      ]
     },
     "execution_count": 82,
     "metadata": {},
     "output_type": "execute_result"
    }
   ],
   "source": [
    "dt.applymap(np.sin)"
   ]
  },
  {
   "cell_type": "code",
   "execution_count": 83,
   "metadata": {},
   "outputs": [
    {
     "data": {
      "text/plain": [
       "one      1.0\n",
       "two      5.0\n",
       "three    5.0\n",
       "four     4.2\n",
       "five     5.0\n",
       "dtype: float32"
      ]
     },
     "execution_count": 83,
     "metadata": {},
     "output_type": "execute_result"
    }
   ],
   "source": [
    "dt.apply(np.min, axis=0)"
   ]
  },
  {
   "cell_type": "markdown",
   "metadata": {},
   "source": [
    "Для группировки рядов по значениям в определенных колонках используется метод **groupby(by, axis)**, где в качестве первого параметра можно передать названия колонок, по значениям которых будет производиться группировка. Параметр **axis** показывает, будет ли производиться разбиение по колонкам или по рядам. Этот метод возвращает объект **DataFrameGroupBy**, который содержит в себе группы. Чтобы получить снова таблицу, необходимо применить дополнительно любую функцию, выделяющую один элемент из нескольких (среднее, максимум и др.)"
   ]
  },
  {
   "cell_type": "code",
   "execution_count": 84,
   "metadata": {},
   "outputs": [
    {
     "data": {
      "text/html": [
       "<div>\n",
       "<style scoped>\n",
       "    .dataframe tbody tr th:only-of-type {\n",
       "        vertical-align: middle;\n",
       "    }\n",
       "\n",
       "    .dataframe tbody tr th {\n",
       "        vertical-align: top;\n",
       "    }\n",
       "\n",
       "    .dataframe thead th {\n",
       "        text-align: right;\n",
       "    }\n",
       "</style>\n",
       "<table border=\"1\" class=\"dataframe\">\n",
       "  <thead>\n",
       "    <tr style=\"text-align: right;\">\n",
       "      <th></th>\n",
       "      <th>one</th>\n",
       "      <th>two</th>\n",
       "      <th>three</th>\n",
       "      <th>four</th>\n",
       "      <th>five</th>\n",
       "    </tr>\n",
       "  </thead>\n",
       "  <tbody>\n",
       "    <tr>\n",
       "      <th>0</th>\n",
       "      <td>2.0</td>\n",
       "      <td>5.0</td>\n",
       "      <td>101.0</td>\n",
       "      <td>4.2</td>\n",
       "      <td>5.0</td>\n",
       "    </tr>\n",
       "    <tr>\n",
       "      <th>1</th>\n",
       "      <td>2.0</td>\n",
       "      <td>5.0</td>\n",
       "      <td>101.0</td>\n",
       "      <td>4.2</td>\n",
       "      <td>5.0</td>\n",
       "    </tr>\n",
       "    <tr>\n",
       "      <th>2</th>\n",
       "      <td>100.0</td>\n",
       "      <td>5.0</td>\n",
       "      <td>101.0</td>\n",
       "      <td>4.2</td>\n",
       "      <td>5.0</td>\n",
       "    </tr>\n",
       "    <tr>\n",
       "      <th>3</th>\n",
       "      <td>100.0</td>\n",
       "      <td>102.0</td>\n",
       "      <td>5.0</td>\n",
       "      <td>4.2</td>\n",
       "      <td>102.0</td>\n",
       "    </tr>\n",
       "    <tr>\n",
       "      <th>4</th>\n",
       "      <td>100.0</td>\n",
       "      <td>102.0</td>\n",
       "      <td>5.0</td>\n",
       "      <td>4.2</td>\n",
       "      <td>102.0</td>\n",
       "    </tr>\n",
       "  </tbody>\n",
       "</table>\n",
       "</div>"
      ],
      "text/plain": [
       "     one    two  three  four   five\n",
       "0    2.0    5.0  101.0   4.2    5.0\n",
       "1    2.0    5.0  101.0   4.2    5.0\n",
       "2  100.0    5.0  101.0   4.2    5.0\n",
       "3  100.0  102.0    5.0   4.2  102.0\n",
       "4  100.0  102.0    5.0   4.2  102.0"
      ]
     },
     "execution_count": 84,
     "metadata": {},
     "output_type": "execute_result"
    }
   ],
   "source": [
    "dt.loc[2:4, 'one'] = 100\n",
    "dt.loc[:2, 'three'] = 101\n",
    "dt.loc[3:4, ['five','two']] = 102\n",
    "dt"
   ]
  },
  {
   "cell_type": "code",
   "execution_count": 85,
   "metadata": {},
   "outputs": [
    {
     "data": {
      "text/plain": [
       "<pandas.core.groupby.generic.DataFrameGroupBy object at 0x7f51c0444ac0>"
      ]
     },
     "execution_count": 85,
     "metadata": {},
     "output_type": "execute_result"
    }
   ],
   "source": [
    "dt.groupby(['one'])"
   ]
  },
  {
   "cell_type": "code",
   "execution_count": 86,
   "metadata": {},
   "outputs": [
    {
     "data": {
      "text/html": [
       "<div>\n",
       "<style scoped>\n",
       "    .dataframe tbody tr th:only-of-type {\n",
       "        vertical-align: middle;\n",
       "    }\n",
       "\n",
       "    .dataframe tbody tr th {\n",
       "        vertical-align: top;\n",
       "    }\n",
       "\n",
       "    .dataframe thead th {\n",
       "        text-align: right;\n",
       "    }\n",
       "</style>\n",
       "<table border=\"1\" class=\"dataframe\">\n",
       "  <thead>\n",
       "    <tr style=\"text-align: right;\">\n",
       "      <th></th>\n",
       "      <th>two</th>\n",
       "      <th>three</th>\n",
       "      <th>four</th>\n",
       "      <th>five</th>\n",
       "    </tr>\n",
       "    <tr>\n",
       "      <th>one</th>\n",
       "      <th></th>\n",
       "      <th></th>\n",
       "      <th></th>\n",
       "      <th></th>\n",
       "    </tr>\n",
       "  </thead>\n",
       "  <tbody>\n",
       "    <tr>\n",
       "      <th>2.0</th>\n",
       "      <td>5.000000</td>\n",
       "      <td>101.0</td>\n",
       "      <td>4.2</td>\n",
       "      <td>5.000000</td>\n",
       "    </tr>\n",
       "    <tr>\n",
       "      <th>100.0</th>\n",
       "      <td>69.666664</td>\n",
       "      <td>37.0</td>\n",
       "      <td>4.2</td>\n",
       "      <td>69.666664</td>\n",
       "    </tr>\n",
       "  </tbody>\n",
       "</table>\n",
       "</div>"
      ],
      "text/plain": [
       "             two  three  four       five\n",
       "one                                     \n",
       "2.0     5.000000  101.0   4.2   5.000000\n",
       "100.0  69.666664   37.0   4.2  69.666664"
      ]
     },
     "execution_count": 86,
     "metadata": {},
     "output_type": "execute_result"
    }
   ],
   "source": [
    "dt.groupby(['one']).mean()"
   ]
  },
  {
   "cell_type": "markdown",
   "metadata": {},
   "source": [
    "Другой способ аггрегирования состоит в расчете определенных аггрегирующих функций (максимум, среднее и пр.) для определенных столбцов с помощью метода **agg(dict, axis)**. Ключами словаря **dict** являются названия колонок (или индексы рядов), а значениями - функции. Или же можно просто передать набор функций, в этом случае они будут применены ко всем колонкам. Параметр **axis** позволяет применять аггрегирование либо к колонкам, либо к рядам."
   ]
  },
  {
   "cell_type": "code",
   "execution_count": 87,
   "metadata": {},
   "outputs": [
    {
     "data": {
      "text/html": [
       "<div>\n",
       "<style scoped>\n",
       "    .dataframe tbody tr th:only-of-type {\n",
       "        vertical-align: middle;\n",
       "    }\n",
       "\n",
       "    .dataframe tbody tr th {\n",
       "        vertical-align: top;\n",
       "    }\n",
       "\n",
       "    .dataframe thead th {\n",
       "        text-align: right;\n",
       "    }\n",
       "</style>\n",
       "<table border=\"1\" class=\"dataframe\">\n",
       "  <thead>\n",
       "    <tr style=\"text-align: right;\">\n",
       "      <th></th>\n",
       "      <th>one</th>\n",
       "      <th>two</th>\n",
       "      <th>three</th>\n",
       "      <th>four</th>\n",
       "      <th>five</th>\n",
       "    </tr>\n",
       "  </thead>\n",
       "  <tbody>\n",
       "    <tr>\n",
       "      <th>mean</th>\n",
       "      <td>60.799999</td>\n",
       "      <td>43.799999</td>\n",
       "      <td>62.599998</td>\n",
       "      <td>4.2</td>\n",
       "      <td>43.799999</td>\n",
       "    </tr>\n",
       "    <tr>\n",
       "      <th>median</th>\n",
       "      <td>100.000000</td>\n",
       "      <td>5.000000</td>\n",
       "      <td>101.000000</td>\n",
       "      <td>4.2</td>\n",
       "      <td>5.000000</td>\n",
       "    </tr>\n",
       "  </tbody>\n",
       "</table>\n",
       "</div>"
      ],
      "text/plain": [
       "               one        two       three  four       five\n",
       "mean     60.799999  43.799999   62.599998   4.2  43.799999\n",
       "median  100.000000   5.000000  101.000000   4.2   5.000000"
      ]
     },
     "execution_count": 87,
     "metadata": {},
     "output_type": "execute_result"
    }
   ],
   "source": [
    "dt.agg([np.mean, np.median])\n"
   ]
  },
  {
   "cell_type": "code",
   "execution_count": 88,
   "metadata": {},
   "outputs": [
    {
     "data": {
      "text/html": [
       "<div>\n",
       "<style scoped>\n",
       "    .dataframe tbody tr th:only-of-type {\n",
       "        vertical-align: middle;\n",
       "    }\n",
       "\n",
       "    .dataframe tbody tr th {\n",
       "        vertical-align: top;\n",
       "    }\n",
       "\n",
       "    .dataframe thead th {\n",
       "        text-align: right;\n",
       "    }\n",
       "</style>\n",
       "<table border=\"1\" class=\"dataframe\">\n",
       "  <thead>\n",
       "    <tr style=\"text-align: right;\">\n",
       "      <th></th>\n",
       "      <th>mean</th>\n",
       "      <th>sum</th>\n",
       "    </tr>\n",
       "  </thead>\n",
       "  <tbody>\n",
       "    <tr>\n",
       "      <th>0</th>\n",
       "      <td>23.439999</td>\n",
       "      <td>117.199997</td>\n",
       "    </tr>\n",
       "    <tr>\n",
       "      <th>1</th>\n",
       "      <td>23.439999</td>\n",
       "      <td>117.199997</td>\n",
       "    </tr>\n",
       "    <tr>\n",
       "      <th>2</th>\n",
       "      <td>43.040001</td>\n",
       "      <td>215.199997</td>\n",
       "    </tr>\n",
       "    <tr>\n",
       "      <th>3</th>\n",
       "      <td>62.640003</td>\n",
       "      <td>313.200012</td>\n",
       "    </tr>\n",
       "    <tr>\n",
       "      <th>4</th>\n",
       "      <td>62.640003</td>\n",
       "      <td>313.200012</td>\n",
       "    </tr>\n",
       "  </tbody>\n",
       "</table>\n",
       "</div>"
      ],
      "text/plain": [
       "        mean         sum\n",
       "0  23.439999  117.199997\n",
       "1  23.439999  117.199997\n",
       "2  43.040001  215.199997\n",
       "3  62.640003  313.200012\n",
       "4  62.640003  313.200012"
      ]
     },
     "execution_count": 88,
     "metadata": {},
     "output_type": "execute_result"
    }
   ],
   "source": [
    "dt.agg([np.mean, np.sum], axis=1)"
   ]
  },
  {
   "cell_type": "markdown",
   "metadata": {},
   "source": [
    "## Задания для самостоятельной работы"
   ]
  },
  {
   "cell_type": "markdown",
   "metadata": {},
   "source": [
    "### Задание 1.\n",
    "\n",
    "Используя модуль **numpy**:\n",
    "1. Создайте массив numpy длиной 50, содержащий значения квадратного корня для отрезка от 0 до 10. Исходное разбиение отрезка линейное. Правую границу отрезка не включать.\n",
    "1. Оставьте только каждое 2-е значение в массиве. Расположите их в обратном порядке.\n",
    "1. Добавьте снизу к этой строке еще одну, содержащую значения из отрезка [1,2], расположенные в логарифмическом масштабе.\n",
    "1. Посчитайте от каждого столбца среднее геометрическое и представьте ответ в виде одномерного массива.\n",
    "1. Определите его среднее значение.\n",
    "1. Создайте одномерный массив длиной 1000 путем поэлементного добавления в него значений функции sinc(x) на отрезке [-3,3].\n",
    "1. Определите среднее значение, максимальное значение, минимальное значение, стандартное отклонение, медиану для этого массива."
   ]
  },
  {
   "cell_type": "markdown",
   "metadata": {},
   "source": [
    "#### Создайте массив numpy длиной 50, содержащий значения квадратного корня для отрезка от 0 до 10. Исходное разбиение отрезка линейное. Правую границу отрезка не включать.**"
   ]
  },
  {
   "cell_type": "code",
   "execution_count": 89,
   "metadata": {},
   "outputs": [
    {
     "data": {
      "text/plain": [
       "array([0.        , 0.4472136 , 0.63245553, 0.77459667, 0.89442719,\n",
       "       1.        , 1.09544512, 1.18321596, 1.26491106, 1.34164079,\n",
       "       1.41421356, 1.4832397 , 1.54919334, 1.61245155, 1.67332005,\n",
       "       1.73205081, 1.78885438, 1.84390889, 1.8973666 , 1.94935887,\n",
       "       2.        , 2.04939015, 2.0976177 , 2.14476106, 2.19089023,\n",
       "       2.23606798, 2.28035085, 2.32379001, 2.36643191, 2.40831892,\n",
       "       2.44948974, 2.48997992, 2.52982213, 2.56904652, 2.60768096,\n",
       "       2.64575131, 2.68328157, 2.7202941 , 2.75680975, 2.79284801,\n",
       "       2.82842712, 2.86356421, 2.89827535, 2.93257566, 2.96647939,\n",
       "       3.        , 3.03315018, 3.06594194, 3.09838668, 3.13049517])"
      ]
     },
     "execution_count": 89,
     "metadata": {},
     "output_type": "execute_result"
    }
   ],
   "source": [
    "arr = np.linspace(0,10,50,endpoint=False) ** 0.5\n",
    "\n",
    "arr\n",
    "\n"
   ]
  },
  {
   "cell_type": "markdown",
   "metadata": {},
   "source": [
    "#### **Оставьте только каждое 2-е значение в массиве. Расположите их в обратном порядке.<!--  -->**"
   ]
  },
  {
   "cell_type": "code",
   "execution_count": 90,
   "metadata": {},
   "outputs": [
    {
     "data": {
      "text/plain": [
       "array([3.13049517, 3.06594194, 3.        , 2.93257566, 2.86356421,\n",
       "       2.79284801, 2.7202941 , 2.64575131, 2.56904652, 2.48997992,\n",
       "       2.40831892, 2.32379001, 2.23606798, 2.14476106, 2.04939015,\n",
       "       1.94935887, 1.84390889, 1.73205081, 1.61245155, 1.4832397 ,\n",
       "       1.34164079, 1.18321596, 1.        , 0.77459667, 0.4472136 ])"
      ]
     },
     "execution_count": 90,
     "metadata": {},
     "output_type": "execute_result"
    }
   ],
   "source": [
    "arr2 = arr[::-2]\n",
    "arr2"
   ]
  },
  {
   "cell_type": "markdown",
   "metadata": {},
   "source": [
    "#### Добавьте снизу к этой строке еще одну, содержащую значения из отрезка [1,2], расположенные в логарифмическом масштабе."
   ]
  },
  {
   "cell_type": "code",
   "execution_count": 91,
   "metadata": {},
   "outputs": [
    {
     "data": {
      "text/plain": [
       "array([[  3.13049517,   3.06594194,   3.        ,   2.93257566,\n",
       "          2.86356421,   2.79284801,   2.7202941 ,   2.64575131,\n",
       "          2.56904652,   2.48997992,   2.40831892,   2.32379001,\n",
       "          2.23606798,   2.14476106,   2.04939015,   1.94935887,\n",
       "          1.84390889,   1.73205081,   1.61245155,   1.4832397 ,\n",
       "          1.34164079,   1.18321596,   1.        ,   0.77459667,\n",
       "          0.4472136 ],\n",
       "       [ 10.        ,  11.00694171,  12.11527659,  13.33521432,\n",
       "         14.67799268,  16.15598098,  17.7827941 ,  19.57341781,\n",
       "         21.5443469 ,  23.71373706,  26.10157216,  28.72984833,\n",
       "         31.6227766 ,  34.80700588,  38.3118685 ,  42.16965034,\n",
       "         46.41588834,  51.08969775,  56.23413252,  61.89658189,\n",
       "         68.12920691,  74.98942093,  82.54041853,  90.85175757,\n",
       "        100.        ]])"
      ]
     },
     "execution_count": 91,
     "metadata": {},
     "output_type": "execute_result"
    }
   ],
   "source": [
    "arr3 = np.logspace(1,2,25)\n",
    "#arr3\n",
    "arr2 = np.vstack((arr2, arr3))\n",
    "arr2"
   ]
  },
  {
   "cell_type": "markdown",
   "metadata": {},
   "source": [
    "#### осчитайте от каждого столбца среднее геометрическое и представьте ответ в виде одномерного массива."
   ]
  },
  {
   "cell_type": "code",
   "execution_count": 92,
   "metadata": {},
   "outputs": [
    {
     "data": {
      "text/plain": [
       "array([5.60111627e+05, 1.26491106e+36])"
      ]
     },
     "execution_count": 92,
     "metadata": {},
     "output_type": "execute_result"
    }
   ],
   "source": [
    "from functools import reduce\n",
    "\n",
    "def geom(arr):\n",
    "    return reduce(lambda x,y: x*y, arr) ** 1/len(arr)\n",
    "\n",
    "\n",
    "arr2\n",
    "arr6 = np.apply_along_axis(geom,1,arr2)\n",
    "arr6"
   ]
  },
  {
   "cell_type": "markdown",
   "metadata": {},
   "source": [
    "#### Определите его среднее значение."
   ]
  },
  {
   "cell_type": "code",
   "execution_count": 93,
   "metadata": {},
   "outputs": [
    {
     "data": {
      "text/plain": [
       "6.324555320336742e+35"
      ]
     },
     "execution_count": 93,
     "metadata": {},
     "output_type": "execute_result"
    }
   ],
   "source": [
    "np.mean(arr6)"
   ]
  },
  {
   "cell_type": "markdown",
   "metadata": {},
   "source": [
    "#### Создайте одномерный массив длиной 1000 путем поэлементного добавления в него значений функции sinc(x) на отрезке [-3,3]."
   ]
  },
  {
   "cell_type": "code",
   "execution_count": 94,
   "metadata": {},
   "outputs": [
    {
     "data": {
      "text/plain": [
       "array([ 3.89817183e-17,  2.00388935e-03,  4.01511304e-03,  6.03300076e-03,\n",
       "        8.05687732e-03,  1.00860628e-02,  1.21198728e-02,  1.41576187e-02,\n",
       "        1.61986078e-02,  1.82421434e-02,  2.02875255e-02,  2.23340503e-02,\n",
       "        2.43810111e-02,  2.64276980e-02,  2.84733986e-02,  3.05173977e-02,\n",
       "        3.25589780e-02,  3.45974200e-02,  3.66320025e-02,  3.86620026e-02,\n",
       "        4.06866960e-02,  4.27053572e-02,  4.47172600e-02,  4.67216773e-02,\n",
       "        4.87178816e-02,  5.07051454e-02,  5.26827409e-02,  5.46499408e-02,\n",
       "        5.66060184e-02,  5.85502474e-02,  6.04819029e-02,  6.24002609e-02,\n",
       "        6.43045992e-02,  6.61941971e-02,  6.80683359e-02,  6.99262991e-02,\n",
       "        7.17673728e-02,  7.35908455e-02,  7.53960091e-02,  7.71821582e-02,\n",
       "        7.89485911e-02,  8.06946097e-02,  8.24195198e-02,  8.41226314e-02,\n",
       "        8.58032589e-02,  8.74607213e-02,  8.90943425e-02,  9.07034514e-02,\n",
       "        9.22873825e-02,  9.38454757e-02,  9.53770768e-02,  9.68815377e-02,\n",
       "        9.83582166e-02,  9.98064781e-02,  1.01225694e-01,  1.02615242e-01,\n",
       "        1.03974509e-01,  1.05302887e-01,  1.06599778e-01,  1.07864590e-01,\n",
       "        1.09096741e-01,  1.10295655e-01,  1.11460767e-01,  1.12591518e-01,\n",
       "        1.13687362e-01,  1.14747759e-01,  1.15772179e-01,  1.16760102e-01,\n",
       "        1.17711019e-01,  1.18624429e-01,  1.19499843e-01,  1.20336782e-01,\n",
       "        1.21134776e-01,  1.21893369e-01,  1.22612113e-01,  1.23290574e-01,\n",
       "        1.23928327e-01,  1.24524960e-01,  1.25080073e-01,  1.25593277e-01,\n",
       "        1.26064196e-01,  1.26492466e-01,  1.26877735e-01,  1.27219665e-01,\n",
       "        1.27517930e-01,  1.27772217e-01,  1.27982225e-01,  1.28147669e-01,\n",
       "        1.28268275e-01,  1.28343784e-01,  1.28373950e-01,  1.28358542e-01,\n",
       "        1.28297341e-01,  1.28190144e-01,  1.28036761e-01,  1.27837018e-01,\n",
       "        1.27590753e-01,  1.27297822e-01,  1.26958092e-01,  1.26571448e-01,\n",
       "        1.26137788e-01,  1.25657026e-01,  1.25129090e-01,  1.24553925e-01,\n",
       "        1.23931490e-01,  1.23261760e-01,  1.22544724e-01,  1.21780389e-01,\n",
       "        1.20968776e-01,  1.20109922e-01,  1.19203880e-01,  1.18250718e-01,\n",
       "        1.17250521e-01,  1.16203388e-01,  1.15109437e-01,  1.13968798e-01,\n",
       "        1.12781621e-01,  1.11548069e-01,  1.10268322e-01,  1.08942576e-01,\n",
       "        1.07571045e-01,  1.06153956e-01,  1.04691553e-01,  1.03184096e-01,\n",
       "        1.01631863e-01,  1.00035146e-01,  9.83942535e-02,  9.67095096e-02,\n",
       "        9.49812553e-02,  9.32098468e-02,  9.13956566e-02,  8.95390730e-02,\n",
       "        8.76404999e-02,  8.57003574e-02,  8.37190808e-02,  8.16971215e-02,\n",
       "        7.96349461e-02,  7.75330371e-02,  7.53918920e-02,  7.32120241e-02,\n",
       "        7.09939617e-02,  6.87382482e-02,  6.64454425e-02,  6.41161180e-02,\n",
       "        6.17508633e-02,  5.93502816e-02,  5.69149909e-02,  5.44456236e-02,\n",
       "        5.19428265e-02,  4.94072609e-02,  4.68396021e-02,  4.42405392e-02,\n",
       "        4.16107756e-02,  3.89510282e-02,  3.62620274e-02,  3.35445171e-02,\n",
       "        3.07992544e-02,  2.80270097e-02,  2.52285661e-02,  2.24047194e-02,\n",
       "        1.95562781e-02,  1.66840631e-02,  1.37889075e-02,  1.08716562e-02,\n",
       "        7.93316627e-03,  4.97430604e-03,  1.99595545e-03, -1.00099441e-03,\n",
       "       -4.01564148e-03, -7.04707288e-03, -1.00943652e-02, -1.31565847e-02,\n",
       "       -1.62327876e-02, -1.93220201e-02, -2.24233189e-02, -2.55357112e-02,\n",
       "       -2.86582150e-02, -3.17898396e-02, -3.49295854e-02, -3.80764445e-02,\n",
       "       -4.12294009e-02, -4.43874304e-02, -4.75495016e-02, -5.07145753e-02,\n",
       "       -5.38816054e-02, -5.70495391e-02, -6.02173166e-02, -6.33838723e-02,\n",
       "       -6.65481343e-02, -6.97090249e-02, -7.28654612e-02, -7.60163550e-02,\n",
       "       -7.91606132e-02, -8.22971381e-02, -8.54248279e-02, -8.85425766e-02,\n",
       "       -9.16492745e-02, -9.47438087e-02, -9.78250630e-02, -1.00891918e-01,\n",
       "       -1.03943254e-01, -1.06977945e-01, -1.09994868e-01, -1.12992894e-01,\n",
       "       -1.15970895e-01, -1.18927743e-01, -1.21862307e-01, -1.24773457e-01,\n",
       "       -1.27660064e-01, -1.30520997e-01, -1.33355127e-01, -1.36161326e-01,\n",
       "       -1.38938467e-01, -1.41685425e-01, -1.44401076e-01, -1.47084299e-01,\n",
       "       -1.49733976e-01, -1.52348991e-01, -1.54928231e-01, -1.57470588e-01,\n",
       "       -1.59974956e-01, -1.62440234e-01, -1.64865326e-01, -1.67249141e-01,\n",
       "       -1.69590592e-01, -1.71888597e-01, -1.74142082e-01, -1.76349978e-01,\n",
       "       -1.78511221e-01, -1.80624757e-01, -1.82689535e-01, -1.84704515e-01,\n",
       "       -1.86668663e-01, -1.88580952e-01, -1.90440366e-01, -1.92245895e-01,\n",
       "       -1.93996540e-01, -1.95691310e-01, -1.97329223e-01, -1.98909308e-01,\n",
       "       -2.00430604e-01, -2.01892161e-01, -2.03293039e-01, -2.04632308e-01,\n",
       "       -2.05909052e-01, -2.07122363e-01, -2.08271349e-01, -2.09355128e-01,\n",
       "       -2.10372830e-01, -2.11323598e-01, -2.12206591e-01, -2.13020977e-01,\n",
       "       -2.13765940e-01, -2.14440677e-01, -2.15044401e-01, -2.15576337e-01,\n",
       "       -2.16035726e-01, -2.16421824e-01, -2.16733901e-01, -2.16971244e-01,\n",
       "       -2.17133155e-01, -2.17218951e-01, -2.17227968e-01, -2.17159555e-01,\n",
       "       -2.17013079e-01, -2.16787925e-01, -2.16483493e-01, -2.16099203e-01,\n",
       "       -2.15634490e-01, -2.15088808e-01, -2.14461629e-01, -2.13752442e-01,\n",
       "       -2.12960755e-01, -2.12086097e-01, -2.11128011e-01, -2.10086063e-01,\n",
       "       -2.08959836e-01, -2.07748933e-01, -2.06452976e-01, -2.05071608e-01,\n",
       "       -2.03604489e-01, -2.02051302e-01, -2.00411749e-01, -1.98685551e-01,\n",
       "       -1.96872450e-01, -1.94972211e-01, -1.92984616e-01, -1.90909469e-01,\n",
       "       -1.88746597e-01, -1.86495845e-01, -1.84157080e-01, -1.81730192e-01,\n",
       "       -1.79215090e-01, -1.76611705e-01, -1.73919991e-01, -1.71139922e-01,\n",
       "       -1.68271495e-01, -1.65314726e-01, -1.62269656e-01, -1.59136346e-01,\n",
       "       -1.55914881e-01, -1.52605364e-01, -1.49207924e-01, -1.45722711e-01,\n",
       "       -1.42149895e-01, -1.38489671e-01, -1.34742254e-01, -1.30907883e-01,\n",
       "       -1.26986817e-01, -1.22979339e-01, -1.18885752e-01, -1.14706385e-01,\n",
       "       -1.10441585e-01, -1.06091722e-01, -1.01657190e-01, -9.71384044e-02,\n",
       "       -9.25358006e-02, -8.78498381e-02, -8.30809973e-02, -7.82297807e-02,\n",
       "       -7.32967127e-02, -6.82823391e-02, -6.31872276e-02, -5.80119672e-02,\n",
       "       -5.27571685e-02, -4.74234636e-02, -4.20115055e-02, -3.65219687e-02,\n",
       "       -3.09555485e-02, -2.53129613e-02, -1.95949442e-02, -1.38022552e-02,\n",
       "       -7.93567244e-03, -1.99599485e-03,  4.01595856e-03,  1.00993486e-02,\n",
       "        1.62533163e-02,  2.24769825e-02,  2.87694489e-02,  3.51297975e-02,\n",
       "        4.15570909e-02,  4.80503730e-02,  5.46086683e-02,  6.12309830e-02,\n",
       "        6.79163047e-02,  7.46636025e-02,  8.14718277e-02,  8.83399136e-02,\n",
       "        9.52667758e-02,  1.02251313e-01,  1.09292405e-01,  1.16388917e-01,\n",
       "        1.23539696e-01,  1.30743572e-01,  1.37999361e-01,  1.45305862e-01,\n",
       "        1.52661857e-01,  1.60066113e-01,  1.67517383e-01,  1.75014405e-01,\n",
       "        1.82555901e-01,  1.90140581e-01,  1.97767137e-01,  2.05434251e-01,\n",
       "        2.13140591e-01,  2.20884810e-01,  2.28665549e-01,  2.36481437e-01,\n",
       "        2.44331091e-01,  2.52213114e-01,  2.60126100e-01,  2.68068629e-01,\n",
       "        2.76039273e-01,  2.84036591e-01,  2.92059133e-01,  3.00105439e-01,\n",
       "        3.08174037e-01,  3.16263450e-01,  3.24372187e-01,  3.32498753e-01,\n",
       "        3.40641643e-01,  3.48799342e-01,  3.56970330e-01,  3.65153079e-01,\n",
       "        3.73346055e-01,  3.81547715e-01,  3.89756513e-01,  3.97970896e-01,\n",
       "        4.06189304e-01,  4.14410174e-01,  4.22631939e-01,  4.30853024e-01,\n",
       "        4.39071855e-01,  4.47286850e-01,  4.55496428e-01,  4.63699001e-01,\n",
       "        4.71892981e-01,  4.80076779e-01,  4.88248803e-01,  4.96407459e-01,\n",
       "        5.04551152e-01,  5.12678290e-01,  5.20787277e-01,  5.28876518e-01,\n",
       "        5.36944421e-01,  5.44989392e-01,  5.53009841e-01,  5.61004178e-01,\n",
       "        5.68970816e-01,  5.76908172e-01,  5.84814662e-01,  5.92688711e-01,\n",
       "        6.00528742e-01,  6.08333187e-01,  6.16100479e-01,  6.23829058e-01,\n",
       "        6.31517369e-01,  6.39163861e-01,  6.46766993e-01,  6.54325226e-01,\n",
       "        6.61837030e-01,  6.69300882e-01,  6.76715267e-01,  6.84078677e-01,\n",
       "        6.91389613e-01,  6.98646585e-01,  7.05848111e-01,  7.12992719e-01,\n",
       "        7.20078947e-01,  7.27105343e-01,  7.34070466e-01,  7.40972885e-01,\n",
       "        7.47811180e-01,  7.54583945e-01,  7.61289782e-01,  7.67927309e-01,\n",
       "        7.74495155e-01,  7.80991961e-01,  7.87416383e-01,  7.93767091e-01,\n",
       "        8.00042767e-01,  8.06242108e-01,  8.12363827e-01,  8.18406651e-01,\n",
       "        8.24369321e-01,  8.30250596e-01,  8.36049249e-01,  8.41764070e-01,\n",
       "        8.47393866e-01,  8.52937459e-01,  8.58393691e-01,  8.63761419e-01,\n",
       "        8.69039519e-01,  8.74226883e-01,  8.79322424e-01,  8.84325071e-01,\n",
       "        8.89233774e-01,  8.94047502e-01,  8.98765240e-01,  9.03385996e-01,\n",
       "        9.07908797e-01,  9.12332690e-01,  9.16656742e-01,  9.20880040e-01,\n",
       "        9.25001693e-01,  9.29020831e-01,  9.32936603e-01,  9.36748183e-01,\n",
       "        9.40454764e-01,  9.44055561e-01,  9.47549812e-01,  9.50936777e-01,\n",
       "        9.54215738e-01,  9.57386000e-01,  9.60446891e-01,  9.63397762e-01,\n",
       "        9.66237986e-01,  9.68966959e-01,  9.71584104e-01,  9.74088863e-01,\n",
       "        9.76480704e-01,  9.78759119e-01,  9.80923623e-01,  9.82973757e-01,\n",
       "        9.84909084e-01,  9.86729191e-01,  9.88433693e-01,  9.90022225e-01,\n",
       "        9.91494450e-01,  9.92850054e-01,  9.94088749e-01,  9.95210270e-01,\n",
       "        9.96214379e-01,  9.97100861e-01,  9.97869528e-01,  9.98520217e-01,\n",
       "        9.99052787e-01,  9.99467127e-01,  9.99763146e-01,  9.99940783e-01,\n",
       "        1.00000000e+00,  9.99940783e-01,  9.99763146e-01,  9.99467127e-01,\n",
       "        9.99052787e-01,  9.98520217e-01,  9.97869528e-01,  9.97100861e-01,\n",
       "        9.96214379e-01,  9.95210270e-01,  9.94088749e-01,  9.92850054e-01,\n",
       "        9.91494450e-01,  9.90022225e-01,  9.88433693e-01,  9.86729191e-01,\n",
       "        9.84909084e-01,  9.82973757e-01,  9.80923623e-01,  9.78759119e-01,\n",
       "        9.76480704e-01,  9.74088863e-01,  9.71584104e-01,  9.68966959e-01,\n",
       "        9.66237986e-01,  9.63397762e-01,  9.60446891e-01,  9.57386000e-01,\n",
       "        9.54215738e-01,  9.50936777e-01,  9.47549812e-01,  9.44055561e-01,\n",
       "        9.40454764e-01,  9.36748183e-01,  9.32936603e-01,  9.29020831e-01,\n",
       "        9.25001693e-01,  9.20880040e-01,  9.16656742e-01,  9.12332690e-01,\n",
       "        9.07908797e-01,  9.03385996e-01,  8.98765240e-01,  8.94047502e-01,\n",
       "        8.89233774e-01,  8.84325071e-01,  8.79322424e-01,  8.74226883e-01,\n",
       "        8.69039519e-01,  8.63761419e-01,  8.58393691e-01,  8.52937459e-01,\n",
       "        8.47393866e-01,  8.41764070e-01,  8.36049249e-01,  8.30250596e-01,\n",
       "        8.24369321e-01,  8.18406651e-01,  8.12363827e-01,  8.06242108e-01,\n",
       "        8.00042767e-01,  7.93767091e-01,  7.87416383e-01,  7.80991961e-01,\n",
       "        7.74495155e-01,  7.67927309e-01,  7.61289782e-01,  7.54583945e-01,\n",
       "        7.47811180e-01,  7.40972885e-01,  7.34070466e-01,  7.27105343e-01,\n",
       "        7.20078947e-01,  7.12992719e-01,  7.05848111e-01,  6.98646585e-01,\n",
       "        6.91389613e-01,  6.84078677e-01,  6.76715267e-01,  6.69300882e-01,\n",
       "        6.61837030e-01,  6.54325226e-01,  6.46766993e-01,  6.39163861e-01,\n",
       "        6.31517369e-01,  6.23829058e-01,  6.16100479e-01,  6.08333187e-01,\n",
       "        6.00528742e-01,  5.92688711e-01,  5.84814662e-01,  5.76908172e-01,\n",
       "        5.68970816e-01,  5.61004178e-01,  5.53009841e-01,  5.44989392e-01,\n",
       "        5.36944421e-01,  5.28876518e-01,  5.20787277e-01,  5.12678290e-01,\n",
       "        5.04551152e-01,  4.96407459e-01,  4.88248803e-01,  4.80076779e-01,\n",
       "        4.71892981e-01,  4.63699001e-01,  4.55496428e-01,  4.47286850e-01,\n",
       "        4.39071855e-01,  4.30853024e-01,  4.22631939e-01,  4.14410174e-01,\n",
       "        4.06189304e-01,  3.97970896e-01,  3.89756513e-01,  3.81547715e-01,\n",
       "        3.73346055e-01,  3.65153079e-01,  3.56970330e-01,  3.48799342e-01,\n",
       "        3.40641643e-01,  3.32498753e-01,  3.24372187e-01,  3.16263450e-01,\n",
       "        3.08174037e-01,  3.00105439e-01,  2.92059133e-01,  2.84036591e-01,\n",
       "        2.76039273e-01,  2.68068629e-01,  2.60126100e-01,  2.52213114e-01,\n",
       "        2.44331091e-01,  2.36481437e-01,  2.28665549e-01,  2.20884810e-01,\n",
       "        2.13140591e-01,  2.05434251e-01,  1.97767137e-01,  1.90140581e-01,\n",
       "        1.82555901e-01,  1.75014405e-01,  1.67517383e-01,  1.60066113e-01,\n",
       "        1.52661857e-01,  1.45305862e-01,  1.37999361e-01,  1.30743572e-01,\n",
       "        1.23539696e-01,  1.16388917e-01,  1.09292405e-01,  1.02251313e-01,\n",
       "        9.52667758e-02,  8.83399136e-02,  8.14718277e-02,  7.46636025e-02,\n",
       "        6.79163047e-02,  6.12309830e-02,  5.46086683e-02,  4.80503730e-02,\n",
       "        4.15570909e-02,  3.51297975e-02,  2.87694489e-02,  2.24769825e-02,\n",
       "        1.62533163e-02,  1.00993486e-02,  4.01595856e-03, -1.99599485e-03,\n",
       "       -7.93567244e-03, -1.38022552e-02, -1.95949442e-02, -2.53129613e-02,\n",
       "       -3.09555485e-02, -3.65219687e-02, -4.20115055e-02, -4.74234636e-02,\n",
       "       -5.27571685e-02, -5.80119672e-02, -6.31872276e-02, -6.82823391e-02,\n",
       "       -7.32967127e-02, -7.82297807e-02, -8.30809973e-02, -8.78498381e-02,\n",
       "       -9.25358006e-02, -9.71384044e-02, -1.01657190e-01, -1.06091722e-01,\n",
       "       -1.10441585e-01, -1.14706385e-01, -1.18885752e-01, -1.22979339e-01,\n",
       "       -1.26986817e-01, -1.30907883e-01, -1.34742254e-01, -1.38489671e-01,\n",
       "       -1.42149895e-01, -1.45722711e-01, -1.49207924e-01, -1.52605364e-01,\n",
       "       -1.55914881e-01, -1.59136346e-01, -1.62269656e-01, -1.65314726e-01,\n",
       "       -1.68271495e-01, -1.71139922e-01, -1.73919991e-01, -1.76611705e-01,\n",
       "       -1.79215090e-01, -1.81730192e-01, -1.84157080e-01, -1.86495845e-01,\n",
       "       -1.88746597e-01, -1.90909469e-01, -1.92984616e-01, -1.94972211e-01,\n",
       "       -1.96872450e-01, -1.98685551e-01, -2.00411749e-01, -2.02051302e-01,\n",
       "       -2.03604489e-01, -2.05071608e-01, -2.06452976e-01, -2.07748933e-01,\n",
       "       -2.08959836e-01, -2.10086063e-01, -2.11128011e-01, -2.12086097e-01,\n",
       "       -2.12960755e-01, -2.13752442e-01, -2.14461629e-01, -2.15088808e-01,\n",
       "       -2.15634490e-01, -2.16099203e-01, -2.16483493e-01, -2.16787925e-01,\n",
       "       -2.17013079e-01, -2.17159555e-01, -2.17227968e-01, -2.17218951e-01,\n",
       "       -2.17133155e-01, -2.16971244e-01, -2.16733901e-01, -2.16421824e-01,\n",
       "       -2.16035726e-01, -2.15576337e-01, -2.15044401e-01, -2.14440677e-01,\n",
       "       -2.13765940e-01, -2.13020977e-01, -2.12206591e-01, -2.11323598e-01,\n",
       "       -2.10372830e-01, -2.09355128e-01, -2.08271349e-01, -2.07122363e-01,\n",
       "       -2.05909052e-01, -2.04632308e-01, -2.03293039e-01, -2.01892161e-01,\n",
       "       -2.00430604e-01, -1.98909308e-01, -1.97329223e-01, -1.95691310e-01,\n",
       "       -1.93996540e-01, -1.92245895e-01, -1.90440366e-01, -1.88580952e-01,\n",
       "       -1.86668663e-01, -1.84704515e-01, -1.82689535e-01, -1.80624757e-01,\n",
       "       -1.78511221e-01, -1.76349978e-01, -1.74142082e-01, -1.71888597e-01,\n",
       "       -1.69590592e-01, -1.67249141e-01, -1.64865326e-01, -1.62440234e-01,\n",
       "       -1.59974956e-01, -1.57470588e-01, -1.54928231e-01, -1.52348991e-01,\n",
       "       -1.49733976e-01, -1.47084299e-01, -1.44401076e-01, -1.41685425e-01,\n",
       "       -1.38938467e-01, -1.36161326e-01, -1.33355127e-01, -1.30520997e-01,\n",
       "       -1.27660064e-01, -1.24773457e-01, -1.21862307e-01, -1.18927743e-01,\n",
       "       -1.15970895e-01, -1.12992894e-01, -1.09994868e-01, -1.06977945e-01,\n",
       "       -1.03943254e-01, -1.00891918e-01, -9.78250630e-02, -9.47438087e-02,\n",
       "       -9.16492745e-02, -8.85425766e-02, -8.54248279e-02, -8.22971381e-02,\n",
       "       -7.91606132e-02, -7.60163550e-02, -7.28654612e-02, -6.97090249e-02,\n",
       "       -6.65481343e-02, -6.33838723e-02, -6.02173166e-02, -5.70495391e-02,\n",
       "       -5.38816054e-02, -5.07145753e-02, -4.75495016e-02, -4.43874304e-02,\n",
       "       -4.12294009e-02, -3.80764445e-02, -3.49295854e-02, -3.17898396e-02,\n",
       "       -2.86582150e-02, -2.55357112e-02, -2.24233189e-02, -1.93220201e-02,\n",
       "       -1.62327876e-02, -1.31565847e-02, -1.00943652e-02, -7.04707288e-03,\n",
       "       -4.01564148e-03, -1.00099441e-03,  1.99595545e-03,  4.97430604e-03,\n",
       "        7.93316627e-03,  1.08716562e-02,  1.37889075e-02,  1.66840631e-02,\n",
       "        1.95562781e-02,  2.24047194e-02,  2.52285661e-02,  2.80270097e-02,\n",
       "        3.07992544e-02,  3.35445171e-02,  3.62620274e-02,  3.89510282e-02,\n",
       "        4.16107756e-02,  4.42405392e-02,  4.68396021e-02,  4.94072609e-02,\n",
       "        5.19428265e-02,  5.44456236e-02,  5.69149909e-02,  5.93502816e-02,\n",
       "        6.17508633e-02,  6.41161180e-02,  6.64454425e-02,  6.87382482e-02,\n",
       "        7.09939617e-02,  7.32120241e-02,  7.53918920e-02,  7.75330371e-02,\n",
       "        7.96349461e-02,  8.16971215e-02,  8.37190808e-02,  8.57003574e-02,\n",
       "        8.76404999e-02,  8.95390730e-02,  9.13956566e-02,  9.32098468e-02,\n",
       "        9.49812553e-02,  9.67095096e-02,  9.83942535e-02,  1.00035146e-01,\n",
       "        1.01631863e-01,  1.03184096e-01,  1.04691553e-01,  1.06153956e-01,\n",
       "        1.07571045e-01,  1.08942576e-01,  1.10268322e-01,  1.11548069e-01,\n",
       "        1.12781621e-01,  1.13968798e-01,  1.15109437e-01,  1.16203388e-01,\n",
       "        1.17250521e-01,  1.18250718e-01,  1.19203880e-01,  1.20109922e-01,\n",
       "        1.20968776e-01,  1.21780389e-01,  1.22544724e-01,  1.23261760e-01,\n",
       "        1.23931490e-01,  1.24553925e-01,  1.25129090e-01,  1.25657026e-01,\n",
       "        1.26137788e-01,  1.26571448e-01,  1.26958092e-01,  1.27297822e-01,\n",
       "        1.27590753e-01,  1.27837018e-01,  1.28036761e-01,  1.28190144e-01,\n",
       "        1.28297341e-01,  1.28358542e-01,  1.28373950e-01,  1.28343784e-01,\n",
       "        1.28268275e-01,  1.28147669e-01,  1.27982225e-01,  1.27772217e-01,\n",
       "        1.27517930e-01,  1.27219665e-01,  1.26877735e-01,  1.26492466e-01,\n",
       "        1.26064196e-01,  1.25593277e-01,  1.25080073e-01,  1.24524960e-01,\n",
       "        1.23928327e-01,  1.23290574e-01,  1.22612113e-01,  1.21893369e-01,\n",
       "        1.21134776e-01,  1.20336782e-01,  1.19499843e-01,  1.18624429e-01,\n",
       "        1.17711019e-01,  1.16760102e-01,  1.15772179e-01,  1.14747759e-01,\n",
       "        1.13687362e-01,  1.12591518e-01,  1.11460767e-01,  1.10295655e-01,\n",
       "        1.09096741e-01,  1.07864590e-01,  1.06599778e-01,  1.05302887e-01,\n",
       "        1.03974509e-01,  1.02615242e-01,  1.01225694e-01,  9.98064781e-02,\n",
       "        9.83582166e-02,  9.68815377e-02,  9.53770768e-02,  9.38454757e-02,\n",
       "        9.22873825e-02,  9.07034514e-02,  8.90943425e-02,  8.74607213e-02,\n",
       "        8.58032589e-02,  8.41226314e-02,  8.24195198e-02,  8.06946097e-02,\n",
       "        7.89485911e-02,  7.71821582e-02,  7.53960091e-02,  7.35908455e-02,\n",
       "        7.17673728e-02,  6.99262991e-02,  6.80683359e-02,  6.61941971e-02,\n",
       "        6.43045992e-02,  6.24002609e-02,  6.04819029e-02,  5.85502474e-02,\n",
       "        5.66060184e-02,  5.46499408e-02,  5.26827409e-02,  5.07051454e-02,\n",
       "        4.87178816e-02,  4.67216773e-02,  4.47172600e-02,  4.27053572e-02,\n",
       "        4.06866960e-02,  3.86620026e-02,  3.66320025e-02,  3.45974200e-02,\n",
       "        3.25589780e-02,  3.05173977e-02,  2.84733986e-02,  2.64276980e-02,\n",
       "        2.43810111e-02,  2.23340503e-02,  2.02875255e-02,  1.82421434e-02,\n",
       "        1.61986078e-02,  1.41576187e-02,  1.21198728e-02,  1.00860628e-02,\n",
       "        8.05687732e-03,  6.03300076e-03,  4.01511304e-03,  2.00388935e-03])"
      ]
     },
     "execution_count": 94,
     "metadata": {},
     "output_type": "execute_result"
    }
   ],
   "source": [
    "arr = np.array([], dtype=int)\n",
    "\n",
    "arr2 = np.linspace(-3,3,1000, endpoint=False)\n",
    "\n",
    "for i in range(1000):\n",
    "    arr = np.append(arr,np.sinc(arr2[i]))\n",
    "\n",
    "arr"
   ]
  },
  {
   "cell_type": "markdown",
   "metadata": {},
   "source": [
    "#### Определите среднее значение, максимальное значение, минимальное значение, стандартное отклонение, медиану для этого массива."
   ]
  },
  {
   "cell_type": "code",
   "execution_count": 95,
   "metadata": {},
   "outputs": [
    {
     "ename": "AttributeError",
     "evalue": "module 'numpy' has no attribute 'meanl'",
     "output_type": "error",
     "traceback": [
      "\u001b[0;31m---------------------------------------------------------------------------\u001b[0m",
      "\u001b[0;31mAttributeError\u001b[0m                            Traceback (most recent call last)",
      "\u001b[0;32m<ipython-input-95-5c7484b39510>\u001b[0m in \u001b[0;36m<module>\u001b[0;34m\u001b[0m\n\u001b[0;32m----> 1\u001b[0;31m \u001b[0mprint\u001b[0m\u001b[0;34m(\u001b[0m\u001b[0mnp\u001b[0m\u001b[0;34m.\u001b[0m\u001b[0mmeanl\u001b[0m\u001b[0;34m(\u001b[0m\u001b[0marr\u001b[0m\u001b[0;34m)\u001b[0m\u001b[0;34m)\u001b[0m\u001b[0;34m\u001b[0m\u001b[0;34m\u001b[0m\u001b[0m\n\u001b[0m\u001b[1;32m      2\u001b[0m \u001b[0mprint\u001b[0m\u001b[0;34m(\u001b[0m\u001b[0mnp\u001b[0m\u001b[0;34m.\u001b[0m\u001b[0mmax\u001b[0m\u001b[0;34m(\u001b[0m\u001b[0marr\u001b[0m\u001b[0;34m)\u001b[0m\u001b[0;34m)\u001b[0m\u001b[0;34m\u001b[0m\u001b[0;34m\u001b[0m\u001b[0m\n\u001b[1;32m      3\u001b[0m \u001b[0mprint\u001b[0m\u001b[0;34m(\u001b[0m\u001b[0mnp\u001b[0m\u001b[0;34m.\u001b[0m\u001b[0mmin\u001b[0m\u001b[0;34m(\u001b[0m\u001b[0marr\u001b[0m\u001b[0;34m)\u001b[0m\u001b[0;34m)\u001b[0m\u001b[0;34m\u001b[0m\u001b[0;34m\u001b[0m\u001b[0m\n\u001b[1;32m      4\u001b[0m \u001b[0mprint\u001b[0m\u001b[0;34m(\u001b[0m\u001b[0mnp\u001b[0m\u001b[0;34m.\u001b[0m\u001b[0mstd\u001b[0m\u001b[0;34m(\u001b[0m\u001b[0marr\u001b[0m\u001b[0;34m)\u001b[0m\u001b[0;34m)\u001b[0m\u001b[0;34m\u001b[0m\u001b[0;34m\u001b[0m\u001b[0m\n\u001b[1;32m      5\u001b[0m \u001b[0mprint\u001b[0m\u001b[0;34m(\u001b[0m\u001b[0mnp\u001b[0m\u001b[0;34m.\u001b[0m\u001b[0mmedian\u001b[0m\u001b[0;34m(\u001b[0m\u001b[0marr\u001b[0m\u001b[0;34m)\u001b[0m\u001b[0;34m)\u001b[0m\u001b[0;34m\u001b[0m\u001b[0;34m\u001b[0m\u001b[0m\n",
      "\u001b[0;32m~/.local/lib/python3.8/site-packages/numpy/__init__.py\u001b[0m in \u001b[0;36m__getattr__\u001b[0;34m(attr)\u001b[0m\n\u001b[1;32m    311\u001b[0m                 \u001b[0;32mreturn\u001b[0m \u001b[0mTester\u001b[0m\u001b[0;34m\u001b[0m\u001b[0;34m\u001b[0m\u001b[0m\n\u001b[1;32m    312\u001b[0m \u001b[0;34m\u001b[0m\u001b[0m\n\u001b[0;32m--> 313\u001b[0;31m             raise AttributeError(\"module {!r} has no attribute \"\n\u001b[0m\u001b[1;32m    314\u001b[0m                                  \"{!r}\".format(__name__, attr))\n\u001b[1;32m    315\u001b[0m \u001b[0;34m\u001b[0m\u001b[0m\n",
      "\u001b[0;31mAttributeError\u001b[0m: module 'numpy' has no attribute 'meanl'"
     ]
    }
   ],
   "source": [
    "print(np.meanl(arr))\n",
    "print(np.max(arr))\n",
    "print(np.min(arr))\n",
    "print(np.std(arr))\n",
    "print(np.median(arr))"
   ]
  },
  {
   "cell_type": "markdown",
   "metadata": {},
   "source": [
    "# Задание 2.\n",
    "\n",
    "Используя модуль **pandas**: \n",
    "1. Создайте таблицу с колонками [тип, цвет, масса, размер, стоимость] и индексами [яблоко, банан, апельсин, мандарин, груша, персик, картошка, морковь, лук, капуста]. Заполните массив значениями, отражающими действительность (тип - овощ или фрукт, цвет - строковый тип, остальные колонки - числовой тип).\n",
    "1. Выведите последние 4 записи в таблице.\n",
    "1. Выведите информацию о числе колонок, их типе, числе строк.\n",
    "1. Определите те фрукты, у которых размер больше размера картошки.\n",
    "1. Определите среднюю стоимость тех овощей, которые весят больше банана.\n",
    "1. С помошью итерирования по рядам определите среднюю стоимость фруктов.\n",
    "1. Определите максимальное и минимальное значение, среднее и медиану для массы, размера и стоимости с помощью встроенных статистических функций.\n",
    "1. Определите максимальное и минимальное значение, среднее и медиану для массы, размера и стоимости с помощью метода **agg()**.\n",
    "1. Сгруппируйте таблицу по цвету фруктов и определите среднее и максимальное значение массы и стоимости для этих групп."
   ]
  },
  {
   "cell_type": "markdown",
   "metadata": {},
   "source": [
    "## Создайте таблицу с колонками [тип, цвет, масса, размер, стоимость] и индексами [яблоко, банан, апельсин, мандарин, груша, персик, картошка, морковь, лук, капуста]. Заполните массив значениями, отражающими действительность (тип - овощ или фрукт, цвет - строковый тип, остальные колонки - числовой тип)."
   ]
  },
  {
   "cell_type": "code",
   "execution_count": 96,
   "metadata": {},
   "outputs": [
    {
     "name": "stdout",
     "output_type": "stream",
     "text": [
      "                type       color weight size price\n",
      "apple         fruite       green    120    8    60\n",
      "banana        fruite      yellow    200    9    63\n",
      "orange        fruite      orange    210   10   130\n",
      "tangerine     fruite      orange     60    6    90\n",
      "pear          fruite       green    120    9   200\n",
      "peach         fruite  yellow-red    110    9   250\n",
      "potatoe    vegetable       green     90    7    50\n",
      "carrot     vegetable      orange     80    7    30\n",
      "onion      vegetable      yellow     75    7    40\n",
      "cabbage    vegetable       green   1500   20    43\n"
     ]
    }
   ],
   "source": [
    "baza = pd.DataFrame(index=['apple','banana','orange','tangerine','pear','peach','potatoe','carrot','onion','cabbage'],\n",
    "columns=['type','color','weight','size','price'])\n",
    "baza.astype({'type':str,'color':str})\n",
    "baza.loc['apple'] =     ['fruite',   'green',     120, 8,   60]\n",
    "baza.loc['banana'] =    ['fruite',   'yellow',    200, 9,  63]\n",
    "baza.loc['orange'] =    ['fruite',   'orange',    210, 10,  130]\n",
    "baza.loc['tangerine'] = ['fruite',   'orange',    60,  6,  90]\n",
    "baza.loc['pear'] =      ['fruite',   'green',     120, 9,  200]\n",
    "baza.loc['potatoe'] =   ['vegetable','green',     90,  7,  50]\n",
    "baza.loc['peach'] =     ['fruite',   'yellow-red',110, 9,  250]\n",
    "baza.loc['carrot'] =    ['vegetable','orange',    80,  7,  30]\n",
    "baza.loc['onion'] =     ['vegetable','yellow',    75,  7,  40]\n",
    "baza.loc['cabbage'] =   ['vegetable','green',     1500,20, 43]\n",
    "print(baza)"
   ]
  },
  {
   "cell_type": "markdown",
   "metadata": {},
   "source": [
    "## Выведите последние 4 записи в таблице."
   ]
  },
  {
   "cell_type": "code",
   "execution_count": 97,
   "metadata": {},
   "outputs": [
    {
     "data": {
      "text/html": [
       "<div>\n",
       "<style scoped>\n",
       "    .dataframe tbody tr th:only-of-type {\n",
       "        vertical-align: middle;\n",
       "    }\n",
       "\n",
       "    .dataframe tbody tr th {\n",
       "        vertical-align: top;\n",
       "    }\n",
       "\n",
       "    .dataframe thead th {\n",
       "        text-align: right;\n",
       "    }\n",
       "</style>\n",
       "<table border=\"1\" class=\"dataframe\">\n",
       "  <thead>\n",
       "    <tr style=\"text-align: right;\">\n",
       "      <th></th>\n",
       "      <th>type</th>\n",
       "      <th>color</th>\n",
       "      <th>weight</th>\n",
       "      <th>size</th>\n",
       "      <th>price</th>\n",
       "    </tr>\n",
       "  </thead>\n",
       "  <tbody>\n",
       "    <tr>\n",
       "      <th>potatoe</th>\n",
       "      <td>vegetable</td>\n",
       "      <td>green</td>\n",
       "      <td>90</td>\n",
       "      <td>7</td>\n",
       "      <td>50</td>\n",
       "    </tr>\n",
       "    <tr>\n",
       "      <th>carrot</th>\n",
       "      <td>vegetable</td>\n",
       "      <td>orange</td>\n",
       "      <td>80</td>\n",
       "      <td>7</td>\n",
       "      <td>30</td>\n",
       "    </tr>\n",
       "    <tr>\n",
       "      <th>onion</th>\n",
       "      <td>vegetable</td>\n",
       "      <td>yellow</td>\n",
       "      <td>75</td>\n",
       "      <td>7</td>\n",
       "      <td>40</td>\n",
       "    </tr>\n",
       "    <tr>\n",
       "      <th>cabbage</th>\n",
       "      <td>vegetable</td>\n",
       "      <td>green</td>\n",
       "      <td>1500</td>\n",
       "      <td>20</td>\n",
       "      <td>43</td>\n",
       "    </tr>\n",
       "  </tbody>\n",
       "</table>\n",
       "</div>"
      ],
      "text/plain": [
       "              type   color weight size price\n",
       "potatoe  vegetable   green     90    7    50\n",
       "carrot   vegetable  orange     80    7    30\n",
       "onion    vegetable  yellow     75    7    40\n",
       "cabbage  vegetable   green   1500   20    43"
      ]
     },
     "execution_count": 97,
     "metadata": {},
     "output_type": "execute_result"
    }
   ],
   "source": [
    "baza[-4:]"
   ]
  },
  {
   "cell_type": "markdown",
   "metadata": {},
   "source": [
    "## Выведите информацию о числе колонок, их типе, числе строк."
   ]
  },
  {
   "cell_type": "code",
   "execution_count": 98,
   "metadata": {},
   "outputs": [
    {
     "name": "stdout",
     "output_type": "stream",
     "text": [
      "<class 'pandas.core.frame.DataFrame'>\n",
      "Index: 10 entries, apple to cabbage\n",
      "Data columns (total 5 columns):\n",
      " #   Column  Non-Null Count  Dtype \n",
      "---  ------  --------------  ----- \n",
      " 0   type    10 non-null     object\n",
      " 1   color   10 non-null     object\n",
      " 2   weight  10 non-null     object\n",
      " 3   size    10 non-null     object\n",
      " 4   price   10 non-null     object\n",
      "dtypes: object(5)\n",
      "memory usage: 780.0+ bytes\n"
     ]
    }
   ],
   "source": [
    "baza.info()"
   ]
  },
  {
   "cell_type": "markdown",
   "metadata": {},
   "source": [
    "## Определите те фрукты, у которых размер больше размера картошки."
   ]
  },
  {
   "cell_type": "code",
   "execution_count": 100,
   "metadata": {},
   "outputs": [
    {
     "data": {
      "text/html": [
       "<div>\n",
       "<style scoped>\n",
       "    .dataframe tbody tr th:only-of-type {\n",
       "        vertical-align: middle;\n",
       "    }\n",
       "\n",
       "    .dataframe tbody tr th {\n",
       "        vertical-align: top;\n",
       "    }\n",
       "\n",
       "    .dataframe thead th {\n",
       "        text-align: right;\n",
       "    }\n",
       "</style>\n",
       "<table border=\"1\" class=\"dataframe\">\n",
       "  <thead>\n",
       "    <tr style=\"text-align: right;\">\n",
       "      <th></th>\n",
       "      <th>type</th>\n",
       "      <th>color</th>\n",
       "      <th>weight</th>\n",
       "      <th>size</th>\n",
       "      <th>price</th>\n",
       "    </tr>\n",
       "  </thead>\n",
       "  <tbody>\n",
       "    <tr>\n",
       "      <th>apple</th>\n",
       "      <td>fruite</td>\n",
       "      <td>green</td>\n",
       "      <td>120</td>\n",
       "      <td>8</td>\n",
       "      <td>60</td>\n",
       "    </tr>\n",
       "    <tr>\n",
       "      <th>banana</th>\n",
       "      <td>fruite</td>\n",
       "      <td>yellow</td>\n",
       "      <td>200</td>\n",
       "      <td>9</td>\n",
       "      <td>63</td>\n",
       "    </tr>\n",
       "    <tr>\n",
       "      <th>orange</th>\n",
       "      <td>fruite</td>\n",
       "      <td>orange</td>\n",
       "      <td>210</td>\n",
       "      <td>10</td>\n",
       "      <td>130</td>\n",
       "    </tr>\n",
       "    <tr>\n",
       "      <th>pear</th>\n",
       "      <td>fruite</td>\n",
       "      <td>green</td>\n",
       "      <td>120</td>\n",
       "      <td>9</td>\n",
       "      <td>200</td>\n",
       "    </tr>\n",
       "    <tr>\n",
       "      <th>peach</th>\n",
       "      <td>fruite</td>\n",
       "      <td>yellow-red</td>\n",
       "      <td>110</td>\n",
       "      <td>9</td>\n",
       "      <td>250</td>\n",
       "    </tr>\n",
       "  </tbody>\n",
       "</table>\n",
       "</div>"
      ],
      "text/plain": [
       "          type       color weight size price\n",
       "apple   fruite       green    120    8    60\n",
       "banana  fruite      yellow    200    9    63\n",
       "orange  fruite      orange    210   10   130\n",
       "pear    fruite       green    120    9   200\n",
       "peach   fruite  yellow-red    110    9   250"
      ]
     },
     "execution_count": 100,
     "metadata": {},
     "output_type": "execute_result"
    }
   ],
   "source": [
    "ac = baza.loc[baza['weight'] > baza.loc['potatoe',\"weight\"]]\n",
    "ac.loc[ac['type'] == \"fruite\"]"
   ]
  },
  {
   "cell_type": "markdown",
   "metadata": {},
   "source": [
    "## Определите среднюю стоимость тех овощей, которые весят больше банана."
   ]
  },
  {
   "cell_type": "code",
   "execution_count": 101,
   "metadata": {},
   "outputs": [
    {
     "data": {
      "text/plain": [
       "86.5"
      ]
     },
     "execution_count": 101,
     "metadata": {},
     "output_type": "execute_result"
    }
   ],
   "source": [
    "baza.loc[baza['weight'] > baza.loc['banana','weight']]['price'].mean()"
   ]
  },
  {
   "cell_type": "markdown",
   "metadata": {},
   "source": [
    "## С помошью итерирования по рядам определите среднюю стоимость фруктов."
   ]
  },
  {
   "cell_type": "code",
   "execution_count": 102,
   "metadata": {},
   "outputs": [
    {
     "data": {
      "text/plain": [
       "132.16666666666666"
      ]
     },
     "execution_count": 102,
     "metadata": {},
     "output_type": "execute_result"
    }
   ],
   "source": [
    "sum = 0\n",
    "num = 0\n",
    "for col,ser in baza.iterrows():\n",
    "    if (ser['type'] == 'fruite'):\n",
    "        sum += ser['price']\n",
    "        num += 1\n",
    "sum/num"
   ]
  },
  {
   "cell_type": "markdown",
   "metadata": {},
   "source": [
    "## Определите максимальное и минимальное значение, среднее и медиану для массы, размера и стоимости с помощью встроенных статистических функций."
   ]
  },
  {
   "cell_type": "code",
   "execution_count": null,
   "metadata": {},
   "outputs": [
    {
     "name": "stdout",
     "output_type": "stream",
     "text": [
      "weight    1500\n",
      "size        20\n",
      "price      250\n",
      "dtype: object\n",
      "weight    256.5\n",
      "size        9.2\n",
      "price      95.6\n",
      "dtype: float64\n",
      "weight    60\n",
      "size       6\n",
      "price     30\n",
      "dtype: object\n",
      "weight    115.0\n",
      "size        8.5\n",
      "price      61.5\n",
      "dtype: float64\n"
     ]
    }
   ],
   "source": [
    "print(baza.loc[:,['weight','size','price']].max())\n",
    "print(baza.loc[:,['weight','size','price']].mean())\n",
    "print(baza.loc[:,['weight','size','price']].min())\n",
    "print(baza.loc[:,['weight','size','price']].median())"
   ]
  },
  {
   "cell_type": "markdown",
   "metadata": {},
   "source": [
    "## Определите максимальное и минимальное значение, среднее и медиану для массы, размера и стоимости с помощью метода **agg()**."
   ]
  },
  {
   "cell_type": "code",
   "execution_count": null,
   "metadata": {},
   "outputs": [
    {
     "data": {
      "text/html": [
       "<div>\n",
       "<style scoped>\n",
       "    .dataframe tbody tr th:only-of-type {\n",
       "        vertical-align: middle;\n",
       "    }\n",
       "\n",
       "    .dataframe tbody tr th {\n",
       "        vertical-align: top;\n",
       "    }\n",
       "\n",
       "    .dataframe thead th {\n",
       "        text-align: right;\n",
       "    }\n",
       "</style>\n",
       "<table border=\"1\" class=\"dataframe\">\n",
       "  <thead>\n",
       "    <tr style=\"text-align: right;\">\n",
       "      <th></th>\n",
       "      <th>weight</th>\n",
       "      <th>size</th>\n",
       "      <th>price</th>\n",
       "    </tr>\n",
       "  </thead>\n",
       "  <tbody>\n",
       "    <tr>\n",
       "      <th>max</th>\n",
       "      <td>1500.0</td>\n",
       "      <td>20.0</td>\n",
       "      <td>250.0</td>\n",
       "    </tr>\n",
       "    <tr>\n",
       "      <th>min</th>\n",
       "      <td>60.0</td>\n",
       "      <td>6.0</td>\n",
       "      <td>30.0</td>\n",
       "    </tr>\n",
       "    <tr>\n",
       "      <th>mean</th>\n",
       "      <td>256.5</td>\n",
       "      <td>9.2</td>\n",
       "      <td>95.6</td>\n",
       "    </tr>\n",
       "    <tr>\n",
       "      <th>median</th>\n",
       "      <td>115.0</td>\n",
       "      <td>8.5</td>\n",
       "      <td>61.5</td>\n",
       "    </tr>\n",
       "  </tbody>\n",
       "</table>\n",
       "</div>"
      ],
      "text/plain": [
       "        weight  size  price\n",
       "max     1500.0  20.0  250.0\n",
       "min       60.0   6.0   30.0\n",
       "mean     256.5   9.2   95.6\n",
       "median   115.0   8.5   61.5"
      ]
     },
     "execution_count": 481,
     "metadata": {},
     "output_type": "execute_result"
    }
   ],
   "source": [
    "baza.loc[:,['weight','size','price']].agg([max,min,np.mean,np.median])"
   ]
  },
  {
   "cell_type": "markdown",
   "metadata": {},
   "source": [
    "## Сгруппируйте таблицу по цвету фруктов и определите среднее и максимальное значение массы и стоимости для этих групп."
   ]
  },
  {
   "cell_type": "code",
   "execution_count": null,
   "metadata": {},
   "outputs": [
    {
     "data": {
      "text/html": [
       "<div>\n",
       "<style scoped>\n",
       "    .dataframe tbody tr th:only-of-type {\n",
       "        vertical-align: middle;\n",
       "    }\n",
       "\n",
       "    .dataframe tbody tr th {\n",
       "        vertical-align: top;\n",
       "    }\n",
       "\n",
       "    .dataframe thead tr th {\n",
       "        text-align: left;\n",
       "    }\n",
       "\n",
       "    .dataframe thead tr:last-of-type th {\n",
       "        text-align: right;\n",
       "    }\n",
       "</style>\n",
       "<table border=\"1\" class=\"dataframe\">\n",
       "  <thead>\n",
       "    <tr>\n",
       "      <th></th>\n",
       "      <th colspan=\"4\" halign=\"left\">weight</th>\n",
       "      <th colspan=\"4\" halign=\"left\">size</th>\n",
       "      <th colspan=\"4\" halign=\"left\">price</th>\n",
       "    </tr>\n",
       "    <tr>\n",
       "      <th></th>\n",
       "      <th>max</th>\n",
       "      <th>min</th>\n",
       "      <th>mean</th>\n",
       "      <th>median</th>\n",
       "      <th>max</th>\n",
       "      <th>min</th>\n",
       "      <th>mean</th>\n",
       "      <th>median</th>\n",
       "      <th>max</th>\n",
       "      <th>min</th>\n",
       "      <th>mean</th>\n",
       "      <th>median</th>\n",
       "    </tr>\n",
       "    <tr>\n",
       "      <th>color</th>\n",
       "      <th></th>\n",
       "      <th></th>\n",
       "      <th></th>\n",
       "      <th></th>\n",
       "      <th></th>\n",
       "      <th></th>\n",
       "      <th></th>\n",
       "      <th></th>\n",
       "      <th></th>\n",
       "      <th></th>\n",
       "      <th></th>\n",
       "      <th></th>\n",
       "    </tr>\n",
       "  </thead>\n",
       "  <tbody>\n",
       "    <tr>\n",
       "      <th>green</th>\n",
       "      <td>1500</td>\n",
       "      <td>90</td>\n",
       "      <td>457.500000</td>\n",
       "      <td>120.0</td>\n",
       "      <td>20</td>\n",
       "      <td>7</td>\n",
       "      <td>11.000000</td>\n",
       "      <td>8.5</td>\n",
       "      <td>200</td>\n",
       "      <td>43</td>\n",
       "      <td>88.250000</td>\n",
       "      <td>55.0</td>\n",
       "    </tr>\n",
       "    <tr>\n",
       "      <th>orange</th>\n",
       "      <td>210</td>\n",
       "      <td>60</td>\n",
       "      <td>116.666667</td>\n",
       "      <td>80.0</td>\n",
       "      <td>10</td>\n",
       "      <td>6</td>\n",
       "      <td>7.666667</td>\n",
       "      <td>7.0</td>\n",
       "      <td>130</td>\n",
       "      <td>30</td>\n",
       "      <td>83.333333</td>\n",
       "      <td>90.0</td>\n",
       "    </tr>\n",
       "    <tr>\n",
       "      <th>yellow</th>\n",
       "      <td>200</td>\n",
       "      <td>75</td>\n",
       "      <td>137.500000</td>\n",
       "      <td>137.5</td>\n",
       "      <td>9</td>\n",
       "      <td>7</td>\n",
       "      <td>8.000000</td>\n",
       "      <td>8.0</td>\n",
       "      <td>63</td>\n",
       "      <td>40</td>\n",
       "      <td>51.500000</td>\n",
       "      <td>51.5</td>\n",
       "    </tr>\n",
       "    <tr>\n",
       "      <th>yellow-red</th>\n",
       "      <td>110</td>\n",
       "      <td>110</td>\n",
       "      <td>110.000000</td>\n",
       "      <td>110.0</td>\n",
       "      <td>9</td>\n",
       "      <td>9</td>\n",
       "      <td>9.000000</td>\n",
       "      <td>9.0</td>\n",
       "      <td>250</td>\n",
       "      <td>250</td>\n",
       "      <td>250.000000</td>\n",
       "      <td>250.0</td>\n",
       "    </tr>\n",
       "  </tbody>\n",
       "</table>\n",
       "</div>"
      ],
      "text/plain": [
       "           weight                         size                       price  \\\n",
       "              max  min        mean median  max min       mean median   max   \n",
       "color                                                                        \n",
       "green        1500   90  457.500000  120.0   20   7  11.000000    8.5   200   \n",
       "orange        210   60  116.666667   80.0   10   6   7.666667    7.0   130   \n",
       "yellow        200   75  137.500000  137.5    9   7   8.000000    8.0    63   \n",
       "yellow-red    110  110  110.000000  110.0    9   9   9.000000    9.0   250   \n",
       "\n",
       "                                    \n",
       "            min        mean median  \n",
       "color                               \n",
       "green        43   88.250000   55.0  \n",
       "orange       30   83.333333   90.0  \n",
       "yellow       40   51.500000   51.5  \n",
       "yellow-red  250  250.000000  250.0  "
      ]
     },
     "execution_count": 488,
     "metadata": {},
     "output_type": "execute_result"
    }
   ],
   "source": [
    "baza.groupby(['color']).agg([max,min,np.mean,np.median])"
   ]
  },
  {
   "cell_type": "markdown",
   "metadata": {},
   "source": [
    "## Список литературы"
   ]
  },
  {
   "cell_type": "markdown",
   "metadata": {},
   "source": [
    "- Модуль **numpy** [https://numpy.org/doc/stable/](https://numpy.org/doc/stable/ \"numpy\")\n",
    "- Модуль **pandas** [https://pandas.pydata.org/docs/](https://pandas.pydata.org/docs/ \"pandas\")"
   ]
  }
 ],
 "metadata": {
  "interpreter": {
   "hash": "916dbcbb3f70747c44a77c7bcd40155683ae19c65e1c03b4aa3499c5328201f1"
  },
  "kernelspec": {
   "display_name": "Python 3.8.10 64-bit",
   "name": "python3"
  },
  "language_info": {
   "codemirror_mode": {
    "name": "ipython",
    "version": 3
   },
   "file_extension": ".py",
   "mimetype": "text/x-python",
   "name": "python",
   "nbconvert_exporter": "python",
   "pygments_lexer": "ipython3",
   "version": "3.8.10"
  }
 },
 "nbformat": 4,
 "nbformat_minor": 4
}
